{
 "cells": [
  {
   "cell_type": "markdown",
   "metadata": {},
   "source": [
    "### About Company:\n",
    "--------------------------------------------------------------------------------------------------------------\n",
    "BC Finance company deals in all home loans. They have a presence across all urban, semi-urban and rural areas. \n",
    "The customer first applies for a home loan after that company validates the customer's eligibility for a loan.\n",
    "\n",
    "### Problem:\n",
    "--------------------------------------------------------------------------------------------------------------\n",
    "The company wants to automate the loan eligibility process (real-time) based on customer detail provided while \n",
    "filling out the online application form. \n",
    "\n",
    "The details the users need to provide include\n",
    "\n",
    "| Detail            | Description                                             |\n",
    "|--------------------|---------------------------------------------------------|\n",
    "| Gender             | Gender of the applicant (Male/Female)                    |\n",
    "| Married            | Applicant's marital status (Yes/No)                       |\n",
    "| Dependents         | Number of dependents                                      |\n",
    "| Education          | Applicant's education level (Graduate/Not Graduate)       |\n",
    "| Self_Employed      | Whether the applicant is self-employed (Yes/No)           |\n",
    "| ApplicantIncome    | Applicant's monthly income                                |\n",
    "| CoapplicantIncome  | Co-applicant's monthly income                             |\n",
    "| LoanAmount         | Loan amount requested (in thousands)                      |\n",
    "| Loan_Amount_Term   | Term of loan Days                                |\n",
    "| Credit_History     | Credit history meets guidelines (1 - Yes, 0 - No)         |\n",
    "| Property_Area      | Location of property (Urban/Rural)              |\n",
    "\n",
    "\n",
    "Based on a given dataset a machine learning model needs to be trained to predict whether a load will be approved or not (Folder location \"./Machine-Learning-382-Project-1/Data)\n",
    "\n"
   ]
  },
  {
   "cell_type": "markdown",
   "metadata": {},
   "source": [
    "Werner Janse van Rensburg (577930)\n",
    "\n",
    "Jo-Anne van der Wath (577394)\n",
    "\n",
    "Joshua Moll (578045)\n",
    "\n",
    "Omphile Tladi (577776)\n",
    "\n",
    "Chaleigh Storm (577716)\n",
    "\n",
    "Nontsikelelo Sharon Buhlungu (577878)"
   ]
  },
  {
   "cell_type": "markdown",
   "metadata": {},
   "source": [
    "--------------------------\n",
    "----------------------"
   ]
  },
  {
   "cell_type": "markdown",
   "metadata": {},
   "source": [
    "# MileStone 1: business Understanding"
   ]
  },
  {
   "cell_type": "markdown",
   "metadata": {},
   "source": [
    "\n",
    "# Step 1 Problem statement\n",
    "BC Finance offers home loans to consumers and determines eligibility manually. Loan approval decisions are influenced by a variety of personal details, including income, credit history, employment status, and other factors.  Understanding the correlations between these details and loan approval outcomes is crucial for developing a predictive model to automatically forecast loan approval eligibility.\n"
   ]
  },
  {
   "cell_type": "markdown",
   "metadata": {},
   "source": [
    "--------------------------\n",
    "----------------------\n",
    "# Step 2 Hypothesis\n",
    "The personal details of loan applicants exhibit correlations with loan approval outcomes. Analyzing these correlations using historical loan data will allow us to develop a predictive model that accurately forecasts loan approval based on applicant characteristics and historical patterns.\n",
    " \n",
    "A few possible hypothesis to consider include the following:\n",
    "1.\tApplicants with higher income may be more likely to be eligible for loans\n",
    "2.\tApplicants who are not self-employed may be more likely to be approved for loans\n",
    "3.\tApplicants applying for smaller amounts may be more likely to be approved for loans\n",
    "4.\tApplicants with good credit history will be more likely to be approved \n",
    "\n",
    "--------------------------\n",
    "----------------------\n",
    "# Step 3 Getting the system ready\n",
    "\n",
    "\n"
   ]
  },
  {
   "cell_type": "code",
   "execution_count": 33,
   "metadata": {},
   "outputs": [],
   "source": [
    "\n",
    "import pandas as pd\n",
    "import matplotlib.pyplot as plt\n",
    "import plotly.express as px\n",
    "import seaborn as sns\n",
    "from category_encoders import OneHotEncoder\n",
    "import warnings\n",
    "warnings.simplefilter(action=\"ignore\", category=FutureWarning)\n",
    "import dash\n",
    "from dash import html, dcc, Input, Output\n",
    "from tensorflow.keras.models import Sequential\n",
    "from tensorflow.keras.layers import Dense\n",
    "from sklearn.preprocessing import StandardScaler\n",
    "from sklearn.model_selection import train_test_split\n",
    "import joblib\n",
    "from scikeras.wrappers import KerasClassifier\n",
    "from sklearn.model_selection import StratifiedKFold\n",
    "from sklearn.model_selection import cross_val_score\n",
    "from skimpy import skim\n"
   ]
  },
  {
   "cell_type": "markdown",
   "metadata": {},
   "source": [
    "### <u>Loading the data<u>"
   ]
  },
  {
   "cell_type": "code",
   "execution_count": 34,
   "metadata": {},
   "outputs": [],
   "source": [
    "df_load_raw = pd.read_csv('../data/raw_data.csv')\n",
    "df_load_validation = pd.read_csv('../data/validation.csv')\n",
    "\n",
    "#df_load_raw.info()"
   ]
  },
  {
   "cell_type": "markdown",
   "metadata": {},
   "source": [
    "### <u> Understanding the data"
   ]
  },
  {
   "cell_type": "code",
   "execution_count": 35,
   "metadata": {},
   "outputs": [
    {
     "data": {
      "text/html": [
       "<div>\n",
       "<style scoped>\n",
       "    .dataframe tbody tr th:only-of-type {\n",
       "        vertical-align: middle;\n",
       "    }\n",
       "\n",
       "    .dataframe tbody tr th {\n",
       "        vertical-align: top;\n",
       "    }\n",
       "\n",
       "    .dataframe thead th {\n",
       "        text-align: right;\n",
       "    }\n",
       "</style>\n",
       "<table border=\"1\" class=\"dataframe\">\n",
       "  <thead>\n",
       "    <tr style=\"text-align: right;\">\n",
       "      <th></th>\n",
       "      <th>Loan_ID</th>\n",
       "      <th>Gender</th>\n",
       "      <th>Married</th>\n",
       "      <th>Dependents</th>\n",
       "      <th>Education</th>\n",
       "      <th>Self_Employed</th>\n",
       "      <th>ApplicantIncome</th>\n",
       "      <th>CoapplicantIncome</th>\n",
       "      <th>LoanAmount</th>\n",
       "      <th>Loan_Amount_Term</th>\n",
       "      <th>Credit_History</th>\n",
       "      <th>Property_Area</th>\n",
       "      <th>Loan_Status</th>\n",
       "    </tr>\n",
       "  </thead>\n",
       "  <tbody>\n",
       "    <tr>\n",
       "      <th>0</th>\n",
       "      <td>LP001002</td>\n",
       "      <td>Male</td>\n",
       "      <td>No</td>\n",
       "      <td>0</td>\n",
       "      <td>Graduate</td>\n",
       "      <td>No</td>\n",
       "      <td>5849</td>\n",
       "      <td>0.0</td>\n",
       "      <td>NaN</td>\n",
       "      <td>360.0</td>\n",
       "      <td>1.0</td>\n",
       "      <td>Urban</td>\n",
       "      <td>Y</td>\n",
       "    </tr>\n",
       "    <tr>\n",
       "      <th>1</th>\n",
       "      <td>LP001003</td>\n",
       "      <td>Male</td>\n",
       "      <td>Yes</td>\n",
       "      <td>1</td>\n",
       "      <td>Graduate</td>\n",
       "      <td>No</td>\n",
       "      <td>4583</td>\n",
       "      <td>1508.0</td>\n",
       "      <td>128.0</td>\n",
       "      <td>360.0</td>\n",
       "      <td>1.0</td>\n",
       "      <td>Rural</td>\n",
       "      <td>N</td>\n",
       "    </tr>\n",
       "    <tr>\n",
       "      <th>2</th>\n",
       "      <td>LP001005</td>\n",
       "      <td>Male</td>\n",
       "      <td>Yes</td>\n",
       "      <td>0</td>\n",
       "      <td>Graduate</td>\n",
       "      <td>Yes</td>\n",
       "      <td>3000</td>\n",
       "      <td>0.0</td>\n",
       "      <td>66.0</td>\n",
       "      <td>360.0</td>\n",
       "      <td>1.0</td>\n",
       "      <td>Urban</td>\n",
       "      <td>Y</td>\n",
       "    </tr>\n",
       "    <tr>\n",
       "      <th>3</th>\n",
       "      <td>LP001006</td>\n",
       "      <td>Male</td>\n",
       "      <td>Yes</td>\n",
       "      <td>0</td>\n",
       "      <td>Not Graduate</td>\n",
       "      <td>No</td>\n",
       "      <td>2583</td>\n",
       "      <td>2358.0</td>\n",
       "      <td>120.0</td>\n",
       "      <td>360.0</td>\n",
       "      <td>1.0</td>\n",
       "      <td>Urban</td>\n",
       "      <td>Y</td>\n",
       "    </tr>\n",
       "    <tr>\n",
       "      <th>4</th>\n",
       "      <td>LP001008</td>\n",
       "      <td>Male</td>\n",
       "      <td>No</td>\n",
       "      <td>0</td>\n",
       "      <td>Graduate</td>\n",
       "      <td>No</td>\n",
       "      <td>6000</td>\n",
       "      <td>0.0</td>\n",
       "      <td>141.0</td>\n",
       "      <td>360.0</td>\n",
       "      <td>1.0</td>\n",
       "      <td>Urban</td>\n",
       "      <td>Y</td>\n",
       "    </tr>\n",
       "  </tbody>\n",
       "</table>\n",
       "</div>"
      ],
      "text/plain": [
       "    Loan_ID Gender Married Dependents     Education Self_Employed  \\\n",
       "0  LP001002   Male      No          0      Graduate            No   \n",
       "1  LP001003   Male     Yes          1      Graduate            No   \n",
       "2  LP001005   Male     Yes          0      Graduate           Yes   \n",
       "3  LP001006   Male     Yes          0  Not Graduate            No   \n",
       "4  LP001008   Male      No          0      Graduate            No   \n",
       "\n",
       "   ApplicantIncome  CoapplicantIncome  LoanAmount  Loan_Amount_Term  \\\n",
       "0             5849                0.0         NaN             360.0   \n",
       "1             4583             1508.0       128.0             360.0   \n",
       "2             3000                0.0        66.0             360.0   \n",
       "3             2583             2358.0       120.0             360.0   \n",
       "4             6000                0.0       141.0             360.0   \n",
       "\n",
       "   Credit_History Property_Area Loan_Status  \n",
       "0             1.0         Urban           Y  \n",
       "1             1.0         Rural           N  \n",
       "2             1.0         Urban           Y  \n",
       "3             1.0         Urban           Y  \n",
       "4             1.0         Urban           Y  "
      ]
     },
     "execution_count": 35,
     "metadata": {},
     "output_type": "execute_result"
    }
   ],
   "source": [
    "df_load_raw.head()"
   ]
  },
  {
   "cell_type": "code",
   "execution_count": 36,
   "metadata": {},
   "outputs": [
    {
     "data": {
      "text/plain": [
       "Loan_ID          614\n",
       "Gender             2\n",
       "Married            2\n",
       "Dependents         4\n",
       "Education          2\n",
       "Self_Employed      2\n",
       "Property_Area      3\n",
       "Loan_Status        2\n",
       "dtype: int64"
      ]
     },
     "execution_count": 36,
     "metadata": {},
     "output_type": "execute_result"
    }
   ],
   "source": [
    "#Check the cardinality (small differences in a feature)\n",
    "feature_cardinality = df_load_raw.select_dtypes('object').nunique()\n",
    "feature_cardinality"
   ]
  },
  {
   "cell_type": "code",
   "execution_count": 37,
   "metadata": {},
   "outputs": [],
   "source": [
    "# From the above we can clearly see that Loan_ID will not be usefull so we drop it\n",
    "df_load_raw = df_load_raw.drop(columns = 'Loan_ID')"
   ]
  },
  {
   "cell_type": "code",
   "execution_count": 38,
   "metadata": {},
   "outputs": [
    {
     "name": "stdout",
     "output_type": "stream",
     "text": [
      "<class 'pandas.core.frame.DataFrame'>\n",
      "RangeIndex: 614 entries, 0 to 613\n",
      "Data columns (total 12 columns):\n",
      " #   Column             Non-Null Count  Dtype  \n",
      "---  ------             --------------  -----  \n",
      " 0   Gender             601 non-null    object \n",
      " 1   Married            611 non-null    object \n",
      " 2   Dependents         599 non-null    object \n",
      " 3   Education          614 non-null    object \n",
      " 4   Self_Employed      582 non-null    object \n",
      " 5   ApplicantIncome    614 non-null    int64  \n",
      " 6   CoapplicantIncome  614 non-null    float64\n",
      " 7   LoanAmount         592 non-null    float64\n",
      " 8   Loan_Amount_Term   600 non-null    float64\n",
      " 9   Credit_History     564 non-null    float64\n",
      " 10  Property_Area      614 non-null    object \n",
      " 11  Loan_Status        614 non-null    object \n",
      "dtypes: float64(4), int64(1), object(7)\n",
      "memory usage: 57.7+ KB\n"
     ]
    }
   ],
   "source": [
    "df_load_raw.info()"
   ]
  },
  {
   "cell_type": "code",
   "execution_count": 39,
   "metadata": {},
   "outputs": [
    {
     "data": {
      "text/html": [
       "<pre style=\"white-space:pre;overflow-x:auto;line-height:normal;font-family:Menlo,'DejaVu Sans Mono',consolas,'Courier New',monospace\">╭──────────────────────────────────────────────── skimpy summary ─────────────────────────────────────────────────╮\n",
       "│ <span style=\"font-style: italic\">         Data Summary         </span> <span style=\"font-style: italic\">      Data Types       </span>                                                          │\n",
       "│ ┏━━━━━━━━━━━━━━━━━━━┳━━━━━━━━┓ ┏━━━━━━━━━━━━━┳━━━━━━━┓                                                          │\n",
       "│ ┃<span style=\"color: #008080; text-decoration-color: #008080; font-weight: bold\"> dataframe         </span>┃<span style=\"color: #008080; text-decoration-color: #008080; font-weight: bold\"> Values </span>┃ ┃<span style=\"color: #008080; text-decoration-color: #008080; font-weight: bold\"> Column Type </span>┃<span style=\"color: #008080; text-decoration-color: #008080; font-weight: bold\"> Count </span>┃                                                          │\n",
       "│ ┡━━━━━━━━━━━━━━━━━━━╇━━━━━━━━┩ ┡━━━━━━━━━━━━━╇━━━━━━━┩                                                          │\n",
       "│ │ Number of rows    │ 614    │ │ string      │ 7     │                                                          │\n",
       "│ │ Number of columns │ 12     │ │ float64     │ 4     │                                                          │\n",
       "│ └───────────────────┴────────┘ │ int32       │ 1     │                                                          │\n",
       "│                                └─────────────┴───────┘                                                          │\n",
       "│ <span style=\"font-style: italic\">                                                    number                                                    </span>  │\n",
       "│ ┏━━━━━━━━━━━━━━━━━━━━━━━━┳━━━━━┳━━━━━━━━┳━━━━━━━━┳━━━━━━━━┳━━━━━━┳━━━━━━━━┳━━━━━━━┳━━━━━━━┳━━━━━━━━┳━━━━━━━━━┓  │\n",
       "│ ┃<span style=\"font-weight: bold\"> column_name            </span>┃<span style=\"font-weight: bold\"> NA  </span>┃<span style=\"font-weight: bold\"> NA %   </span>┃<span style=\"font-weight: bold\"> mean   </span>┃<span style=\"font-weight: bold\"> sd     </span>┃<span style=\"font-weight: bold\"> p0   </span>┃<span style=\"font-weight: bold\"> p25    </span>┃<span style=\"font-weight: bold\"> p50   </span>┃<span style=\"font-weight: bold\"> p75   </span>┃<span style=\"font-weight: bold\"> p100   </span>┃<span style=\"font-weight: bold\"> hist    </span>┃  │\n",
       "│ ┡━━━━━━━━━━━━━━━━━━━━━━━━╇━━━━━╇━━━━━━━━╇━━━━━━━━╇━━━━━━━━╇━━━━━━╇━━━━━━━━╇━━━━━━━╇━━━━━━━╇━━━━━━━━╇━━━━━━━━━┩  │\n",
       "│ │ <span style=\"color: #af87ff; text-decoration-color: #af87ff\">ApplicantIncome       </span> │ <span style=\"color: #008080; text-decoration-color: #008080\">  0</span> │ <span style=\"color: #008080; text-decoration-color: #008080\">     0</span> │ <span style=\"color: #008080; text-decoration-color: #008080\">  5400</span> │ <span style=\"color: #008080; text-decoration-color: #008080\">  6100</span> │ <span style=\"color: #008080; text-decoration-color: #008080\"> 150</span> │ <span style=\"color: #008080; text-decoration-color: #008080\">  2900</span> │ <span style=\"color: #008080; text-decoration-color: #008080\"> 3800</span> │ <span style=\"color: #008080; text-decoration-color: #008080\"> 5800</span> │ <span style=\"color: #008080; text-decoration-color: #008080\"> 81000</span> │ <span style=\"color: #008000; text-decoration-color: #008000\">   ▇   </span> │  │\n",
       "│ │ <span style=\"color: #af87ff; text-decoration-color: #af87ff\">CoapplicantIncome     </span> │ <span style=\"color: #008080; text-decoration-color: #008080\">  0</span> │ <span style=\"color: #008080; text-decoration-color: #008080\">     0</span> │ <span style=\"color: #008080; text-decoration-color: #008080\">  1600</span> │ <span style=\"color: #008080; text-decoration-color: #008080\">  2900</span> │ <span style=\"color: #008080; text-decoration-color: #008080\">   0</span> │ <span style=\"color: #008080; text-decoration-color: #008080\">     0</span> │ <span style=\"color: #008080; text-decoration-color: #008080\"> 1200</span> │ <span style=\"color: #008080; text-decoration-color: #008080\"> 2300</span> │ <span style=\"color: #008080; text-decoration-color: #008080\"> 42000</span> │ <span style=\"color: #008000; text-decoration-color: #008000\">   ▇   </span> │  │\n",
       "│ │ <span style=\"color: #af87ff; text-decoration-color: #af87ff\">LoanAmount            </span> │ <span style=\"color: #008080; text-decoration-color: #008080\"> 22</span> │ <span style=\"color: #008080; text-decoration-color: #008080\">  3.58</span> │ <span style=\"color: #008080; text-decoration-color: #008080\">   150</span> │ <span style=\"color: #008080; text-decoration-color: #008080\">    86</span> │ <span style=\"color: #008080; text-decoration-color: #008080\">   9</span> │ <span style=\"color: #008080; text-decoration-color: #008080\">   100</span> │ <span style=\"color: #008080; text-decoration-color: #008080\">  130</span> │ <span style=\"color: #008080; text-decoration-color: #008080\">  170</span> │ <span style=\"color: #008080; text-decoration-color: #008080\">   700</span> │ <span style=\"color: #008000; text-decoration-color: #008000\">  ▇▇▁  </span> │  │\n",
       "│ │ <span style=\"color: #af87ff; text-decoration-color: #af87ff\">Loan_Amount_Term      </span> │ <span style=\"color: #008080; text-decoration-color: #008080\"> 14</span> │ <span style=\"color: #008080; text-decoration-color: #008080\">  2.28</span> │ <span style=\"color: #008080; text-decoration-color: #008080\">   340</span> │ <span style=\"color: #008080; text-decoration-color: #008080\">    65</span> │ <span style=\"color: #008080; text-decoration-color: #008080\">  12</span> │ <span style=\"color: #008080; text-decoration-color: #008080\">   360</span> │ <span style=\"color: #008080; text-decoration-color: #008080\">  360</span> │ <span style=\"color: #008080; text-decoration-color: #008080\">  360</span> │ <span style=\"color: #008080; text-decoration-color: #008080\">   480</span> │ <span style=\"color: #008000; text-decoration-color: #008000\">   ▁ ▇ </span> │  │\n",
       "│ │ <span style=\"color: #af87ff; text-decoration-color: #af87ff\">Credit_History        </span> │ <span style=\"color: #008080; text-decoration-color: #008080\"> 50</span> │ <span style=\"color: #008080; text-decoration-color: #008080\">  8.14</span> │ <span style=\"color: #008080; text-decoration-color: #008080\">  0.84</span> │ <span style=\"color: #008080; text-decoration-color: #008080\">  0.36</span> │ <span style=\"color: #008080; text-decoration-color: #008080\">   0</span> │ <span style=\"color: #008080; text-decoration-color: #008080\">     1</span> │ <span style=\"color: #008080; text-decoration-color: #008080\">    1</span> │ <span style=\"color: #008080; text-decoration-color: #008080\">    1</span> │ <span style=\"color: #008080; text-decoration-color: #008080\">     1</span> │ <span style=\"color: #008000; text-decoration-color: #008000\">▁    ▇ </span> │  │\n",
       "│ └────────────────────────┴─────┴────────┴────────┴────────┴──────┴────────┴───────┴───────┴────────┴─────────┘  │\n",
       "│ <span style=\"font-style: italic\">                                                    string                                                    </span>  │\n",
       "│ ┏━━━━━━━━━━━━━━━━━━━━━━━━━━━━━━┳━━━━━━━━┳━━━━━━━━━━━━┳━━━━━━━━━━━━━━━━━━━━━━━━━━━━━┳━━━━━━━━━━━━━━━━━━━━━━━━━┓  │\n",
       "│ ┃<span style=\"font-weight: bold\"> column_name                  </span>┃<span style=\"font-weight: bold\"> NA     </span>┃<span style=\"font-weight: bold\"> NA %       </span>┃<span style=\"font-weight: bold\"> words per row               </span>┃<span style=\"font-weight: bold\"> total words             </span>┃  │\n",
       "│ ┡━━━━━━━━━━━━━━━━━━━━━━━━━━━━━━╇━━━━━━━━╇━━━━━━━━━━━━╇━━━━━━━━━━━━━━━━━━━━━━━━━━━━━╇━━━━━━━━━━━━━━━━━━━━━━━━━┩  │\n",
       "│ │ <span style=\"color: #af87ff; text-decoration-color: #af87ff\">Gender                      </span> │ <span style=\"color: #008080; text-decoration-color: #008080\">    13</span> │ <span style=\"color: #008080; text-decoration-color: #008080\">      2.12</span> │ <span style=\"color: #008080; text-decoration-color: #008080\">                       0.98</span> │ <span style=\"color: #008080; text-decoration-color: #008080\">                    601</span> │  │\n",
       "│ │ <span style=\"color: #af87ff; text-decoration-color: #af87ff\">Married                     </span> │ <span style=\"color: #008080; text-decoration-color: #008080\">     3</span> │ <span style=\"color: #008080; text-decoration-color: #008080\">      0.49</span> │ <span style=\"color: #008080; text-decoration-color: #008080\">                          1</span> │ <span style=\"color: #008080; text-decoration-color: #008080\">                    611</span> │  │\n",
       "│ │ <span style=\"color: #af87ff; text-decoration-color: #af87ff\">Dependents                  </span> │ <span style=\"color: #008080; text-decoration-color: #008080\">    15</span> │ <span style=\"color: #008080; text-decoration-color: #008080\">      2.44</span> │ <span style=\"color: #008080; text-decoration-color: #008080\">                       0.98</span> │ <span style=\"color: #008080; text-decoration-color: #008080\">                    599</span> │  │\n",
       "│ │ <span style=\"color: #af87ff; text-decoration-color: #af87ff\">Education                   </span> │ <span style=\"color: #008080; text-decoration-color: #008080\">     0</span> │ <span style=\"color: #008080; text-decoration-color: #008080\">         0</span> │ <span style=\"color: #008080; text-decoration-color: #008080\">                        1.2</span> │ <span style=\"color: #008080; text-decoration-color: #008080\">                    748</span> │  │\n",
       "│ │ <span style=\"color: #af87ff; text-decoration-color: #af87ff\">Self_Employed               </span> │ <span style=\"color: #008080; text-decoration-color: #008080\">    32</span> │ <span style=\"color: #008080; text-decoration-color: #008080\">      5.21</span> │ <span style=\"color: #008080; text-decoration-color: #008080\">                       0.95</span> │ <span style=\"color: #008080; text-decoration-color: #008080\">                    582</span> │  │\n",
       "│ │ <span style=\"color: #af87ff; text-decoration-color: #af87ff\">Property_Area               </span> │ <span style=\"color: #008080; text-decoration-color: #008080\">     0</span> │ <span style=\"color: #008080; text-decoration-color: #008080\">         0</span> │ <span style=\"color: #008080; text-decoration-color: #008080\">                          1</span> │ <span style=\"color: #008080; text-decoration-color: #008080\">                    614</span> │  │\n",
       "│ │ <span style=\"color: #af87ff; text-decoration-color: #af87ff\">Loan_Status                 </span> │ <span style=\"color: #008080; text-decoration-color: #008080\">     0</span> │ <span style=\"color: #008080; text-decoration-color: #008080\">         0</span> │ <span style=\"color: #008080; text-decoration-color: #008080\">                          1</span> │ <span style=\"color: #008080; text-decoration-color: #008080\">                    614</span> │  │\n",
       "│ └──────────────────────────────┴────────┴────────────┴─────────────────────────────┴─────────────────────────┘  │\n",
       "╰────────────────────────────────────────────────────── End ──────────────────────────────────────────────────────╯\n",
       "</pre>\n"
      ],
      "text/plain": [
       "╭──────────────────────────────────────────────── skimpy summary ─────────────────────────────────────────────────╮\n",
       "│ \u001b[3m         Data Summary         \u001b[0m \u001b[3m      Data Types       \u001b[0m                                                          │\n",
       "│ ┏━━━━━━━━━━━━━━━━━━━┳━━━━━━━━┓ ┏━━━━━━━━━━━━━┳━━━━━━━┓                                                          │\n",
       "│ ┃\u001b[1;36m \u001b[0m\u001b[1;36mdataframe        \u001b[0m\u001b[1;36m \u001b[0m┃\u001b[1;36m \u001b[0m\u001b[1;36mValues\u001b[0m\u001b[1;36m \u001b[0m┃ ┃\u001b[1;36m \u001b[0m\u001b[1;36mColumn Type\u001b[0m\u001b[1;36m \u001b[0m┃\u001b[1;36m \u001b[0m\u001b[1;36mCount\u001b[0m\u001b[1;36m \u001b[0m┃                                                          │\n",
       "│ ┡━━━━━━━━━━━━━━━━━━━╇━━━━━━━━┩ ┡━━━━━━━━━━━━━╇━━━━━━━┩                                                          │\n",
       "│ │ Number of rows    │ 614    │ │ string      │ 7     │                                                          │\n",
       "│ │ Number of columns │ 12     │ │ float64     │ 4     │                                                          │\n",
       "│ └───────────────────┴────────┘ │ int32       │ 1     │                                                          │\n",
       "│                                └─────────────┴───────┘                                                          │\n",
       "│ \u001b[3m                                                    number                                                    \u001b[0m  │\n",
       "│ ┏━━━━━━━━━━━━━━━━━━━━━━━━┳━━━━━┳━━━━━━━━┳━━━━━━━━┳━━━━━━━━┳━━━━━━┳━━━━━━━━┳━━━━━━━┳━━━━━━━┳━━━━━━━━┳━━━━━━━━━┓  │\n",
       "│ ┃\u001b[1m \u001b[0m\u001b[1mcolumn_name           \u001b[0m\u001b[1m \u001b[0m┃\u001b[1m \u001b[0m\u001b[1mNA \u001b[0m\u001b[1m \u001b[0m┃\u001b[1m \u001b[0m\u001b[1mNA %  \u001b[0m\u001b[1m \u001b[0m┃\u001b[1m \u001b[0m\u001b[1mmean  \u001b[0m\u001b[1m \u001b[0m┃\u001b[1m \u001b[0m\u001b[1msd    \u001b[0m\u001b[1m \u001b[0m┃\u001b[1m \u001b[0m\u001b[1mp0  \u001b[0m\u001b[1m \u001b[0m┃\u001b[1m \u001b[0m\u001b[1mp25   \u001b[0m\u001b[1m \u001b[0m┃\u001b[1m \u001b[0m\u001b[1mp50  \u001b[0m\u001b[1m \u001b[0m┃\u001b[1m \u001b[0m\u001b[1mp75  \u001b[0m\u001b[1m \u001b[0m┃\u001b[1m \u001b[0m\u001b[1mp100  \u001b[0m\u001b[1m \u001b[0m┃\u001b[1m \u001b[0m\u001b[1mhist   \u001b[0m\u001b[1m \u001b[0m┃  │\n",
       "│ ┡━━━━━━━━━━━━━━━━━━━━━━━━╇━━━━━╇━━━━━━━━╇━━━━━━━━╇━━━━━━━━╇━━━━━━╇━━━━━━━━╇━━━━━━━╇━━━━━━━╇━━━━━━━━╇━━━━━━━━━┩  │\n",
       "│ │ \u001b[38;5;141mApplicantIncome       \u001b[0m │ \u001b[36m  0\u001b[0m │ \u001b[36m     0\u001b[0m │ \u001b[36m  5400\u001b[0m │ \u001b[36m  6100\u001b[0m │ \u001b[36m 150\u001b[0m │ \u001b[36m  2900\u001b[0m │ \u001b[36m 3800\u001b[0m │ \u001b[36m 5800\u001b[0m │ \u001b[36m 81000\u001b[0m │ \u001b[32m   ▇   \u001b[0m │  │\n",
       "│ │ \u001b[38;5;141mCoapplicantIncome     \u001b[0m │ \u001b[36m  0\u001b[0m │ \u001b[36m     0\u001b[0m │ \u001b[36m  1600\u001b[0m │ \u001b[36m  2900\u001b[0m │ \u001b[36m   0\u001b[0m │ \u001b[36m     0\u001b[0m │ \u001b[36m 1200\u001b[0m │ \u001b[36m 2300\u001b[0m │ \u001b[36m 42000\u001b[0m │ \u001b[32m   ▇   \u001b[0m │  │\n",
       "│ │ \u001b[38;5;141mLoanAmount            \u001b[0m │ \u001b[36m 22\u001b[0m │ \u001b[36m  3.58\u001b[0m │ \u001b[36m   150\u001b[0m │ \u001b[36m    86\u001b[0m │ \u001b[36m   9\u001b[0m │ \u001b[36m   100\u001b[0m │ \u001b[36m  130\u001b[0m │ \u001b[36m  170\u001b[0m │ \u001b[36m   700\u001b[0m │ \u001b[32m  ▇▇▁  \u001b[0m │  │\n",
       "│ │ \u001b[38;5;141mLoan_Amount_Term      \u001b[0m │ \u001b[36m 14\u001b[0m │ \u001b[36m  2.28\u001b[0m │ \u001b[36m   340\u001b[0m │ \u001b[36m    65\u001b[0m │ \u001b[36m  12\u001b[0m │ \u001b[36m   360\u001b[0m │ \u001b[36m  360\u001b[0m │ \u001b[36m  360\u001b[0m │ \u001b[36m   480\u001b[0m │ \u001b[32m   ▁ ▇ \u001b[0m │  │\n",
       "│ │ \u001b[38;5;141mCredit_History        \u001b[0m │ \u001b[36m 50\u001b[0m │ \u001b[36m  8.14\u001b[0m │ \u001b[36m  0.84\u001b[0m │ \u001b[36m  0.36\u001b[0m │ \u001b[36m   0\u001b[0m │ \u001b[36m     1\u001b[0m │ \u001b[36m    1\u001b[0m │ \u001b[36m    1\u001b[0m │ \u001b[36m     1\u001b[0m │ \u001b[32m▁    ▇ \u001b[0m │  │\n",
       "│ └────────────────────────┴─────┴────────┴────────┴────────┴──────┴────────┴───────┴───────┴────────┴─────────┘  │\n",
       "│ \u001b[3m                                                    string                                                    \u001b[0m  │\n",
       "│ ┏━━━━━━━━━━━━━━━━━━━━━━━━━━━━━━┳━━━━━━━━┳━━━━━━━━━━━━┳━━━━━━━━━━━━━━━━━━━━━━━━━━━━━┳━━━━━━━━━━━━━━━━━━━━━━━━━┓  │\n",
       "│ ┃\u001b[1m \u001b[0m\u001b[1mcolumn_name                 \u001b[0m\u001b[1m \u001b[0m┃\u001b[1m \u001b[0m\u001b[1mNA    \u001b[0m\u001b[1m \u001b[0m┃\u001b[1m \u001b[0m\u001b[1mNA %      \u001b[0m\u001b[1m \u001b[0m┃\u001b[1m \u001b[0m\u001b[1mwords per row              \u001b[0m\u001b[1m \u001b[0m┃\u001b[1m \u001b[0m\u001b[1mtotal words            \u001b[0m\u001b[1m \u001b[0m┃  │\n",
       "│ ┡━━━━━━━━━━━━━━━━━━━━━━━━━━━━━━╇━━━━━━━━╇━━━━━━━━━━━━╇━━━━━━━━━━━━━━━━━━━━━━━━━━━━━╇━━━━━━━━━━━━━━━━━━━━━━━━━┩  │\n",
       "│ │ \u001b[38;5;141mGender                      \u001b[0m │ \u001b[36m    13\u001b[0m │ \u001b[36m      2.12\u001b[0m │ \u001b[36m                       0.98\u001b[0m │ \u001b[36m                    601\u001b[0m │  │\n",
       "│ │ \u001b[38;5;141mMarried                     \u001b[0m │ \u001b[36m     3\u001b[0m │ \u001b[36m      0.49\u001b[0m │ \u001b[36m                          1\u001b[0m │ \u001b[36m                    611\u001b[0m │  │\n",
       "│ │ \u001b[38;5;141mDependents                  \u001b[0m │ \u001b[36m    15\u001b[0m │ \u001b[36m      2.44\u001b[0m │ \u001b[36m                       0.98\u001b[0m │ \u001b[36m                    599\u001b[0m │  │\n",
       "│ │ \u001b[38;5;141mEducation                   \u001b[0m │ \u001b[36m     0\u001b[0m │ \u001b[36m         0\u001b[0m │ \u001b[36m                        1.2\u001b[0m │ \u001b[36m                    748\u001b[0m │  │\n",
       "│ │ \u001b[38;5;141mSelf_Employed               \u001b[0m │ \u001b[36m    32\u001b[0m │ \u001b[36m      5.21\u001b[0m │ \u001b[36m                       0.95\u001b[0m │ \u001b[36m                    582\u001b[0m │  │\n",
       "│ │ \u001b[38;5;141mProperty_Area               \u001b[0m │ \u001b[36m     0\u001b[0m │ \u001b[36m         0\u001b[0m │ \u001b[36m                          1\u001b[0m │ \u001b[36m                    614\u001b[0m │  │\n",
       "│ │ \u001b[38;5;141mLoan_Status                 \u001b[0m │ \u001b[36m     0\u001b[0m │ \u001b[36m         0\u001b[0m │ \u001b[36m                          1\u001b[0m │ \u001b[36m                    614\u001b[0m │  │\n",
       "│ └──────────────────────────────┴────────┴────────────┴─────────────────────────────┴─────────────────────────┘  │\n",
       "╰────────────────────────────────────────────────────── End ──────────────────────────────────────────────────────╯\n"
      ]
     },
     "metadata": {},
     "output_type": "display_data"
    }
   ],
   "source": [
    "skim(df_load_raw)"
   ]
  },
  {
   "cell_type": "markdown",
   "metadata": {},
   "source": [
    "------------\n",
    "--------"
   ]
  },
  {
   "cell_type": "markdown",
   "metadata": {},
   "source": [
    "# Milestone 2: Machine Learning Model Implementation"
   ]
  },
  {
   "cell_type": "markdown",
   "metadata": {},
   "source": [
    "# Step 4. Exploratory Data Analysis"
   ]
  },
  {
   "cell_type": "markdown",
   "metadata": {},
   "source": [
    "## Summary Statistics"
   ]
  },
  {
   "cell_type": "markdown",
   "metadata": {},
   "source": [
    "### <u>Univariate analysis -> Looking at each variable independently"
   ]
  },
  {
   "cell_type": "code",
   "execution_count": 40,
   "metadata": {},
   "outputs": [
    {
     "data": {
      "text/html": [
       "<div>\n",
       "<style scoped>\n",
       "    .dataframe tbody tr th:only-of-type {\n",
       "        vertical-align: middle;\n",
       "    }\n",
       "\n",
       "    .dataframe tbody tr th {\n",
       "        vertical-align: top;\n",
       "    }\n",
       "\n",
       "    .dataframe thead th {\n",
       "        text-align: right;\n",
       "    }\n",
       "</style>\n",
       "<table border=\"1\" class=\"dataframe\">\n",
       "  <thead>\n",
       "    <tr style=\"text-align: right;\">\n",
       "      <th></th>\n",
       "      <th>ApplicantIncome</th>\n",
       "      <th>CoapplicantIncome</th>\n",
       "      <th>LoanAmount</th>\n",
       "      <th>Loan_Amount_Term</th>\n",
       "      <th>Credit_History</th>\n",
       "    </tr>\n",
       "  </thead>\n",
       "  <tbody>\n",
       "    <tr>\n",
       "      <th>count</th>\n",
       "      <td>614.000000</td>\n",
       "      <td>614.000000</td>\n",
       "      <td>592.000000</td>\n",
       "      <td>600.00000</td>\n",
       "      <td>564.000000</td>\n",
       "    </tr>\n",
       "    <tr>\n",
       "      <th>mean</th>\n",
       "      <td>5403.459283</td>\n",
       "      <td>1621.245798</td>\n",
       "      <td>146.412162</td>\n",
       "      <td>342.00000</td>\n",
       "      <td>0.842199</td>\n",
       "    </tr>\n",
       "    <tr>\n",
       "      <th>std</th>\n",
       "      <td>6109.041673</td>\n",
       "      <td>2926.248369</td>\n",
       "      <td>85.587325</td>\n",
       "      <td>65.12041</td>\n",
       "      <td>0.364878</td>\n",
       "    </tr>\n",
       "    <tr>\n",
       "      <th>min</th>\n",
       "      <td>150.000000</td>\n",
       "      <td>0.000000</td>\n",
       "      <td>9.000000</td>\n",
       "      <td>12.00000</td>\n",
       "      <td>0.000000</td>\n",
       "    </tr>\n",
       "    <tr>\n",
       "      <th>25%</th>\n",
       "      <td>2877.500000</td>\n",
       "      <td>0.000000</td>\n",
       "      <td>100.000000</td>\n",
       "      <td>360.00000</td>\n",
       "      <td>1.000000</td>\n",
       "    </tr>\n",
       "    <tr>\n",
       "      <th>50%</th>\n",
       "      <td>3812.500000</td>\n",
       "      <td>1188.500000</td>\n",
       "      <td>128.000000</td>\n",
       "      <td>360.00000</td>\n",
       "      <td>1.000000</td>\n",
       "    </tr>\n",
       "    <tr>\n",
       "      <th>75%</th>\n",
       "      <td>5795.000000</td>\n",
       "      <td>2297.250000</td>\n",
       "      <td>168.000000</td>\n",
       "      <td>360.00000</td>\n",
       "      <td>1.000000</td>\n",
       "    </tr>\n",
       "    <tr>\n",
       "      <th>max</th>\n",
       "      <td>81000.000000</td>\n",
       "      <td>41667.000000</td>\n",
       "      <td>700.000000</td>\n",
       "      <td>480.00000</td>\n",
       "      <td>1.000000</td>\n",
       "    </tr>\n",
       "  </tbody>\n",
       "</table>\n",
       "</div>"
      ],
      "text/plain": [
       "       ApplicantIncome  CoapplicantIncome  LoanAmount  Loan_Amount_Term  \\\n",
       "count       614.000000         614.000000  592.000000         600.00000   \n",
       "mean       5403.459283        1621.245798  146.412162         342.00000   \n",
       "std        6109.041673        2926.248369   85.587325          65.12041   \n",
       "min         150.000000           0.000000    9.000000          12.00000   \n",
       "25%        2877.500000           0.000000  100.000000         360.00000   \n",
       "50%        3812.500000        1188.500000  128.000000         360.00000   \n",
       "75%        5795.000000        2297.250000  168.000000         360.00000   \n",
       "max       81000.000000       41667.000000  700.000000         480.00000   \n",
       "\n",
       "       Credit_History  \n",
       "count      564.000000  \n",
       "mean         0.842199  \n",
       "std          0.364878  \n",
       "min          0.000000  \n",
       "25%          1.000000  \n",
       "50%          1.000000  \n",
       "75%          1.000000  \n",
       "max          1.000000  "
      ]
     },
     "execution_count": 40,
     "metadata": {},
     "output_type": "execute_result"
    }
   ],
   "source": [
    "df_load_raw.describe()"
   ]
  },
  {
   "cell_type": "markdown",
   "metadata": {},
   "source": [
    "Charts"
   ]
  },
  {
   "cell_type": "code",
   "execution_count": 41,
   "metadata": {},
   "outputs": [
    {
     "data": {
      "image/png": "[encoded data removed]",
      "text/plain": [
       "<Figure size 640x480 with 1 Axes>"
      ]
     },
     "metadata": {},
     "output_type": "display_data"
    },
    {
     "data": {
      "image/png": "[encoded data removed]",
      "text/plain": [
       "<Figure size 640x480 with 1 Axes>"
      ]
     },
     "metadata": {},
     "output_type": "display_data"
    },
    {
     "data": {
      "image/png": "[encoded data removed]",
      "text/plain": [
       "<Figure size 640x480 with 1 Axes>"
      ]
     },
     "metadata": {},
     "output_type": "display_data"
    },
    {
     "data": {
      "image/png": "[encoded data removed]",
      "text/plain": [
       "<Figure size 640x480 with 1 Axes>"
      ]
     },
     "metadata": {},
     "output_type": "display_data"
    },
    {
     "data": {
      "image/png": "[encoded data removed]",
      "text/plain": [
       "<Figure size 640x480 with 1 Axes>"
      ]
     },
     "metadata": {},
     "output_type": "display_data"
    },
    {
     "data": {
      "image/png": "[encoded data removed]",
      "text/plain": [
       "<Figure size 640x480 with 1 Axes>"
      ]
     },
     "metadata": {},
     "output_type": "display_data"
    },
    {
     "data": {
      "image/png": "[encoded data removed]",
      "text/plain": [
       "<Figure size 640x480 with 1 Axes>"
      ]
     },
     "metadata": {},
     "output_type": "display_data"
    },
    {
     "data": {
      "image/png": "[encoded data removed]",
      "text/plain": [
       "<Figure size 640x480 with 1 Axes>"
      ]
     },
     "metadata": {},
     "output_type": "display_data"
    },
    {
     "data": {
      "image/png": "[encoded data removed]",
      "text/plain": [
       "<Figure size 640x480 with 1 Axes>"
      ]
     },
     "metadata": {},
     "output_type": "display_data"
    },
    {
     "data": {
      "image/png": "[encoded data removed]",
      "text/plain": [
       "<Figure size 640x480 with 1 Axes>"
      ]
     },
     "metadata": {},
     "output_type": "display_data"
    },
    {
     "data": {
      "image/png": "[encoded data removed]",
      "text/plain": [
       "<Figure size 640x480 with 1 Axes>"
      ]
     },
     "metadata": {},
     "output_type": "display_data"
    },
    {
     "data": {
      "image/png": "[encoded data removed]",
      "text/plain": [
       "<Figure size 640x480 with 1 Axes>"
      ]
     },
     "metadata": {},
     "output_type": "display_data"
    }
   ],
   "source": [
    "for column in df_load_raw.columns:\n",
    "    if df_load_raw[column].dtype == 'object':\n",
    "        # Using a countplot for categorical variables\n",
    "        sns.countplot(x = column, data = df_load_raw)\n",
    "        plt.title(f'Distribution of {column}')\n",
    "        plt.show()\n",
    "    else:\n",
    "        # Using a histogram for numerical variables\n",
    "        sns.histplot(df_load_raw[column], kde = True)\n",
    "        plt.xlabel(column)\n",
    "        plt.ylabel('Frequency')\n",
    "        plt.title(f'Distribution of {column}')\n",
    "        plt.show()"
   ]
  },
  {
   "cell_type": "markdown",
   "metadata": {},
   "source": [
    "### <u>Bivariate Analysis -> Looking at variable relationships"
   ]
  },
  {
   "cell_type": "code",
   "execution_count": 42,
   "metadata": {},
   "outputs": [
    {
     "data": {
      "image/png": "[encoded data removed]",
      "text/plain": [
       "<Figure size 640x480 with 1 Axes>"
      ]
     },
     "metadata": {},
     "output_type": "display_data"
    },
    {
     "data": {
      "image/png": "[encoded data removed]",
      "text/plain": [
       "<Figure size 640x480 with 1 Axes>"
      ]
     },
     "metadata": {},
     "output_type": "display_data"
    },
    {
     "data": {
      "image/png": "[encoded data removed]",
      "text/plain": [
       "<Figure size 640x480 with 1 Axes>"
      ]
     },
     "metadata": {},
     "output_type": "display_data"
    },
    {
     "data": {
      "image/png": "[encoded data removed]",
      "text/plain": [
       "<Figure size 640x480 with 1 Axes>"
      ]
     },
     "metadata": {},
     "output_type": "display_data"
    },
    {
     "data": {
      "image/png": "[encoded data removed]",
      "text/plain": [
       "<Figure size 640x480 with 1 Axes>"
      ]
     },
     "metadata": {},
     "output_type": "display_data"
    },
    {
     "data": {
      "image/png": "[encoded data removed]",
      "text/plain": [
       "<Figure size 640x480 with 1 Axes>"
      ]
     },
     "metadata": {},
     "output_type": "display_data"
    },
    {
     "data": {
      "image/png": "[encoded data removed]",
      "text/plain": [
       "<Figure size 640x480 with 1 Axes>"
      ]
     },
     "metadata": {},
     "output_type": "display_data"
    },
    {
     "data": {
      "image/png": "[encoded data removed]",
      "text/plain": [
       "<Figure size 640x480 with 1 Axes>"
      ]
     },
     "metadata": {},
     "output_type": "display_data"
    },
    {
     "data": {
      "image/png": "[encoded data removed]",
      "text/plain": [
       "<Figure size 640x480 with 1 Axes>"
      ]
     },
     "metadata": {},
     "output_type": "display_data"
    },
    {
     "data": {
      "image/png": "[encoded data removed]",
      "text/plain": [
       "<Figure size 640x480 with 1 Axes>"
      ]
     },
     "metadata": {},
     "output_type": "display_data"
    },
    {
     "data": {
      "image/png": "[encoded data removed]",
      "text/plain": [
       "<Figure size 640x480 with 1 Axes>"
      ]
     },
     "metadata": {},
     "output_type": "display_data"
    },
    {
     "data": {
      "image/png": "[encoded data removed]",
      "text/plain": [
       "<Figure size 640x480 with 1 Axes>"
      ]
     },
     "metadata": {},
     "output_type": "display_data"
    }
   ],
   "source": [
    "for column in df_load_raw.columns:\n",
    "    if df_load_raw[column].dtype == 'object':\n",
    "        # Using a countplot for categorical variables\n",
    "        sns.countplot(x = column, hue ='Loan_Status', data = df_load_raw)\n",
    "        plt.title(f'{column} vs Loan_Status')\n",
    "        plt.show()\n",
    "    else:\n",
    "        # Using a boxplot for numerical variables\n",
    "        sns.boxplot(x ='Loan_Status', y = column, data = df_load_raw)\n",
    "        plt.title(f'{column} vs Loan_Status')\n",
    "        plt.show()"
   ]
  },
  {
   "cell_type": "markdown",
   "metadata": {},
   "source": [
    "--------------\n",
    "-----------"
   ]
  },
  {
   "cell_type": "markdown",
   "metadata": {},
   "source": [
    "# Step 5. Missing value and outlier treatment"
   ]
  },
  {
   "cell_type": "markdown",
   "metadata": {},
   "source": [
    "### <u>Identifying missing values"
   ]
  },
  {
   "cell_type": "code",
   "execution_count": 43,
   "metadata": {},
   "outputs": [
    {
     "data": {
      "text/html": [
       "<pre style=\"white-space:pre;overflow-x:auto;line-height:normal;font-family:Menlo,'DejaVu Sans Mono',consolas,'Courier New',monospace\">╭──────────────────────────────────────────────── skimpy summary ─────────────────────────────────────────────────╮\n",
       "│ <span style=\"font-style: italic\">         Data Summary         </span> <span style=\"font-style: italic\">      Data Types       </span>                                                          │\n",
       "│ ┏━━━━━━━━━━━━━━━━━━━┳━━━━━━━━┓ ┏━━━━━━━━━━━━━┳━━━━━━━┓                                                          │\n",
       "│ ┃<span style=\"color: #008080; text-decoration-color: #008080; font-weight: bold\"> dataframe         </span>┃<span style=\"color: #008080; text-decoration-color: #008080; font-weight: bold\"> Values </span>┃ ┃<span style=\"color: #008080; text-decoration-color: #008080; font-weight: bold\"> Column Type </span>┃<span style=\"color: #008080; text-decoration-color: #008080; font-weight: bold\"> Count </span>┃                                                          │\n",
       "│ ┡━━━━━━━━━━━━━━━━━━━╇━━━━━━━━┩ ┡━━━━━━━━━━━━━╇━━━━━━━┩                                                          │\n",
       "│ │ Number of rows    │ 614    │ │ string      │ 7     │                                                          │\n",
       "│ │ Number of columns │ 12     │ │ float64     │ 4     │                                                          │\n",
       "│ └───────────────────┴────────┘ │ int32       │ 1     │                                                          │\n",
       "│                                └─────────────┴───────┘                                                          │\n",
       "│ <span style=\"font-style: italic\">                                                    number                                                    </span>  │\n",
       "│ ┏━━━━━━━━━━━━━━━━━━━━━━━━┳━━━━━┳━━━━━━━━┳━━━━━━━━┳━━━━━━━━┳━━━━━━┳━━━━━━━━┳━━━━━━━┳━━━━━━━┳━━━━━━━━┳━━━━━━━━━┓  │\n",
       "│ ┃<span style=\"font-weight: bold\"> column_name            </span>┃<span style=\"font-weight: bold\"> NA  </span>┃<span style=\"font-weight: bold\"> NA %   </span>┃<span style=\"font-weight: bold\"> mean   </span>┃<span style=\"font-weight: bold\"> sd     </span>┃<span style=\"font-weight: bold\"> p0   </span>┃<span style=\"font-weight: bold\"> p25    </span>┃<span style=\"font-weight: bold\"> p50   </span>┃<span style=\"font-weight: bold\"> p75   </span>┃<span style=\"font-weight: bold\"> p100   </span>┃<span style=\"font-weight: bold\"> hist    </span>┃  │\n",
       "│ ┡━━━━━━━━━━━━━━━━━━━━━━━━╇━━━━━╇━━━━━━━━╇━━━━━━━━╇━━━━━━━━╇━━━━━━╇━━━━━━━━╇━━━━━━━╇━━━━━━━╇━━━━━━━━╇━━━━━━━━━┩  │\n",
       "│ │ <span style=\"color: #af87ff; text-decoration-color: #af87ff\">ApplicantIncome       </span> │ <span style=\"color: #008080; text-decoration-color: #008080\">  0</span> │ <span style=\"color: #008080; text-decoration-color: #008080\">     0</span> │ <span style=\"color: #008080; text-decoration-color: #008080\">  5400</span> │ <span style=\"color: #008080; text-decoration-color: #008080\">  6100</span> │ <span style=\"color: #008080; text-decoration-color: #008080\"> 150</span> │ <span style=\"color: #008080; text-decoration-color: #008080\">  2900</span> │ <span style=\"color: #008080; text-decoration-color: #008080\"> 3800</span> │ <span style=\"color: #008080; text-decoration-color: #008080\"> 5800</span> │ <span style=\"color: #008080; text-decoration-color: #008080\"> 81000</span> │ <span style=\"color: #008000; text-decoration-color: #008000\">   ▇   </span> │  │\n",
       "│ │ <span style=\"color: #af87ff; text-decoration-color: #af87ff\">CoapplicantIncome     </span> │ <span style=\"color: #008080; text-decoration-color: #008080\">  0</span> │ <span style=\"color: #008080; text-decoration-color: #008080\">     0</span> │ <span style=\"color: #008080; text-decoration-color: #008080\">  1600</span> │ <span style=\"color: #008080; text-decoration-color: #008080\">  2900</span> │ <span style=\"color: #008080; text-decoration-color: #008080\">   0</span> │ <span style=\"color: #008080; text-decoration-color: #008080\">     0</span> │ <span style=\"color: #008080; text-decoration-color: #008080\"> 1200</span> │ <span style=\"color: #008080; text-decoration-color: #008080\"> 2300</span> │ <span style=\"color: #008080; text-decoration-color: #008080\"> 42000</span> │ <span style=\"color: #008000; text-decoration-color: #008000\">   ▇   </span> │  │\n",
       "│ │ <span style=\"color: #af87ff; text-decoration-color: #af87ff\">LoanAmount            </span> │ <span style=\"color: #008080; text-decoration-color: #008080\"> 22</span> │ <span style=\"color: #008080; text-decoration-color: #008080\">  3.58</span> │ <span style=\"color: #008080; text-decoration-color: #008080\">   150</span> │ <span style=\"color: #008080; text-decoration-color: #008080\">    86</span> │ <span style=\"color: #008080; text-decoration-color: #008080\">   9</span> │ <span style=\"color: #008080; text-decoration-color: #008080\">   100</span> │ <span style=\"color: #008080; text-decoration-color: #008080\">  130</span> │ <span style=\"color: #008080; text-decoration-color: #008080\">  170</span> │ <span style=\"color: #008080; text-decoration-color: #008080\">   700</span> │ <span style=\"color: #008000; text-decoration-color: #008000\">  ▇▇▁  </span> │  │\n",
       "│ │ <span style=\"color: #af87ff; text-decoration-color: #af87ff\">Loan_Amount_Term      </span> │ <span style=\"color: #008080; text-decoration-color: #008080\"> 14</span> │ <span style=\"color: #008080; text-decoration-color: #008080\">  2.28</span> │ <span style=\"color: #008080; text-decoration-color: #008080\">   340</span> │ <span style=\"color: #008080; text-decoration-color: #008080\">    65</span> │ <span style=\"color: #008080; text-decoration-color: #008080\">  12</span> │ <span style=\"color: #008080; text-decoration-color: #008080\">   360</span> │ <span style=\"color: #008080; text-decoration-color: #008080\">  360</span> │ <span style=\"color: #008080; text-decoration-color: #008080\">  360</span> │ <span style=\"color: #008080; text-decoration-color: #008080\">   480</span> │ <span style=\"color: #008000; text-decoration-color: #008000\">   ▁ ▇ </span> │  │\n",
       "│ │ <span style=\"color: #af87ff; text-decoration-color: #af87ff\">Credit_History        </span> │ <span style=\"color: #008080; text-decoration-color: #008080\"> 50</span> │ <span style=\"color: #008080; text-decoration-color: #008080\">  8.14</span> │ <span style=\"color: #008080; text-decoration-color: #008080\">  0.84</span> │ <span style=\"color: #008080; text-decoration-color: #008080\">  0.36</span> │ <span style=\"color: #008080; text-decoration-color: #008080\">   0</span> │ <span style=\"color: #008080; text-decoration-color: #008080\">     1</span> │ <span style=\"color: #008080; text-decoration-color: #008080\">    1</span> │ <span style=\"color: #008080; text-decoration-color: #008080\">    1</span> │ <span style=\"color: #008080; text-decoration-color: #008080\">     1</span> │ <span style=\"color: #008000; text-decoration-color: #008000\">▁    ▇ </span> │  │\n",
       "│ └────────────────────────┴─────┴────────┴────────┴────────┴──────┴────────┴───────┴───────┴────────┴─────────┘  │\n",
       "│ <span style=\"font-style: italic\">                                                    string                                                    </span>  │\n",
       "│ ┏━━━━━━━━━━━━━━━━━━━━━━━━━━━━━━┳━━━━━━━━┳━━━━━━━━━━━━┳━━━━━━━━━━━━━━━━━━━━━━━━━━━━━┳━━━━━━━━━━━━━━━━━━━━━━━━━┓  │\n",
       "│ ┃<span style=\"font-weight: bold\"> column_name                  </span>┃<span style=\"font-weight: bold\"> NA     </span>┃<span style=\"font-weight: bold\"> NA %       </span>┃<span style=\"font-weight: bold\"> words per row               </span>┃<span style=\"font-weight: bold\"> total words             </span>┃  │\n",
       "│ ┡━━━━━━━━━━━━━━━━━━━━━━━━━━━━━━╇━━━━━━━━╇━━━━━━━━━━━━╇━━━━━━━━━━━━━━━━━━━━━━━━━━━━━╇━━━━━━━━━━━━━━━━━━━━━━━━━┩  │\n",
       "│ │ <span style=\"color: #af87ff; text-decoration-color: #af87ff\">Gender                      </span> │ <span style=\"color: #008080; text-decoration-color: #008080\">    13</span> │ <span style=\"color: #008080; text-decoration-color: #008080\">      2.12</span> │ <span style=\"color: #008080; text-decoration-color: #008080\">                       0.98</span> │ <span style=\"color: #008080; text-decoration-color: #008080\">                    601</span> │  │\n",
       "│ │ <span style=\"color: #af87ff; text-decoration-color: #af87ff\">Married                     </span> │ <span style=\"color: #008080; text-decoration-color: #008080\">     3</span> │ <span style=\"color: #008080; text-decoration-color: #008080\">      0.49</span> │ <span style=\"color: #008080; text-decoration-color: #008080\">                          1</span> │ <span style=\"color: #008080; text-decoration-color: #008080\">                    611</span> │  │\n",
       "│ │ <span style=\"color: #af87ff; text-decoration-color: #af87ff\">Dependents                  </span> │ <span style=\"color: #008080; text-decoration-color: #008080\">    15</span> │ <span style=\"color: #008080; text-decoration-color: #008080\">      2.44</span> │ <span style=\"color: #008080; text-decoration-color: #008080\">                       0.98</span> │ <span style=\"color: #008080; text-decoration-color: #008080\">                    599</span> │  │\n",
       "│ │ <span style=\"color: #af87ff; text-decoration-color: #af87ff\">Education                   </span> │ <span style=\"color: #008080; text-decoration-color: #008080\">     0</span> │ <span style=\"color: #008080; text-decoration-color: #008080\">         0</span> │ <span style=\"color: #008080; text-decoration-color: #008080\">                        1.2</span> │ <span style=\"color: #008080; text-decoration-color: #008080\">                    748</span> │  │\n",
       "│ │ <span style=\"color: #af87ff; text-decoration-color: #af87ff\">Self_Employed               </span> │ <span style=\"color: #008080; text-decoration-color: #008080\">    32</span> │ <span style=\"color: #008080; text-decoration-color: #008080\">      5.21</span> │ <span style=\"color: #008080; text-decoration-color: #008080\">                       0.95</span> │ <span style=\"color: #008080; text-decoration-color: #008080\">                    582</span> │  │\n",
       "│ │ <span style=\"color: #af87ff; text-decoration-color: #af87ff\">Property_Area               </span> │ <span style=\"color: #008080; text-decoration-color: #008080\">     0</span> │ <span style=\"color: #008080; text-decoration-color: #008080\">         0</span> │ <span style=\"color: #008080; text-decoration-color: #008080\">                          1</span> │ <span style=\"color: #008080; text-decoration-color: #008080\">                    614</span> │  │\n",
       "│ │ <span style=\"color: #af87ff; text-decoration-color: #af87ff\">Loan_Status                 </span> │ <span style=\"color: #008080; text-decoration-color: #008080\">     0</span> │ <span style=\"color: #008080; text-decoration-color: #008080\">         0</span> │ <span style=\"color: #008080; text-decoration-color: #008080\">                          1</span> │ <span style=\"color: #008080; text-decoration-color: #008080\">                    614</span> │  │\n",
       "│ └──────────────────────────────┴────────┴────────────┴─────────────────────────────┴─────────────────────────┘  │\n",
       "╰────────────────────────────────────────────────────── End ──────────────────────────────────────────────────────╯\n",
       "</pre>\n"
      ],
      "text/plain": [
       "╭──────────────────────────────────────────────── skimpy summary ─────────────────────────────────────────────────╮\n",
       "│ \u001b[3m         Data Summary         \u001b[0m \u001b[3m      Data Types       \u001b[0m                                                          │\n",
       "│ ┏━━━━━━━━━━━━━━━━━━━┳━━━━━━━━┓ ┏━━━━━━━━━━━━━┳━━━━━━━┓                                                          │\n",
       "│ ┃\u001b[1;36m \u001b[0m\u001b[1;36mdataframe        \u001b[0m\u001b[1;36m \u001b[0m┃\u001b[1;36m \u001b[0m\u001b[1;36mValues\u001b[0m\u001b[1;36m \u001b[0m┃ ┃\u001b[1;36m \u001b[0m\u001b[1;36mColumn Type\u001b[0m\u001b[1;36m \u001b[0m┃\u001b[1;36m \u001b[0m\u001b[1;36mCount\u001b[0m\u001b[1;36m \u001b[0m┃                                                          │\n",
       "│ ┡━━━━━━━━━━━━━━━━━━━╇━━━━━━━━┩ ┡━━━━━━━━━━━━━╇━━━━━━━┩                                                          │\n",
       "│ │ Number of rows    │ 614    │ │ string      │ 7     │                                                          │\n",
       "│ │ Number of columns │ 12     │ │ float64     │ 4     │                                                          │\n",
       "│ └───────────────────┴────────┘ │ int32       │ 1     │                                                          │\n",
       "│                                └─────────────┴───────┘                                                          │\n",
       "│ \u001b[3m                                                    number                                                    \u001b[0m  │\n",
       "│ ┏━━━━━━━━━━━━━━━━━━━━━━━━┳━━━━━┳━━━━━━━━┳━━━━━━━━┳━━━━━━━━┳━━━━━━┳━━━━━━━━┳━━━━━━━┳━━━━━━━┳━━━━━━━━┳━━━━━━━━━┓  │\n",
       "│ ┃\u001b[1m \u001b[0m\u001b[1mcolumn_name           \u001b[0m\u001b[1m \u001b[0m┃\u001b[1m \u001b[0m\u001b[1mNA \u001b[0m\u001b[1m \u001b[0m┃\u001b[1m \u001b[0m\u001b[1mNA %  \u001b[0m\u001b[1m \u001b[0m┃\u001b[1m \u001b[0m\u001b[1mmean  \u001b[0m\u001b[1m \u001b[0m┃\u001b[1m \u001b[0m\u001b[1msd    \u001b[0m\u001b[1m \u001b[0m┃\u001b[1m \u001b[0m\u001b[1mp0  \u001b[0m\u001b[1m \u001b[0m┃\u001b[1m \u001b[0m\u001b[1mp25   \u001b[0m\u001b[1m \u001b[0m┃\u001b[1m \u001b[0m\u001b[1mp50  \u001b[0m\u001b[1m \u001b[0m┃\u001b[1m \u001b[0m\u001b[1mp75  \u001b[0m\u001b[1m \u001b[0m┃\u001b[1m \u001b[0m\u001b[1mp100  \u001b[0m\u001b[1m \u001b[0m┃\u001b[1m \u001b[0m\u001b[1mhist   \u001b[0m\u001b[1m \u001b[0m┃  │\n",
       "│ ┡━━━━━━━━━━━━━━━━━━━━━━━━╇━━━━━╇━━━━━━━━╇━━━━━━━━╇━━━━━━━━╇━━━━━━╇━━━━━━━━╇━━━━━━━╇━━━━━━━╇━━━━━━━━╇━━━━━━━━━┩  │\n",
       "│ │ \u001b[38;5;141mApplicantIncome       \u001b[0m │ \u001b[36m  0\u001b[0m │ \u001b[36m     0\u001b[0m │ \u001b[36m  5400\u001b[0m │ \u001b[36m  6100\u001b[0m │ \u001b[36m 150\u001b[0m │ \u001b[36m  2900\u001b[0m │ \u001b[36m 3800\u001b[0m │ \u001b[36m 5800\u001b[0m │ \u001b[36m 81000\u001b[0m │ \u001b[32m   ▇   \u001b[0m │  │\n",
       "│ │ \u001b[38;5;141mCoapplicantIncome     \u001b[0m │ \u001b[36m  0\u001b[0m │ \u001b[36m     0\u001b[0m │ \u001b[36m  1600\u001b[0m │ \u001b[36m  2900\u001b[0m │ \u001b[36m   0\u001b[0m │ \u001b[36m     0\u001b[0m │ \u001b[36m 1200\u001b[0m │ \u001b[36m 2300\u001b[0m │ \u001b[36m 42000\u001b[0m │ \u001b[32m   ▇   \u001b[0m │  │\n",
       "│ │ \u001b[38;5;141mLoanAmount            \u001b[0m │ \u001b[36m 22\u001b[0m │ \u001b[36m  3.58\u001b[0m │ \u001b[36m   150\u001b[0m │ \u001b[36m    86\u001b[0m │ \u001b[36m   9\u001b[0m │ \u001b[36m   100\u001b[0m │ \u001b[36m  130\u001b[0m │ \u001b[36m  170\u001b[0m │ \u001b[36m   700\u001b[0m │ \u001b[32m  ▇▇▁  \u001b[0m │  │\n",
       "│ │ \u001b[38;5;141mLoan_Amount_Term      \u001b[0m │ \u001b[36m 14\u001b[0m │ \u001b[36m  2.28\u001b[0m │ \u001b[36m   340\u001b[0m │ \u001b[36m    65\u001b[0m │ \u001b[36m  12\u001b[0m │ \u001b[36m   360\u001b[0m │ \u001b[36m  360\u001b[0m │ \u001b[36m  360\u001b[0m │ \u001b[36m   480\u001b[0m │ \u001b[32m   ▁ ▇ \u001b[0m │  │\n",
       "│ │ \u001b[38;5;141mCredit_History        \u001b[0m │ \u001b[36m 50\u001b[0m │ \u001b[36m  8.14\u001b[0m │ \u001b[36m  0.84\u001b[0m │ \u001b[36m  0.36\u001b[0m │ \u001b[36m   0\u001b[0m │ \u001b[36m     1\u001b[0m │ \u001b[36m    1\u001b[0m │ \u001b[36m    1\u001b[0m │ \u001b[36m     1\u001b[0m │ \u001b[32m▁    ▇ \u001b[0m │  │\n",
       "│ └────────────────────────┴─────┴────────┴────────┴────────┴──────┴────────┴───────┴───────┴────────┴─────────┘  │\n",
       "│ \u001b[3m                                                    string                                                    \u001b[0m  │\n",
       "│ ┏━━━━━━━━━━━━━━━━━━━━━━━━━━━━━━┳━━━━━━━━┳━━━━━━━━━━━━┳━━━━━━━━━━━━━━━━━━━━━━━━━━━━━┳━━━━━━━━━━━━━━━━━━━━━━━━━┓  │\n",
       "│ ┃\u001b[1m \u001b[0m\u001b[1mcolumn_name                 \u001b[0m\u001b[1m \u001b[0m┃\u001b[1m \u001b[0m\u001b[1mNA    \u001b[0m\u001b[1m \u001b[0m┃\u001b[1m \u001b[0m\u001b[1mNA %      \u001b[0m\u001b[1m \u001b[0m┃\u001b[1m \u001b[0m\u001b[1mwords per row              \u001b[0m\u001b[1m \u001b[0m┃\u001b[1m \u001b[0m\u001b[1mtotal words            \u001b[0m\u001b[1m \u001b[0m┃  │\n",
       "│ ┡━━━━━━━━━━━━━━━━━━━━━━━━━━━━━━╇━━━━━━━━╇━━━━━━━━━━━━╇━━━━━━━━━━━━━━━━━━━━━━━━━━━━━╇━━━━━━━━━━━━━━━━━━━━━━━━━┩  │\n",
       "│ │ \u001b[38;5;141mGender                      \u001b[0m │ \u001b[36m    13\u001b[0m │ \u001b[36m      2.12\u001b[0m │ \u001b[36m                       0.98\u001b[0m │ \u001b[36m                    601\u001b[0m │  │\n",
       "│ │ \u001b[38;5;141mMarried                     \u001b[0m │ \u001b[36m     3\u001b[0m │ \u001b[36m      0.49\u001b[0m │ \u001b[36m                          1\u001b[0m │ \u001b[36m                    611\u001b[0m │  │\n",
       "│ │ \u001b[38;5;141mDependents                  \u001b[0m │ \u001b[36m    15\u001b[0m │ \u001b[36m      2.44\u001b[0m │ \u001b[36m                       0.98\u001b[0m │ \u001b[36m                    599\u001b[0m │  │\n",
       "│ │ \u001b[38;5;141mEducation                   \u001b[0m │ \u001b[36m     0\u001b[0m │ \u001b[36m         0\u001b[0m │ \u001b[36m                        1.2\u001b[0m │ \u001b[36m                    748\u001b[0m │  │\n",
       "│ │ \u001b[38;5;141mSelf_Employed               \u001b[0m │ \u001b[36m    32\u001b[0m │ \u001b[36m      5.21\u001b[0m │ \u001b[36m                       0.95\u001b[0m │ \u001b[36m                    582\u001b[0m │  │\n",
       "│ │ \u001b[38;5;141mProperty_Area               \u001b[0m │ \u001b[36m     0\u001b[0m │ \u001b[36m         0\u001b[0m │ \u001b[36m                          1\u001b[0m │ \u001b[36m                    614\u001b[0m │  │\n",
       "│ │ \u001b[38;5;141mLoan_Status                 \u001b[0m │ \u001b[36m     0\u001b[0m │ \u001b[36m         0\u001b[0m │ \u001b[36m                          1\u001b[0m │ \u001b[36m                    614\u001b[0m │  │\n",
       "│ └──────────────────────────────┴────────┴────────────┴─────────────────────────────┴─────────────────────────┘  │\n",
       "╰────────────────────────────────────────────────────── End ──────────────────────────────────────────────────────╯\n"
      ]
     },
     "metadata": {},
     "output_type": "display_data"
    }
   ],
   "source": [
    "# Na valeus are the missing ones from skim\n",
    "skim(df_load_raw)"
   ]
  },
  {
   "cell_type": "markdown",
   "metadata": {},
   "source": [
    "### <u>Strategy for missing values"
   ]
  },
  {
   "cell_type": "markdown",
   "metadata": {},
   "source": [
    "-> For numerical values we will use the mean to fill empty values\n",
    "\n",
    "-> For categorical Values we will use the most frequent value to fill emply values"
   ]
  },
  {
   "cell_type": "code",
   "execution_count": 44,
   "metadata": {},
   "outputs": [
    {
     "data": {
      "text/plain": [
       "Gender               0\n",
       "Married              0\n",
       "Dependents           0\n",
       "Education            0\n",
       "Self_Employed        0\n",
       "ApplicantIncome      0\n",
       "CoapplicantIncome    0\n",
       "LoanAmount           0\n",
       "Loan_Amount_Term     0\n",
       "Credit_History       0\n",
       "Property_Area        0\n",
       "Loan_Status          0\n",
       "dtype: int32"
      ]
     },
     "execution_count": 44,
     "metadata": {},
     "output_type": "execute_result"
    }
   ],
   "source": [
    "df_load_raw['LoanAmount'].fillna(df_load_raw['LoanAmount'].mean(), inplace=True)\n",
    "df_load_raw['Loan_Amount_Term'].fillna(df_load_raw['Loan_Amount_Term'].mode()[0], inplace=True) \n",
    "df_load_raw['Credit_History'].fillna(df_load_raw['Credit_History'].mode()[0], inplace=True)\n",
    "\n",
    "df_load_raw['Gender'].fillna(df_load_raw['Gender'].mode()[0], inplace=True)\n",
    "df_load_raw['Married'].fillna(df_load_raw['Married'].mode()[0], inplace=True)\n",
    "df_load_raw['Dependents'].fillna(df_load_raw['Dependents'].mode()[0], inplace=True)\n",
    "df_load_raw['Self_Employed'].fillna(df_load_raw['Self_Employed'].mode()[0], inplace=True)\n",
    "\n",
    "missing_values = (\n",
    "    df_load_raw.isnull().sum()/len(df_load_raw)*100\n",
    ").round(0).astype(int)\n",
    "\n",
    "missing_values"
   ]
  },
  {
   "cell_type": "markdown",
   "metadata": {},
   "source": [
    "### <u>Identifying Outliers"
   ]
  },
  {
   "cell_type": "code",
   "execution_count": 45,
   "metadata": {},
   "outputs": [
    {
     "data": {
      "application/vnd.plotly.v1+json": {
       "config": {
        "plotlyServerURL": "https://plot.ly"
       },
       "data": [
        {
         "alignmentgroup": "True",
         "hovertemplate": "ApplicantIncome=%{x}<extra></extra>",
         "legendgroup": "",
         "marker": {
          "color": "#636efa"
         },
         "name": "",
         "notched": false,
         "offsetgroup": "",
         "orientation": "h",
         "showlegend": false,
         "type": "box",
         "x": [
          5849,
          4583,
          3000,
          2583,
          6000,
          5417,
          2333,
          3036,
          4006,
          12841,
          3200,
          2500,
          3073,
          1853,
          1299,
          4950,
          3596,
          3510,
          4887,
          2600,
          7660,
          5955,
          2600,
          3365,
          3717,
          9560,
          2799,
          4226,
          1442,
          3750,
          4166,
          3167,
          4692,
          3500,
          12500,
          2275,
          1828,
          3667,
          4166,
          3748,
          3600,
          1800,
          2400,
          3941,
          4695,
          3410,
          5649,
          5821,
          2645,
          4000,
          1928,
          3086,
          4230,
          4616,
          11500,
          2708,
          2132,
          3366,
          8080,
          3357,
          2500,
          3029,
          2609,
          4945,
          4166,
          5726,
          3200,
          10750,
          7100,
          4300,
          3208,
          1875,
          3500,
          4755,
          5266,
          3750,
          3750,
          1000,
          3167,
          3333,
          3846,
          2395,
          1378,
          6000,
          3988,
          2366,
          3333,
          2500,
          8566,
          5695,
          2958,
          6250,
          3273,
          4133,
          3620,
          6782,
          2484,
          1977,
          4188,
          1759,
          4288,
          4843,
          13650,
          4652,
          3816,
          3052,
          11417,
          7333,
          3800,
          2071,
          5316,
          2929,
          3572,
          7451,
          5050,
          14583,
          3167,
          2214,
          5568,
          10408,
          5667,
          4166,
          2137,
          2957,
          4300,
          3692,
          23803,
          3865,
          10513,
          6080,
          20166,
          2014,
          2718,
          3459,
          4895,
          4000,
          4583,
          3316,
          14999,
          4200,
          5042,
          5417,
          6950,
          2698,
          11757,
          2330,
          14866,
          1538,
          10000,
          4860,
          6277,
          2577,
          9166,
          2281,
          3254,
          39999,
          6000,
          9538,
          2980,
          4583,
          1863,
          7933,
          3089,
          4167,
          9323,
          3707,
          4583,
          2439,
          2237,
          8000,
          1820,
          51763,
          3522,
          5708,
          4344,
          3497,
          2045,
          5516,
          3750,
          2333,
          6400,
          1916,
          4600,
          33846,
          3625,
          39147,
          2178,
          2383,
          674,
          9328,
          4885,
          12000,
          6033,
          3858,
          4191,
          3125,
          8333,
          1907,
          3416,
          11000,
          2600,
          4923,
          3992,
          3500,
          3917,
          4408,
          3244,
          3975,
          2479,
          3418,
          10000,
          3430,
          7787,
          5703,
          3173,
          3850,
          150,
          3727,
          5000,
          4283,
          2221,
          4009,
          2971,
          7578,
          6250,
          3250,
          4735,
          6250,
          4758,
          6400,
          2491,
          3716,
          3189,
          8333,
          3155,
          5500,
          5746,
          3463,
          3812,
          3315,
          5819,
          2510,
          2965,
          6250,
          3406,
          6050,
          9703,
          6608,
          2882,
          1809,
          1668,
          3427,
          2583,
          2661,
          16250,
          3083,
          6045,
          5250,
          14683,
          4931,
          6083,
          2060,
          3481,
          7200,
          5166,
          4095,
          4708,
          4333,
          3418,
          2876,
          3237,
          11146,
          2833,
          2620,
          3900,
          2750,
          3993,
          3103,
          14583,
          4100,
          4053,
          3927,
          2301,
          1811,
          20667,
          3158,
          2600,
          3704,
          4124,
          9508,
          3075,
          4400,
          3153,
          5417,
          2383,
          4416,
          6875,
          4666,
          5000,
          2014,
          1800,
          2875,
          5000,
          1625,
          4000,
          2000,
          3762,
          2400,
          20233,
          7667,
          2917,
          2927,
          2507,
          5746,
          2473,
          3399,
          3717,
          2058,
          3541,
          10000,
          2400,
          4342,
          3601,
          3166,
          15000,
          8666,
          4917,
          5818,
          4333,
          2500,
          4384,
          2935,
          2833,
          63337,
          9833,
          5503,
          5250,
          2500,
          1830,
          4160,
          2647,
          2378,
          4554,
          3173,
          2583,
          2499,
          3523,
          3083,
          6333,
          2625,
          9083,
          8750,
          2666,
          5500,
          2423,
          3813,
          8333,
          3875,
          3000,
          5167,
          4723,
          5000,
          4750,
          3013,
          6822,
          6216,
          2500,
          5124,
          6325,
          19730,
          15759,
          5185,
          9323,
          3062,
          2764,
          4817,
          8750,
          4310,
          3069,
          5391,
          3333,
          5941,
          6000,
          7167,
          4566,
          3667,
          2346,
          3010,
          2333,
          5488,
          9167,
          9504,
          2583,
          1993,
          3100,
          3276,
          3180,
          3033,
          3902,
          1500,
          2889,
          2755,
          2500,
          1963,
          7441,
          4547,
          2167,
          2213,
          8300,
          81000,
          3867,
          6256,
          6096,
          2253,
          2149,
          2995,
          2600,
          1600,
          1025,
          3246,
          5829,
          2720,
          1820,
          7250,
          14880,
          2666,
          4606,
          5935,
          2920,
          2717,
          8624,
          6500,
          12876,
          2425,
          3750,
          10047,
          1926,
          2213,
          10416,
          7142,
          3660,
          7901,
          4707,
          37719,
          7333,
          3466,
          4652,
          3539,
          3340,
          2769,
          2309,
          1958,
          3948,
          2483,
          7085,
          3859,
          4301,
          3708,
          4354,
          8334,
          2083,
          7740,
          3015,
          5191,
          4166,
          6000,
          2947,
          16692,
          210,
          4333,
          3450,
          2653,
          4691,
          2500,
          5532,
          16525,
          6700,
          2873,
          16667,
          2947,
          4350,
          3095,
          2083,
          10833,
          8333,
          1958,
          3547,
          18333,
          4583,
          2435,
          2699,
          5333,
          3691,
          17263,
          3597,
          3326,
          2600,
          4625,
          2895,
          6283,
          645,
          3159,
          4865,
          4050,
          3814,
          3510,
          20833,
          3583,
          2479,
          13262,
          3598,
          6065,
          3283,
          2130,
          5815,
          3466,
          2031,
          3074,
          4683,
          3400,
          2192,
          2500,
          5677,
          7948,
          4680,
          17500,
          3775,
          5285,
          2679,
          6783,
          1025,
          4281,
          3588,
          11250,
          18165,
          2550,
          6133,
          3617,
          2917,
          6417,
          4608,
          2138,
          3652,
          2239,
          3017,
          2768,
          3358,
          2526,
          5000,
          2785,
          6633,
          2492,
          3333,
          2454,
          3593,
          5468,
          2667,
          10139,
          3887,
          4180,
          3675,
          19484,
          5923,
          5800,
          8799,
          4467,
          3333,
          3400,
          2378,
          3166,
          3417,
          5116,
          16666,
          6125,
          6406,
          3159,
          3087,
          3229,
          1782,
          3182,
          6540,
          1836,
          3166,
          1880,
          2787,
          4283,
          2297,
          2165,
          4750,
          2726,
          3000,
          6000,
          9357,
          3859,
          16120,
          3833,
          6383,
          2987,
          9963,
          5780,
          416,
          2894,
          5703,
          3676,
          12000,
          2400,
          3400,
          3987,
          3232,
          2900,
          4106,
          8072,
          7583,
          4583
         ],
         "x0": " ",
         "xaxis": "x",
         "y0": " ",
         "yaxis": "y"
        }
       ],
       "layout": {
        "boxmode": "group",
        "legend": {
         "tracegroupgap": 0
        },
        "template": {
         "data": {
          "bar": [
           {
            "error_x": {
             "color": "#2a3f5f"
            },
            "error_y": {
             "color": "#2a3f5f"
            },
            "marker": {
             "line": {
              "color": "#E5ECF6",
              "width": 0.5
             },
             "pattern": {
              "fillmode": "overlay",
              "size": 10,
              "solidity": 0.2
             }
            },
            "type": "bar"
           }
          ],
          "barpolar": [
           {
            "marker": {
             "line": {
              "color": "#E5ECF6",
              "width": 0.5
             },
             "pattern": {
              "fillmode": "overlay",
              "size": 10,
              "solidity": 0.2
             }
            },
            "type": "barpolar"
           }
          ],
          "carpet": [
           {
            "aaxis": {
             "endlinecolor": "#2a3f5f",
             "gridcolor": "white",
             "linecolor": "white",
             "minorgridcolor": "white",
             "startlinecolor": "#2a3f5f"
            },
            "baxis": {
             "endlinecolor": "#2a3f5f",
             "gridcolor": "white",
             "linecolor": "white",
             "minorgridcolor": "white",
             "startlinecolor": "#2a3f5f"
            },
            "type": "carpet"
           }
          ],
          "choropleth": [
           {
            "colorbar": {
             "outlinewidth": 0,
             "ticks": ""
            },
            "type": "choropleth"
           }
          ],
          "contour": [
           {
            "colorbar": {
             "outlinewidth": 0,
             "ticks": ""
            },
            "colorscale": [
             [
              0,
              "#0d0887"
             ],
             [
              0.1111111111111111,
              "#46039f"
             ],
             [
              0.2222222222222222,
              "#7201a8"
             ],
             [
              0.3333333333333333,
              "#9c179e"
             ],
             [
              0.4444444444444444,
              "#bd3786"
             ],
             [
              0.5555555555555556,
              "#d8576b"
             ],
             [
              0.6666666666666666,
              "#ed7953"
             ],
             [
              0.7777777777777778,
              "#fb9f3a"
             ],
             [
              0.8888888888888888,
              "#fdca26"
             ],
             [
              1,
              "#f0f921"
             ]
            ],
            "type": "contour"
           }
          ],
          "contourcarpet": [
           {
            "colorbar": {
             "outlinewidth": 0,
             "ticks": ""
            },
            "type": "contourcarpet"
           }
          ],
          "heatmap": [
           {
            "colorbar": {
             "outlinewidth": 0,
             "ticks": ""
            },
            "colorscale": [
             [
              0,
              "#0d0887"
             ],
             [
              0.1111111111111111,
              "#46039f"
             ],
             [
              0.2222222222222222,
              "#7201a8"
             ],
             [
              0.3333333333333333,
              "#9c179e"
             ],
             [
              0.4444444444444444,
              "#bd3786"
             ],
             [
              0.5555555555555556,
              "#d8576b"
             ],
             [
              0.6666666666666666,
              "#ed7953"
             ],
             [
              0.7777777777777778,
              "#fb9f3a"
             ],
             [
              0.8888888888888888,
              "#fdca26"
             ],
             [
              1,
              "#f0f921"
             ]
            ],
            "type": "heatmap"
           }
          ],
          "heatmapgl": [
           {
            "colorbar": {
             "outlinewidth": 0,
             "ticks": ""
            },
            "colorscale": [
             [
              0,
              "#0d0887"
             ],
             [
              0.1111111111111111,
              "#46039f"
             ],
             [
              0.2222222222222222,
              "#7201a8"
             ],
             [
              0.3333333333333333,
              "#9c179e"
             ],
             [
              0.4444444444444444,
              "#bd3786"
             ],
             [
              0.5555555555555556,
              "#d8576b"
             ],
             [
              0.6666666666666666,
              "#ed7953"
             ],
             [
              0.7777777777777778,
              "#fb9f3a"
             ],
             [
              0.8888888888888888,
              "#fdca26"
             ],
             [
              1,
              "#f0f921"
             ]
            ],
            "type": "heatmapgl"
           }
          ],
          "histogram": [
           {
            "marker": {
             "pattern": {
              "fillmode": "overlay",
              "size": 10,
              "solidity": 0.2
             }
            },
            "type": "histogram"
           }
          ],
          "histogram2d": [
           {
            "colorbar": {
             "outlinewidth": 0,
             "ticks": ""
            },
            "colorscale": [
             [
              0,
              "#0d0887"
             ],
             [
              0.1111111111111111,
              "#46039f"
             ],
             [
              0.2222222222222222,
              "#7201a8"
             ],
             [
              0.3333333333333333,
              "#9c179e"
             ],
             [
              0.4444444444444444,
              "#bd3786"
             ],
             [
              0.5555555555555556,
              "#d8576b"
             ],
             [
              0.6666666666666666,
              "#ed7953"
             ],
             [
              0.7777777777777778,
              "#fb9f3a"
             ],
             [
              0.8888888888888888,
              "#fdca26"
             ],
             [
              1,
              "#f0f921"
             ]
            ],
            "type": "histogram2d"
           }
          ],
          "histogram2dcontour": [
           {
            "colorbar": {
             "outlinewidth": 0,
             "ticks": ""
            },
            "colorscale": [
             [
              0,
              "#0d0887"
             ],
             [
              0.1111111111111111,
              "#46039f"
             ],
             [
              0.2222222222222222,
              "#7201a8"
             ],
             [
              0.3333333333333333,
              "#9c179e"
             ],
             [
              0.4444444444444444,
              "#bd3786"
             ],
             [
              0.5555555555555556,
              "#d8576b"
             ],
             [
              0.6666666666666666,
              "#ed7953"
             ],
             [
              0.7777777777777778,
              "#fb9f3a"
             ],
             [
              0.8888888888888888,
              "#fdca26"
             ],
             [
              1,
              "#f0f921"
             ]
            ],
            "type": "histogram2dcontour"
           }
          ],
          "mesh3d": [
           {
            "colorbar": {
             "outlinewidth": 0,
             "ticks": ""
            },
            "type": "mesh3d"
           }
          ],
          "parcoords": [
           {
            "line": {
             "colorbar": {
              "outlinewidth": 0,
              "ticks": ""
             }
            },
            "type": "parcoords"
           }
          ],
          "pie": [
           {
            "automargin": true,
            "type": "pie"
           }
          ],
          "scatter": [
           {
            "fillpattern": {
             "fillmode": "overlay",
             "size": 10,
             "solidity": 0.2
            },
            "type": "scatter"
           }
          ],
          "scatter3d": [
           {
            "line": {
             "colorbar": {
              "outlinewidth": 0,
              "ticks": ""
             }
            },
            "marker": {
             "colorbar": {
              "outlinewidth": 0,
              "ticks": ""
             }
            },
            "type": "scatter3d"
           }
          ],
          "scattercarpet": [
           {
            "marker": {
             "colorbar": {
              "outlinewidth": 0,
              "ticks": ""
             }
            },
            "type": "scattercarpet"
           }
          ],
          "scattergeo": [
           {
            "marker": {
             "colorbar": {
              "outlinewidth": 0,
              "ticks": ""
             }
            },
            "type": "scattergeo"
           }
          ],
          "scattergl": [
           {
            "marker": {
             "colorbar": {
              "outlinewidth": 0,
              "ticks": ""
             }
            },
            "type": "scattergl"
           }
          ],
          "scattermapbox": [
           {
            "marker": {
             "colorbar": {
              "outlinewidth": 0,
              "ticks": ""
             }
            },
            "type": "scattermapbox"
           }
          ],
          "scatterpolar": [
           {
            "marker": {
             "colorbar": {
              "outlinewidth": 0,
              "ticks": ""
             }
            },
            "type": "scatterpolar"
           }
          ],
          "scatterpolargl": [
           {
            "marker": {
             "colorbar": {
              "outlinewidth": 0,
              "ticks": ""
             }
            },
            "type": "scatterpolargl"
           }
          ],
          "scatterternary": [
           {
            "marker": {
             "colorbar": {
              "outlinewidth": 0,
              "ticks": ""
             }
            },
            "type": "scatterternary"
           }
          ],
          "surface": [
           {
            "colorbar": {
             "outlinewidth": 0,
             "ticks": ""
            },
            "colorscale": [
             [
              0,
              "#0d0887"
             ],
             [
              0.1111111111111111,
              "#46039f"
             ],
             [
              0.2222222222222222,
              "#7201a8"
             ],
             [
              0.3333333333333333,
              "#9c179e"
             ],
             [
              0.4444444444444444,
              "#bd3786"
             ],
             [
              0.5555555555555556,
              "#d8576b"
             ],
             [
              0.6666666666666666,
              "#ed7953"
             ],
             [
              0.7777777777777778,
              "#fb9f3a"
             ],
             [
              0.8888888888888888,
              "#fdca26"
             ],
             [
              1,
              "#f0f921"
             ]
            ],
            "type": "surface"
           }
          ],
          "table": [
           {
            "cells": {
             "fill": {
              "color": "#EBF0F8"
             },
             "line": {
              "color": "white"
             }
            },
            "header": {
             "fill": {
              "color": "#C8D4E3"
             },
             "line": {
              "color": "white"
             }
            },
            "type": "table"
           }
          ]
         },
         "layout": {
          "annotationdefaults": {
           "arrowcolor": "#2a3f5f",
           "arrowhead": 0,
           "arrowwidth": 1
          },
          "autotypenumbers": "strict",
          "coloraxis": {
           "colorbar": {
            "outlinewidth": 0,
            "ticks": ""
           }
          },
          "colorscale": {
           "diverging": [
            [
             0,
             "#8e0152"
            ],
            [
             0.1,
             "#c51b7d"
            ],
            [
             0.2,
             "#de77ae"
            ],
            [
             0.3,
             "#f1b6da"
            ],
            [
             0.4,
             "#fde0ef"
            ],
            [
             0.5,
             "#f7f7f7"
            ],
            [
             0.6,
             "#e6f5d0"
            ],
            [
             0.7,
             "#b8e186"
            ],
            [
             0.8,
             "#7fbc41"
            ],
            [
             0.9,
             "#4d9221"
            ],
            [
             1,
             "#276419"
            ]
           ],
           "sequential": [
            [
             0,
             "#0d0887"
            ],
            [
             0.1111111111111111,
             "#46039f"
            ],
            [
             0.2222222222222222,
             "#7201a8"
            ],
            [
             0.3333333333333333,
             "#9c179e"
            ],
            [
             0.4444444444444444,
             "#bd3786"
            ],
            [
             0.5555555555555556,
             "#d8576b"
            ],
            [
             0.6666666666666666,
             "#ed7953"
            ],
            [
             0.7777777777777778,
             "#fb9f3a"
            ],
            [
             0.8888888888888888,
             "#fdca26"
            ],
            [
             1,
             "#f0f921"
            ]
           ],
           "sequentialminus": [
            [
             0,
             "#0d0887"
            ],
            [
             0.1111111111111111,
             "#46039f"
            ],
            [
             0.2222222222222222,
             "#7201a8"
            ],
            [
             0.3333333333333333,
             "#9c179e"
            ],
            [
             0.4444444444444444,
             "#bd3786"
            ],
            [
             0.5555555555555556,
             "#d8576b"
            ],
            [
             0.6666666666666666,
             "#ed7953"
            ],
            [
             0.7777777777777778,
             "#fb9f3a"
            ],
            [
             0.8888888888888888,
             "#fdca26"
            ],
            [
             1,
             "#f0f921"
            ]
           ]
          },
          "colorway": [
           "#636efa",
           "#EF553B",
           "#00cc96",
           "#ab63fa",
           "#FFA15A",
           "#19d3f3",
           "#FF6692",
           "#B6E880",
           "#FF97FF",
           "#FECB52"
          ],
          "font": {
           "color": "#2a3f5f"
          },
          "geo": {
           "bgcolor": "white",
           "lakecolor": "white",
           "landcolor": "#E5ECF6",
           "showlakes": true,
           "showland": true,
           "subunitcolor": "white"
          },
          "hoverlabel": {
           "align": "left"
          },
          "hovermode": "closest",
          "mapbox": {
           "style": "light"
          },
          "paper_bgcolor": "white",
          "plot_bgcolor": "#E5ECF6",
          "polar": {
           "angularaxis": {
            "gridcolor": "white",
            "linecolor": "white",
            "ticks": ""
           },
           "bgcolor": "#E5ECF6",
           "radialaxis": {
            "gridcolor": "white",
            "linecolor": "white",
            "ticks": ""
           }
          },
          "scene": {
           "xaxis": {
            "backgroundcolor": "#E5ECF6",
            "gridcolor": "white",
            "gridwidth": 2,
            "linecolor": "white",
            "showbackground": true,
            "ticks": "",
            "zerolinecolor": "white"
           },
           "yaxis": {
            "backgroundcolor": "#E5ECF6",
            "gridcolor": "white",
            "gridwidth": 2,
            "linecolor": "white",
            "showbackground": true,
            "ticks": "",
            "zerolinecolor": "white"
           },
           "zaxis": {
            "backgroundcolor": "#E5ECF6",
            "gridcolor": "white",
            "gridwidth": 2,
            "linecolor": "white",
            "showbackground": true,
            "ticks": "",
            "zerolinecolor": "white"
           }
          },
          "shapedefaults": {
           "line": {
            "color": "#2a3f5f"
           }
          },
          "ternary": {
           "aaxis": {
            "gridcolor": "white",
            "linecolor": "white",
            "ticks": ""
           },
           "baxis": {
            "gridcolor": "white",
            "linecolor": "white",
            "ticks": ""
           },
           "bgcolor": "#E5ECF6",
           "caxis": {
            "gridcolor": "white",
            "linecolor": "white",
            "ticks": ""
           }
          },
          "title": {
           "x": 0.05
          },
          "xaxis": {
           "automargin": true,
           "gridcolor": "white",
           "linecolor": "white",
           "ticks": "",
           "title": {
            "standoff": 15
           },
           "zerolinecolor": "white",
           "zerolinewidth": 2
          },
          "yaxis": {
           "automargin": true,
           "gridcolor": "white",
           "linecolor": "white",
           "ticks": "",
           "title": {
            "standoff": 15
           },
           "zerolinecolor": "white",
           "zerolinewidth": 2
          }
         }
        },
        "title": {
         "text": "Boxplot of the ApplicantIncome Target  - With Outliers"
        },
        "xaxis": {
         "anchor": "y",
         "domain": [
          0,
          1
         ],
         "title": {
          "text": "Target"
         }
        },
        "yaxis": {
         "anchor": "x",
         "domain": [
          0,
          1
         ]
        }
       }
      }
     },
     "metadata": {},
     "output_type": "display_data"
    },
    {
     "data": {
      "application/vnd.plotly.v1+json": {
       "config": {
        "plotlyServerURL": "https://plot.ly"
       },
       "data": [
        {
         "alignmentgroup": "True",
         "hovertemplate": "CoapplicantIncome=%{x}<extra></extra>",
         "legendgroup": "",
         "marker": {
          "color": "#636efa"
         },
         "name": "",
         "notched": false,
         "offsetgroup": "",
         "orientation": "h",
         "showlegend": false,
         "type": "box",
         "x": [
          0,
          1508,
          0,
          2358,
          0,
          4196,
          1516,
          2504,
          1526,
          10968,
          700,
          1840,
          8106,
          2840,
          1086,
          0,
          0,
          0,
          0,
          3500,
          0,
          5625,
          1911,
          1917,
          2925,
          0,
          2253,
          1040,
          0,
          2083,
          3369,
          0,
          0,
          1667,
          3000,
          2067,
          1330,
          1459,
          7210,
          1668,
          0,
          1213,
          0,
          2336,
          0,
          0,
          0,
          0,
          3440,
          2275,
          1644,
          0,
          0,
          0,
          0,
          1167,
          1591,
          2200,
          2250,
          2859,
          3796,
          0,
          3449,
          0,
          0,
          4595,
          2254,
          0,
          0,
          0,
          3066,
          1875,
          0,
          0,
          1774,
          0,
          4750,
          3022,
          4000,
          2166,
          0,
          0,
          1881,
          2250,
          0,
          2531,
          2000,
          2118,
          0,
          4167,
          2900,
          5654,
          1820,
          0,
          0,
          0,
          2302,
          997,
          0,
          3541,
          3263,
          3806,
          0,
          3583,
          754,
          1030,
          1126,
          0,
          3600,
          754,
          0,
          2333,
          4114,
          0,
          0,
          0,
          2283,
          1398,
          2142,
          0,
          2667,
          0,
          8980,
          0,
          2014,
          0,
          0,
          1640,
          3850,
          2569,
          0,
          1929,
          0,
          0,
          0,
          7750,
          0,
          3500,
          0,
          1430,
          2083,
          0,
          0,
          2034,
          0,
          4486,
          0,
          1425,
          1666,
          830,
          0,
          3750,
          0,
          0,
          0,
          0,
          0,
          0,
          2083,
          5625,
          1041,
          0,
          1280,
          1447,
          0,
          3166,
          0,
          3333,
          0,
          0,
          1769,
          0,
          0,
          5625,
          736,
          1964,
          1619,
          11300,
          0,
          1451,
          7250,
          5063,
          0,
          0,
          0,
          4750,
          0,
          2138,
          5296,
          0,
          0,
          0,
          0,
          0,
          0,
          2583,
          3750,
          2365,
          2816,
          0,
          2500,
          0,
          0,
          1083,
          0,
          0,
          0,
          2531,
          0,
          0,
          0,
          1250,
          0,
          0,
          3021,
          983,
          1800,
          1775,
          0,
          2383,
          0,
          1717,
          2791,
          1010,
          0,
          0,
          0,
          1695,
          0,
          0,
          2054,
          0,
          2598,
          0,
          1779,
          1260,
          0,
          0,
          0,
          0,
          5000,
          1983,
          5701,
          1300,
          4417,
          4333,
          0,
          0,
          1843,
          1868,
          3890,
          0,
          2167,
          7101,
          0,
          0,
          0,
          0,
          2100,
          0,
          4250,
          2209,
          0,
          0,
          0,
          3447,
          1387,
          1811,
          0,
          1560,
          0,
          0,
          1857,
          2223,
          0,
          1842,
          3274,
          1300,
          0,
          0,
          2426,
          800,
          985.7999878,
          1666,
          0,
          3053,
          1717,
          2000,
          0,
          0,
          2416,
          0,
          1560,
          0,
          3334,
          1250,
          0,
          0,
          2541,
          2925,
          2934,
          1750,
          0,
          1803,
          2500,
          0,
          1666,
          1863,
          0,
          0,
          0,
          2405,
          0,
          0,
          1843,
          1640,
          0,
          2134,
          0,
          0,
          2167,
          189,
          1590,
          2985,
          0,
          4983,
          0,
          2160,
          2451,
          0,
          1793,
          0,
          0,
          0,
          1833,
          4490,
          688,
          4600,
          0,
          0,
          1587,
          0,
          1229,
          0,
          2330,
          2458,
          3230,
          2168,
          4583,
          6250,
          0,
          4167,
          2083,
          0,
          505,
          0,
          3167,
          0,
          1666,
          3167,
          0,
          3667,
          2333,
          3033,
          0,
          0,
          0,
          0,
          0,
          5266,
          0,
          0,
          7873,
          1987,
          1459,
          923,
          4996,
          0,
          0,
          0,
          2500,
          4232,
          0,
          0,
          0,
          0,
          1600,
          3136,
          2417,
          0,
          0,
          0,
          2115,
          1625,
          1400,
          484,
          0,
          1459,
          1666,
          1800,
          0,
          0,
          20000,
          0,
          0,
          0,
          2400,
          0,
          0,
          0,
          0,
          0,
          0,
          2033,
          3237,
          0,
          0,
          20000,
          2773,
          1417,
          0,
          0,
          1719,
          1667,
          0,
          4300,
          0,
          0,
          16.12000084,
          0,
          0,
          0,
          0,
          2340,
          0,
          0,
          1851,
          1125,
          0,
          0,
          5064,
          1833,
          1993,
          0,
          8333,
          1210,
          0,
          1376,
          1710,
          1542,
          1255,
          1456,
          1733,
          2466,
          0,
          0,
          0,
          2569,
          0,
          0,
          4083,
          0,
          2188,
          0,
          0,
          0,
          1664,
          0,
          2917,
          2451,
          2079,
          1500,
          0,
          0,
          4648,
          1014,
          1750,
          1872,
          2250,
          1603,
          0,
          0,
          3150,
          0,
          0,
          2436,
          0,
          0,
          2083,
          0,
          2785,
          1131,
          0,
          0,
          2157,
          913,
          1700,
          2857,
          0,
          4416,
          3683,
          0,
          5624,
          5302,
          1483,
          4416,
          6667,
          0,
          3013,
          0,
          1287,
          2004,
          2035,
          6666,
          3666,
          3428,
          1632,
          1800,
          1915,
          0,
          1742,
          0,
          1424,
          7166,
          2087,
          0,
          0,
          1430,
          1302,
          0,
          5500,
          0,
          0,
          0,
          0,
          2042,
          3906,
          0,
          536,
          0,
          2845,
          0,
          0,
          2524,
          663,
          1950,
          0,
          1783,
          0,
          2016,
          0,
          2375,
          3250,
          2333,
          4266,
          1032,
          1625,
          0,
          2669,
          2306,
          242,
          0,
          2054,
          0,
          0,
          0,
          0,
          2500,
          0,
          2064,
          1750,
          1451,
          0,
          1625,
          0,
          461,
          2210,
          2739,
          2232,
          2917,
          0,
          33837,
          0,
          0,
          1917,
          3000,
          1522,
          0,
          0,
          0,
          3416,
          0,
          0,
          3300,
          0,
          0,
          1000,
          0,
          0,
          0,
          41667,
          2792,
          0,
          4301,
          0,
          3800,
          2500,
          1411,
          1950,
          0,
          0,
          240,
          0,
          0
         ],
         "x0": " ",
         "xaxis": "x",
         "y0": " ",
         "yaxis": "y"
        }
       ],
       "layout": {
        "boxmode": "group",
        "legend": {
         "tracegroupgap": 0
        },
        "template": {
         "data": {
          "bar": [
           {
            "error_x": {
             "color": "#2a3f5f"
            },
            "error_y": {
             "color": "#2a3f5f"
            },
            "marker": {
             "line": {
              "color": "#E5ECF6",
              "width": 0.5
             },
             "pattern": {
              "fillmode": "overlay",
              "size": 10,
              "solidity": 0.2
             }
            },
            "type": "bar"
           }
          ],
          "barpolar": [
           {
            "marker": {
             "line": {
              "color": "#E5ECF6",
              "width": 0.5
             },
             "pattern": {
              "fillmode": "overlay",
              "size": 10,
              "solidity": 0.2
             }
            },
            "type": "barpolar"
           }
          ],
          "carpet": [
           {
            "aaxis": {
             "endlinecolor": "#2a3f5f",
             "gridcolor": "white",
             "linecolor": "white",
             "minorgridcolor": "white",
             "startlinecolor": "#2a3f5f"
            },
            "baxis": {
             "endlinecolor": "#2a3f5f",
             "gridcolor": "white",
             "linecolor": "white",
             "minorgridcolor": "white",
             "startlinecolor": "#2a3f5f"
            },
            "type": "carpet"
           }
          ],
          "choropleth": [
           {
            "colorbar": {
             "outlinewidth": 0,
             "ticks": ""
            },
            "type": "choropleth"
           }
          ],
          "contour": [
           {
            "colorbar": {
             "outlinewidth": 0,
             "ticks": ""
            },
            "colorscale": [
             [
              0,
              "#0d0887"
             ],
             [
              0.1111111111111111,
              "#46039f"
             ],
             [
              0.2222222222222222,
              "#7201a8"
             ],
             [
              0.3333333333333333,
              "#9c179e"
             ],
             [
              0.4444444444444444,
              "#bd3786"
             ],
             [
              0.5555555555555556,
              "#d8576b"
             ],
             [
              0.6666666666666666,
              "#ed7953"
             ],
             [
              0.7777777777777778,
              "#fb9f3a"
             ],
             [
              0.8888888888888888,
              "#fdca26"
             ],
             [
              1,
              "#f0f921"
             ]
            ],
            "type": "contour"
           }
          ],
          "contourcarpet": [
           {
            "colorbar": {
             "outlinewidth": 0,
             "ticks": ""
            },
            "type": "contourcarpet"
           }
          ],
          "heatmap": [
           {
            "colorbar": {
             "outlinewidth": 0,
             "ticks": ""
            },
            "colorscale": [
             [
              0,
              "#0d0887"
             ],
             [
              0.1111111111111111,
              "#46039f"
             ],
             [
              0.2222222222222222,
              "#7201a8"
             ],
             [
              0.3333333333333333,
              "#9c179e"
             ],
             [
              0.4444444444444444,
              "#bd3786"
             ],
             [
              0.5555555555555556,
              "#d8576b"
             ],
             [
              0.6666666666666666,
              "#ed7953"
             ],
             [
              0.7777777777777778,
              "#fb9f3a"
             ],
             [
              0.8888888888888888,
              "#fdca26"
             ],
             [
              1,
              "#f0f921"
             ]
            ],
            "type": "heatmap"
           }
          ],
          "heatmapgl": [
           {
            "colorbar": {
             "outlinewidth": 0,
             "ticks": ""
            },
            "colorscale": [
             [
              0,
              "#0d0887"
             ],
             [
              0.1111111111111111,
              "#46039f"
             ],
             [
              0.2222222222222222,
              "#7201a8"
             ],
             [
              0.3333333333333333,
              "#9c179e"
             ],
             [
              0.4444444444444444,
              "#bd3786"
             ],
             [
              0.5555555555555556,
              "#d8576b"
             ],
             [
              0.6666666666666666,
              "#ed7953"
             ],
             [
              0.7777777777777778,
              "#fb9f3a"
             ],
             [
              0.8888888888888888,
              "#fdca26"
             ],
             [
              1,
              "#f0f921"
             ]
            ],
            "type": "heatmapgl"
           }
          ],
          "histogram": [
           {
            "marker": {
             "pattern": {
              "fillmode": "overlay",
              "size": 10,
              "solidity": 0.2
             }
            },
            "type": "histogram"
           }
          ],
          "histogram2d": [
           {
            "colorbar": {
             "outlinewidth": 0,
             "ticks": ""
            },
            "colorscale": [
             [
              0,
              "#0d0887"
             ],
             [
              0.1111111111111111,
              "#46039f"
             ],
             [
              0.2222222222222222,
              "#7201a8"
             ],
             [
              0.3333333333333333,
              "#9c179e"
             ],
             [
              0.4444444444444444,
              "#bd3786"
             ],
             [
              0.5555555555555556,
              "#d8576b"
             ],
             [
              0.6666666666666666,
              "#ed7953"
             ],
             [
              0.7777777777777778,
              "#fb9f3a"
             ],
             [
              0.8888888888888888,
              "#fdca26"
             ],
             [
              1,
              "#f0f921"
             ]
            ],
            "type": "histogram2d"
           }
          ],
          "histogram2dcontour": [
           {
            "colorbar": {
             "outlinewidth": 0,
             "ticks": ""
            },
            "colorscale": [
             [
              0,
              "#0d0887"
             ],
             [
              0.1111111111111111,
              "#46039f"
             ],
             [
              0.2222222222222222,
              "#7201a8"
             ],
             [
              0.3333333333333333,
              "#9c179e"
             ],
             [
              0.4444444444444444,
              "#bd3786"
             ],
             [
              0.5555555555555556,
              "#d8576b"
             ],
             [
              0.6666666666666666,
              "#ed7953"
             ],
             [
              0.7777777777777778,
              "#fb9f3a"
             ],
             [
              0.8888888888888888,
              "#fdca26"
             ],
             [
              1,
              "#f0f921"
             ]
            ],
            "type": "histogram2dcontour"
           }
          ],
          "mesh3d": [
           {
            "colorbar": {
             "outlinewidth": 0,
             "ticks": ""
            },
            "type": "mesh3d"
           }
          ],
          "parcoords": [
           {
            "line": {
             "colorbar": {
              "outlinewidth": 0,
              "ticks": ""
             }
            },
            "type": "parcoords"
           }
          ],
          "pie": [
           {
            "automargin": true,
            "type": "pie"
           }
          ],
          "scatter": [
           {
            "fillpattern": {
             "fillmode": "overlay",
             "size": 10,
             "solidity": 0.2
            },
            "type": "scatter"
           }
          ],
          "scatter3d": [
           {
            "line": {
             "colorbar": {
              "outlinewidth": 0,
              "ticks": ""
             }
            },
            "marker": {
             "colorbar": {
              "outlinewidth": 0,
              "ticks": ""
             }
            },
            "type": "scatter3d"
           }
          ],
          "scattercarpet": [
           {
            "marker": {
             "colorbar": {
              "outlinewidth": 0,
              "ticks": ""
             }
            },
            "type": "scattercarpet"
           }
          ],
          "scattergeo": [
           {
            "marker": {
             "colorbar": {
              "outlinewidth": 0,
              "ticks": ""
             }
            },
            "type": "scattergeo"
           }
          ],
          "scattergl": [
           {
            "marker": {
             "colorbar": {
              "outlinewidth": 0,
              "ticks": ""
             }
            },
            "type": "scattergl"
           }
          ],
          "scattermapbox": [
           {
            "marker": {
             "colorbar": {
              "outlinewidth": 0,
              "ticks": ""
             }
            },
            "type": "scattermapbox"
           }
          ],
          "scatterpolar": [
           {
            "marker": {
             "colorbar": {
              "outlinewidth": 0,
              "ticks": ""
             }
            },
            "type": "scatterpolar"
           }
          ],
          "scatterpolargl": [
           {
            "marker": {
             "colorbar": {
              "outlinewidth": 0,
              "ticks": ""
             }
            },
            "type": "scatterpolargl"
           }
          ],
          "scatterternary": [
           {
            "marker": {
             "colorbar": {
              "outlinewidth": 0,
              "ticks": ""
             }
            },
            "type": "scatterternary"
           }
          ],
          "surface": [
           {
            "colorbar": {
             "outlinewidth": 0,
             "ticks": ""
            },
            "colorscale": [
             [
              0,
              "#0d0887"
             ],
             [
              0.1111111111111111,
              "#46039f"
             ],
             [
              0.2222222222222222,
              "#7201a8"
             ],
             [
              0.3333333333333333,
              "#9c179e"
             ],
             [
              0.4444444444444444,
              "#bd3786"
             ],
             [
              0.5555555555555556,
              "#d8576b"
             ],
             [
              0.6666666666666666,
              "#ed7953"
             ],
             [
              0.7777777777777778,
              "#fb9f3a"
             ],
             [
              0.8888888888888888,
              "#fdca26"
             ],
             [
              1,
              "#f0f921"
             ]
            ],
            "type": "surface"
           }
          ],
          "table": [
           {
            "cells": {
             "fill": {
              "color": "#EBF0F8"
             },
             "line": {
              "color": "white"
             }
            },
            "header": {
             "fill": {
              "color": "#C8D4E3"
             },
             "line": {
              "color": "white"
             }
            },
            "type": "table"
           }
          ]
         },
         "layout": {
          "annotationdefaults": {
           "arrowcolor": "#2a3f5f",
           "arrowhead": 0,
           "arrowwidth": 1
          },
          "autotypenumbers": "strict",
          "coloraxis": {
           "colorbar": {
            "outlinewidth": 0,
            "ticks": ""
           }
          },
          "colorscale": {
           "diverging": [
            [
             0,
             "#8e0152"
            ],
            [
             0.1,
             "#c51b7d"
            ],
            [
             0.2,
             "#de77ae"
            ],
            [
             0.3,
             "#f1b6da"
            ],
            [
             0.4,
             "#fde0ef"
            ],
            [
             0.5,
             "#f7f7f7"
            ],
            [
             0.6,
             "#e6f5d0"
            ],
            [
             0.7,
             "#b8e186"
            ],
            [
             0.8,
             "#7fbc41"
            ],
            [
             0.9,
             "#4d9221"
            ],
            [
             1,
             "#276419"
            ]
           ],
           "sequential": [
            [
             0,
             "#0d0887"
            ],
            [
             0.1111111111111111,
             "#46039f"
            ],
            [
             0.2222222222222222,
             "#7201a8"
            ],
            [
             0.3333333333333333,
             "#9c179e"
            ],
            [
             0.4444444444444444,
             "#bd3786"
            ],
            [
             0.5555555555555556,
             "#d8576b"
            ],
            [
             0.6666666666666666,
             "#ed7953"
            ],
            [
             0.7777777777777778,
             "#fb9f3a"
            ],
            [
             0.8888888888888888,
             "#fdca26"
            ],
            [
             1,
             "#f0f921"
            ]
           ],
           "sequentialminus": [
            [
             0,
             "#0d0887"
            ],
            [
             0.1111111111111111,
             "#46039f"
            ],
            [
             0.2222222222222222,
             "#7201a8"
            ],
            [
             0.3333333333333333,
             "#9c179e"
            ],
            [
             0.4444444444444444,
             "#bd3786"
            ],
            [
             0.5555555555555556,
             "#d8576b"
            ],
            [
             0.6666666666666666,
             "#ed7953"
            ],
            [
             0.7777777777777778,
             "#fb9f3a"
            ],
            [
             0.8888888888888888,
             "#fdca26"
            ],
            [
             1,
             "#f0f921"
            ]
           ]
          },
          "colorway": [
           "#636efa",
           "#EF553B",
           "#00cc96",
           "#ab63fa",
           "#FFA15A",
           "#19d3f3",
           "#FF6692",
           "#B6E880",
           "#FF97FF",
           "#FECB52"
          ],
          "font": {
           "color": "#2a3f5f"
          },
          "geo": {
           "bgcolor": "white",
           "lakecolor": "white",
           "landcolor": "#E5ECF6",
           "showlakes": true,
           "showland": true,
           "subunitcolor": "white"
          },
          "hoverlabel": {
           "align": "left"
          },
          "hovermode": "closest",
          "mapbox": {
           "style": "light"
          },
          "paper_bgcolor": "white",
          "plot_bgcolor": "#E5ECF6",
          "polar": {
           "angularaxis": {
            "gridcolor": "white",
            "linecolor": "white",
            "ticks": ""
           },
           "bgcolor": "#E5ECF6",
           "radialaxis": {
            "gridcolor": "white",
            "linecolor": "white",
            "ticks": ""
           }
          },
          "scene": {
           "xaxis": {
            "backgroundcolor": "#E5ECF6",
            "gridcolor": "white",
            "gridwidth": 2,
            "linecolor": "white",
            "showbackground": true,
            "ticks": "",
            "zerolinecolor": "white"
           },
           "yaxis": {
            "backgroundcolor": "#E5ECF6",
            "gridcolor": "white",
            "gridwidth": 2,
            "linecolor": "white",
            "showbackground": true,
            "ticks": "",
            "zerolinecolor": "white"
           },
           "zaxis": {
            "backgroundcolor": "#E5ECF6",
            "gridcolor": "white",
            "gridwidth": 2,
            "linecolor": "white",
            "showbackground": true,
            "ticks": "",
            "zerolinecolor": "white"
           }
          },
          "shapedefaults": {
           "line": {
            "color": "#2a3f5f"
           }
          },
          "ternary": {
           "aaxis": {
            "gridcolor": "white",
            "linecolor": "white",
            "ticks": ""
           },
           "baxis": {
            "gridcolor": "white",
            "linecolor": "white",
            "ticks": ""
           },
           "bgcolor": "#E5ECF6",
           "caxis": {
            "gridcolor": "white",
            "linecolor": "white",
            "ticks": ""
           }
          },
          "title": {
           "x": 0.05
          },
          "xaxis": {
           "automargin": true,
           "gridcolor": "white",
           "linecolor": "white",
           "ticks": "",
           "title": {
            "standoff": 15
           },
           "zerolinecolor": "white",
           "zerolinewidth": 2
          },
          "yaxis": {
           "automargin": true,
           "gridcolor": "white",
           "linecolor": "white",
           "ticks": "",
           "title": {
            "standoff": 15
           },
           "zerolinecolor": "white",
           "zerolinewidth": 2
          }
         }
        },
        "title": {
         "text": "Boxplot of the CoapplicantIncome Target  - With Outliers"
        },
        "xaxis": {
         "anchor": "y",
         "domain": [
          0,
          1
         ],
         "title": {
          "text": "Target"
         }
        },
        "yaxis": {
         "anchor": "x",
         "domain": [
          0,
          1
         ]
        }
       }
      }
     },
     "metadata": {},
     "output_type": "display_data"
    },
    {
     "data": {
      "application/vnd.plotly.v1+json": {
       "config": {
        "plotlyServerURL": "https://plot.ly"
       },
       "data": [
        {
         "alignmentgroup": "True",
         "hovertemplate": "LoanAmount=%{x}<extra></extra>",
         "legendgroup": "",
         "marker": {
          "color": "#636efa"
         },
         "name": "",
         "notched": false,
         "offsetgroup": "",
         "orientation": "h",
         "showlegend": false,
         "type": "box",
         "x": [
          146.41216216216216,
          128,
          66,
          120,
          141,
          267,
          95,
          158,
          168,
          349,
          70,
          109,
          200,
          114,
          17,
          125,
          100,
          76,
          133,
          115,
          104,
          315,
          116,
          112,
          151,
          191,
          122,
          110,
          35,
          120,
          201,
          74,
          106,
          114,
          320,
          146.41216216216216,
          100,
          144,
          184,
          110,
          80,
          47,
          75,
          134,
          96,
          88,
          44,
          144,
          120,
          144,
          100,
          120,
          112,
          134,
          286,
          97,
          96,
          135,
          180,
          144,
          120,
          99,
          165,
          146.41216216216216,
          116,
          258,
          126,
          312,
          125,
          136,
          172,
          97,
          81,
          95,
          187,
          113,
          176,
          110,
          180,
          130,
          111,
          146.41216216216216,
          167,
          265,
          50,
          136,
          99,
          104,
          210,
          175,
          131,
          188,
          81,
          122,
          25,
          146.41216216216216,
          137,
          50,
          115,
          131,
          133,
          151,
          146.41216216216216,
          146.41216216216216,
          160,
          100,
          225,
          120,
          216,
          94,
          136,
          139,
          152,
          146.41216216216216,
          118,
          185,
          154,
          85,
          175,
          259,
          180,
          44,
          137,
          81,
          194,
          93,
          370,
          146.41216216216216,
          160,
          182,
          650,
          74,
          70,
          25,
          102,
          290,
          84,
          88,
          242,
          129,
          185,
          168,
          175,
          122,
          187,
          100,
          70,
          30,
          225,
          125,
          118,
          152,
          244,
          113,
          50,
          600,
          160,
          187,
          120,
          255,
          98,
          275,
          121,
          158,
          75,
          182,
          112,
          129,
          63,
          200,
          95,
          700,
          81,
          187,
          87,
          116,
          101,
          495,
          116,
          102,
          180,
          67,
          73,
          260,
          108,
          120,
          66,
          58,
          168,
          188,
          48,
          164,
          160,
          76,
          120,
          170,
          187,
          120,
          113,
          83,
          90,
          166,
          146.41216216216216,
          135,
          124,
          120,
          80,
          55,
          59,
          127,
          214,
          128,
          240,
          130,
          137,
          100,
          135,
          131,
          72,
          127,
          60,
          116,
          144,
          175,
          128,
          170,
          138,
          210,
          158,
          200,
          104,
          42,
          120,
          280,
          140,
          170,
          255,
          122,
          112,
          96,
          120,
          140,
          155,
          108,
          123,
          120,
          112,
          137,
          123,
          90,
          201,
          138,
          104,
          279,
          192,
          255,
          115,
          94,
          304,
          128,
          330,
          134,
          155,
          120,
          128,
          151,
          150,
          160,
          135,
          90,
          30,
          136,
          126,
          150,
          90,
          115,
          207,
          80,
          436,
          124,
          158,
          112,
          78,
          54,
          146.41216216216216,
          89,
          99,
          120,
          115,
          187,
          139,
          127,
          134,
          143,
          172,
          110,
          200,
          135,
          151,
          113,
          93,
          105,
          132,
          96,
          140,
          146.41216216216216,
          135,
          104,
          480,
          185,
          84,
          111,
          56,
          144,
          159,
          111,
          120,
          88,
          112,
          155,
          115,
          124,
          146.41216216216216,
          132,
          300,
          376,
          130,
          184,
          110,
          67,
          117,
          98,
          71,
          490,
          182,
          70,
          160,
          176,
          146.41216216216216,
          71,
          173,
          46,
          158,
          74,
          125,
          160,
          152,
          126,
          259,
          187,
          228,
          308,
          95,
          105,
          130,
          116,
          165,
          67,
          100,
          200,
          81,
          236,
          130,
          95,
          141,
          133,
          96,
          124,
          175,
          570,
          55,
          155,
          380,
          111,
          110,
          120,
          130,
          130,
          71,
          130,
          128,
          296,
          156,
          128,
          100,
          113,
          132,
          146.41216216216216,
          136,
          125,
          185,
          275,
          120,
          113,
          113,
          135,
          71,
          95,
          109,
          103,
          45,
          65,
          103,
          53,
          194,
          115,
          115,
          66,
          152,
          360,
          62,
          160,
          218,
          110,
          178,
          60,
          160,
          239,
          112,
          138,
          138,
          80,
          100,
          110,
          96,
          121,
          81,
          133,
          87,
          60,
          150,
          105,
          405,
          143,
          100,
          146.41216216216216,
          50,
          146.41216216216216,
          187,
          138,
          187,
          180,
          148,
          152,
          175,
          130,
          110,
          55,
          150,
          190,
          125,
          60,
          149,
          90,
          84,
          96,
          118,
          173,
          136,
          160,
          160,
          128,
          153,
          132,
          98,
          140,
          70,
          110,
          98,
          110,
          162,
          113,
          100,
          93,
          162,
          150,
          230,
          132,
          86,
          146.41216216216216,
          154,
          113,
          128,
          234,
          246,
          131,
          80,
          500,
          160,
          75,
          96,
          186,
          110,
          225,
          119,
          105,
          107,
          111,
          95,
          209,
          113,
          100,
          208,
          138,
          124,
          243,
          480,
          96,
          188,
          40,
          100,
          250,
          148,
          70,
          311,
          150,
          113,
          123,
          185,
          95,
          45,
          55,
          100,
          480,
          146.41216216216216,
          400,
          110,
          161,
          94,
          130,
          216,
          100,
          110,
          196,
          125,
          126,
          324,
          107,
          66,
          157,
          140,
          99,
          95,
          128,
          102,
          155,
          80,
          145,
          103,
          110,
          146.41216216216216,
          146.41216216216216,
          158,
          181,
          132,
          26,
          84,
          260,
          162,
          182,
          108,
          600,
          211,
          132,
          258,
          120,
          70,
          123,
          9,
          104,
          186,
          165,
          275,
          187,
          150,
          108,
          136,
          110,
          107,
          161,
          205,
          90,
          36,
          61,
          146,
          172,
          104,
          70,
          94,
          106,
          56,
          205,
          292,
          142,
          260,
          110,
          187,
          88,
          180,
          192,
          350,
          155,
          128,
          172,
          496,
          146.41216216216216,
          173,
          157,
          108,
          71,
          40,
          253,
          187,
          133
         ],
         "x0": " ",
         "xaxis": "x",
         "y0": " ",
         "yaxis": "y"
        }
       ],
       "layout": {
        "boxmode": "group",
        "legend": {
         "tracegroupgap": 0
        },
        "template": {
         "data": {
          "bar": [
           {
            "error_x": {
             "color": "#2a3f5f"
            },
            "error_y": {
             "color": "#2a3f5f"
            },
            "marker": {
             "line": {
              "color": "#E5ECF6",
              "width": 0.5
             },
             "pattern": {
              "fillmode": "overlay",
              "size": 10,
              "solidity": 0.2
             }
            },
            "type": "bar"
           }
          ],
          "barpolar": [
           {
            "marker": {
             "line": {
              "color": "#E5ECF6",
              "width": 0.5
             },
             "pattern": {
              "fillmode": "overlay",
              "size": 10,
              "solidity": 0.2
             }
            },
            "type": "barpolar"
           }
          ],
          "carpet": [
           {
            "aaxis": {
             "endlinecolor": "#2a3f5f",
             "gridcolor": "white",
             "linecolor": "white",
             "minorgridcolor": "white",
             "startlinecolor": "#2a3f5f"
            },
            "baxis": {
             "endlinecolor": "#2a3f5f",
             "gridcolor": "white",
             "linecolor": "white",
             "minorgridcolor": "white",
             "startlinecolor": "#2a3f5f"
            },
            "type": "carpet"
           }
          ],
          "choropleth": [
           {
            "colorbar": {
             "outlinewidth": 0,
             "ticks": ""
            },
            "type": "choropleth"
           }
          ],
          "contour": [
           {
            "colorbar": {
             "outlinewidth": 0,
             "ticks": ""
            },
            "colorscale": [
             [
              0,
              "#0d0887"
             ],
             [
              0.1111111111111111,
              "#46039f"
             ],
             [
              0.2222222222222222,
              "#7201a8"
             ],
             [
              0.3333333333333333,
              "#9c179e"
             ],
             [
              0.4444444444444444,
              "#bd3786"
             ],
             [
              0.5555555555555556,
              "#d8576b"
             ],
             [
              0.6666666666666666,
              "#ed7953"
             ],
             [
              0.7777777777777778,
              "#fb9f3a"
             ],
             [
              0.8888888888888888,
              "#fdca26"
             ],
             [
              1,
              "#f0f921"
             ]
            ],
            "type": "contour"
           }
          ],
          "contourcarpet": [
           {
            "colorbar": {
             "outlinewidth": 0,
             "ticks": ""
            },
            "type": "contourcarpet"
           }
          ],
          "heatmap": [
           {
            "colorbar": {
             "outlinewidth": 0,
             "ticks": ""
            },
            "colorscale": [
             [
              0,
              "#0d0887"
             ],
             [
              0.1111111111111111,
              "#46039f"
             ],
             [
              0.2222222222222222,
              "#7201a8"
             ],
             [
              0.3333333333333333,
              "#9c179e"
             ],
             [
              0.4444444444444444,
              "#bd3786"
             ],
             [
              0.5555555555555556,
              "#d8576b"
             ],
             [
              0.6666666666666666,
              "#ed7953"
             ],
             [
              0.7777777777777778,
              "#fb9f3a"
             ],
             [
              0.8888888888888888,
              "#fdca26"
             ],
             [
              1,
              "#f0f921"
             ]
            ],
            "type": "heatmap"
           }
          ],
          "heatmapgl": [
           {
            "colorbar": {
             "outlinewidth": 0,
             "ticks": ""
            },
            "colorscale": [
             [
              0,
              "#0d0887"
             ],
             [
              0.1111111111111111,
              "#46039f"
             ],
             [
              0.2222222222222222,
              "#7201a8"
             ],
             [
              0.3333333333333333,
              "#9c179e"
             ],
             [
              0.4444444444444444,
              "#bd3786"
             ],
             [
              0.5555555555555556,
              "#d8576b"
             ],
             [
              0.6666666666666666,
              "#ed7953"
             ],
             [
              0.7777777777777778,
              "#fb9f3a"
             ],
             [
              0.8888888888888888,
              "#fdca26"
             ],
             [
              1,
              "#f0f921"
             ]
            ],
            "type": "heatmapgl"
           }
          ],
          "histogram": [
           {
            "marker": {
             "pattern": {
              "fillmode": "overlay",
              "size": 10,
              "solidity": 0.2
             }
            },
            "type": "histogram"
           }
          ],
          "histogram2d": [
           {
            "colorbar": {
             "outlinewidth": 0,
             "ticks": ""
            },
            "colorscale": [
             [
              0,
              "#0d0887"
             ],
             [
              0.1111111111111111,
              "#46039f"
             ],
             [
              0.2222222222222222,
              "#7201a8"
             ],
             [
              0.3333333333333333,
              "#9c179e"
             ],
             [
              0.4444444444444444,
              "#bd3786"
             ],
             [
              0.5555555555555556,
              "#d8576b"
             ],
             [
              0.6666666666666666,
              "#ed7953"
             ],
             [
              0.7777777777777778,
              "#fb9f3a"
             ],
             [
              0.8888888888888888,
              "#fdca26"
             ],
             [
              1,
              "#f0f921"
             ]
            ],
            "type": "histogram2d"
           }
          ],
          "histogram2dcontour": [
           {
            "colorbar": {
             "outlinewidth": 0,
             "ticks": ""
            },
            "colorscale": [
             [
              0,
              "#0d0887"
             ],
             [
              0.1111111111111111,
              "#46039f"
             ],
             [
              0.2222222222222222,
              "#7201a8"
             ],
             [
              0.3333333333333333,
              "#9c179e"
             ],
             [
              0.4444444444444444,
              "#bd3786"
             ],
             [
              0.5555555555555556,
              "#d8576b"
             ],
             [
              0.6666666666666666,
              "#ed7953"
             ],
             [
              0.7777777777777778,
              "#fb9f3a"
             ],
             [
              0.8888888888888888,
              "#fdca26"
             ],
             [
              1,
              "#f0f921"
             ]
            ],
            "type": "histogram2dcontour"
           }
          ],
          "mesh3d": [
           {
            "colorbar": {
             "outlinewidth": 0,
             "ticks": ""
            },
            "type": "mesh3d"
           }
          ],
          "parcoords": [
           {
            "line": {
             "colorbar": {
              "outlinewidth": 0,
              "ticks": ""
             }
            },
            "type": "parcoords"
           }
          ],
          "pie": [
           {
            "automargin": true,
            "type": "pie"
           }
          ],
          "scatter": [
           {
            "fillpattern": {
             "fillmode": "overlay",
             "size": 10,
             "solidity": 0.2
            },
            "type": "scatter"
           }
          ],
          "scatter3d": [
           {
            "line": {
             "colorbar": {
              "outlinewidth": 0,
              "ticks": ""
             }
            },
            "marker": {
             "colorbar": {
              "outlinewidth": 0,
              "ticks": ""
             }
            },
            "type": "scatter3d"
           }
          ],
          "scattercarpet": [
           {
            "marker": {
             "colorbar": {
              "outlinewidth": 0,
              "ticks": ""
             }
            },
            "type": "scattercarpet"
           }
          ],
          "scattergeo": [
           {
            "marker": {
             "colorbar": {
              "outlinewidth": 0,
              "ticks": ""
             }
            },
            "type": "scattergeo"
           }
          ],
          "scattergl": [
           {
            "marker": {
             "colorbar": {
              "outlinewidth": 0,
              "ticks": ""
             }
            },
            "type": "scattergl"
           }
          ],
          "scattermapbox": [
           {
            "marker": {
             "colorbar": {
              "outlinewidth": 0,
              "ticks": ""
             }
            },
            "type": "scattermapbox"
           }
          ],
          "scatterpolar": [
           {
            "marker": {
             "colorbar": {
              "outlinewidth": 0,
              "ticks": ""
             }
            },
            "type": "scatterpolar"
           }
          ],
          "scatterpolargl": [
           {
            "marker": {
             "colorbar": {
              "outlinewidth": 0,
              "ticks": ""
             }
            },
            "type": "scatterpolargl"
           }
          ],
          "scatterternary": [
           {
            "marker": {
             "colorbar": {
              "outlinewidth": 0,
              "ticks": ""
             }
            },
            "type": "scatterternary"
           }
          ],
          "surface": [
           {
            "colorbar": {
             "outlinewidth": 0,
             "ticks": ""
            },
            "colorscale": [
             [
              0,
              "#0d0887"
             ],
             [
              0.1111111111111111,
              "#46039f"
             ],
             [
              0.2222222222222222,
              "#7201a8"
             ],
             [
              0.3333333333333333,
              "#9c179e"
             ],
             [
              0.4444444444444444,
              "#bd3786"
             ],
             [
              0.5555555555555556,
              "#d8576b"
             ],
             [
              0.6666666666666666,
              "#ed7953"
             ],
             [
              0.7777777777777778,
              "#fb9f3a"
             ],
             [
              0.8888888888888888,
              "#fdca26"
             ],
             [
              1,
              "#f0f921"
             ]
            ],
            "type": "surface"
           }
          ],
          "table": [
           {
            "cells": {
             "fill": {
              "color": "#EBF0F8"
             },
             "line": {
              "color": "white"
             }
            },
            "header": {
             "fill": {
              "color": "#C8D4E3"
             },
             "line": {
              "color": "white"
             }
            },
            "type": "table"
           }
          ]
         },
         "layout": {
          "annotationdefaults": {
           "arrowcolor": "#2a3f5f",
           "arrowhead": 0,
           "arrowwidth": 1
          },
          "autotypenumbers": "strict",
          "coloraxis": {
           "colorbar": {
            "outlinewidth": 0,
            "ticks": ""
           }
          },
          "colorscale": {
           "diverging": [
            [
             0,
             "#8e0152"
            ],
            [
             0.1,
             "#c51b7d"
            ],
            [
             0.2,
             "#de77ae"
            ],
            [
             0.3,
             "#f1b6da"
            ],
            [
             0.4,
             "#fde0ef"
            ],
            [
             0.5,
             "#f7f7f7"
            ],
            [
             0.6,
             "#e6f5d0"
            ],
            [
             0.7,
             "#b8e186"
            ],
            [
             0.8,
             "#7fbc41"
            ],
            [
             0.9,
             "#4d9221"
            ],
            [
             1,
             "#276419"
            ]
           ],
           "sequential": [
            [
             0,
             "#0d0887"
            ],
            [
             0.1111111111111111,
             "#46039f"
            ],
            [
             0.2222222222222222,
             "#7201a8"
            ],
            [
             0.3333333333333333,
             "#9c179e"
            ],
            [
             0.4444444444444444,
             "#bd3786"
            ],
            [
             0.5555555555555556,
             "#d8576b"
            ],
            [
             0.6666666666666666,
             "#ed7953"
            ],
            [
             0.7777777777777778,
             "#fb9f3a"
            ],
            [
             0.8888888888888888,
             "#fdca26"
            ],
            [
             1,
             "#f0f921"
            ]
           ],
           "sequentialminus": [
            [
             0,
             "#0d0887"
            ],
            [
             0.1111111111111111,
             "#46039f"
            ],
            [
             0.2222222222222222,
             "#7201a8"
            ],
            [
             0.3333333333333333,
             "#9c179e"
            ],
            [
             0.4444444444444444,
             "#bd3786"
            ],
            [
             0.5555555555555556,
             "#d8576b"
            ],
            [
             0.6666666666666666,
             "#ed7953"
            ],
            [
             0.7777777777777778,
             "#fb9f3a"
            ],
            [
             0.8888888888888888,
             "#fdca26"
            ],
            [
             1,
             "#f0f921"
            ]
           ]
          },
          "colorway": [
           "#636efa",
           "#EF553B",
           "#00cc96",
           "#ab63fa",
           "#FFA15A",
           "#19d3f3",
           "#FF6692",
           "#B6E880",
           "#FF97FF",
           "#FECB52"
          ],
          "font": {
           "color": "#2a3f5f"
          },
          "geo": {
           "bgcolor": "white",
           "lakecolor": "white",
           "landcolor": "#E5ECF6",
           "showlakes": true,
           "showland": true,
           "subunitcolor": "white"
          },
          "hoverlabel": {
           "align": "left"
          },
          "hovermode": "closest",
          "mapbox": {
           "style": "light"
          },
          "paper_bgcolor": "white",
          "plot_bgcolor": "#E5ECF6",
          "polar": {
           "angularaxis": {
            "gridcolor": "white",
            "linecolor": "white",
            "ticks": ""
           },
           "bgcolor": "#E5ECF6",
           "radialaxis": {
            "gridcolor": "white",
            "linecolor": "white",
            "ticks": ""
           }
          },
          "scene": {
           "xaxis": {
            "backgroundcolor": "#E5ECF6",
            "gridcolor": "white",
            "gridwidth": 2,
            "linecolor": "white",
            "showbackground": true,
            "ticks": "",
            "zerolinecolor": "white"
           },
           "yaxis": {
            "backgroundcolor": "#E5ECF6",
            "gridcolor": "white",
            "gridwidth": 2,
            "linecolor": "white",
            "showbackground": true,
            "ticks": "",
            "zerolinecolor": "white"
           },
           "zaxis": {
            "backgroundcolor": "#E5ECF6",
            "gridcolor": "white",
            "gridwidth": 2,
            "linecolor": "white",
            "showbackground": true,
            "ticks": "",
            "zerolinecolor": "white"
           }
          },
          "shapedefaults": {
           "line": {
            "color": "#2a3f5f"
           }
          },
          "ternary": {
           "aaxis": {
            "gridcolor": "white",
            "linecolor": "white",
            "ticks": ""
           },
           "baxis": {
            "gridcolor": "white",
            "linecolor": "white",
            "ticks": ""
           },
           "bgcolor": "#E5ECF6",
           "caxis": {
            "gridcolor": "white",
            "linecolor": "white",
            "ticks": ""
           }
          },
          "title": {
           "x": 0.05
          },
          "xaxis": {
           "automargin": true,
           "gridcolor": "white",
           "linecolor": "white",
           "ticks": "",
           "title": {
            "standoff": 15
           },
           "zerolinecolor": "white",
           "zerolinewidth": 2
          },
          "yaxis": {
           "automargin": true,
           "gridcolor": "white",
           "linecolor": "white",
           "ticks": "",
           "title": {
            "standoff": 15
           },
           "zerolinecolor": "white",
           "zerolinewidth": 2
          }
         }
        },
        "title": {
         "text": "Boxplot of the LoanAmount Target  - With Outliers"
        },
        "xaxis": {
         "anchor": "y",
         "domain": [
          0,
          1
         ],
         "title": {
          "text": "Target"
         }
        },
        "yaxis": {
         "anchor": "x",
         "domain": [
          0,
          1
         ]
        }
       }
      }
     },
     "metadata": {},
     "output_type": "display_data"
    },
    {
     "data": {
      "application/vnd.plotly.v1+json": {
       "config": {
        "plotlyServerURL": "https://plot.ly"
       },
       "data": [
        {
         "alignmentgroup": "True",
         "hovertemplate": "Loan_Amount_Term=%{x}<extra></extra>",
         "legendgroup": "",
         "marker": {
          "color": "#636efa"
         },
         "name": "",
         "notched": false,
         "offsetgroup": "",
         "orientation": "h",
         "showlegend": false,
         "type": "box",
         "x": [
          360,
          360,
          360,
          360,
          360,
          360,
          360,
          360,
          360,
          360,
          360,
          360,
          360,
          360,
          120,
          360,
          240,
          360,
          360,
          360,
          360,
          360,
          360,
          360,
          360,
          360,
          360,
          360,
          360,
          360,
          360,
          360,
          360,
          360,
          360,
          360,
          360,
          360,
          360,
          360,
          360,
          360,
          360,
          360,
          360,
          360,
          360,
          360,
          360,
          360,
          360,
          360,
          360,
          360,
          360,
          360,
          360,
          360,
          360,
          360,
          360,
          360,
          180,
          360,
          360,
          360,
          180,
          360,
          60,
          360,
          360,
          360,
          300,
          360,
          360,
          480,
          360,
          360,
          300,
          360,
          360,
          360,
          360,
          360,
          240,
          360,
          360,
          360,
          360,
          360,
          360,
          180,
          360,
          360,
          120,
          360,
          360,
          360,
          180,
          360,
          180,
          360,
          360,
          360,
          360,
          360,
          360,
          360,
          360,
          480,
          360,
          360,
          360,
          360,
          360,
          180,
          360,
          360,
          360,
          360,
          360,
          360,
          360,
          360,
          360,
          360,
          360,
          360,
          180,
          360,
          480,
          360,
          360,
          120,
          360,
          360,
          360,
          360,
          360,
          360,
          360,
          360,
          180,
          360,
          180,
          360,
          360,
          360,
          360,
          360,
          360,
          360,
          360,
          360,
          360,
          180,
          360,
          360,
          360,
          360,
          360,
          360,
          360,
          360,
          180,
          360,
          360,
          360,
          480,
          360,
          360,
          300,
          180,
          360,
          360,
          360,
          360,
          360,
          360,
          480,
          360,
          360,
          180,
          360,
          360,
          360,
          300,
          360,
          360,
          180,
          360,
          360,
          360,
          360,
          360,
          360,
          360,
          360,
          360,
          360,
          360,
          360,
          180,
          360,
          360,
          360,
          360,
          360,
          360,
          360,
          360,
          360,
          360,
          360,
          360,
          360,
          360,
          360,
          360,
          360,
          360,
          360,
          360,
          360,
          360,
          360,
          360,
          360,
          480,
          360,
          360,
          180,
          360,
          360,
          360,
          360,
          360,
          360,
          360,
          360,
          360,
          180,
          60,
          360,
          360,
          180,
          360,
          180,
          480,
          360,
          360,
          360,
          360,
          180,
          360,
          360,
          360,
          360,
          360,
          360,
          360,
          360,
          36,
          360,
          360,
          360,
          360,
          360,
          360,
          360,
          360,
          360,
          360,
          360,
          360,
          360,
          360,
          360,
          360,
          360,
          360,
          360,
          180,
          360,
          360,
          360,
          300,
          360,
          360,
          360,
          360,
          360,
          360,
          480,
          360,
          360,
          360,
          360,
          480,
          360,
          360,
          360,
          360,
          360,
          360,
          360,
          360,
          360,
          360,
          360,
          360,
          360,
          360,
          84,
          360,
          180,
          360,
          360,
          360,
          360,
          360,
          360,
          360,
          360,
          360,
          360,
          360,
          360,
          360,
          360,
          360,
          360,
          360,
          180,
          180,
          360,
          360,
          360,
          360,
          360,
          360,
          360,
          360,
          360,
          360,
          360,
          360,
          360,
          360,
          360,
          360,
          360,
          360,
          360,
          360,
          180,
          360,
          360,
          480,
          360,
          360,
          360,
          360,
          300,
          360,
          360,
          480,
          360,
          360,
          360,
          360,
          360,
          300,
          180,
          360,
          180,
          360,
          360,
          480,
          360,
          360,
          360,
          360,
          360,
          360,
          180,
          360,
          360,
          360,
          360,
          360,
          360,
          360,
          180,
          360,
          360,
          360,
          360,
          360,
          360,
          180,
          300,
          360,
          360,
          360,
          360,
          360,
          360,
          300,
          360,
          360,
          360,
          360,
          360,
          360,
          360,
          360,
          360,
          360,
          360,
          360,
          360,
          360,
          360,
          360,
          360,
          360,
          360,
          360,
          180,
          360,
          360,
          360,
          360,
          360,
          240,
          360,
          360,
          360,
          360,
          360,
          360,
          360,
          360,
          300,
          360,
          360,
          360,
          360,
          360,
          360,
          300,
          360,
          180,
          360,
          360,
          360,
          360,
          360,
          360,
          360,
          180,
          360,
          360,
          360,
          360,
          180,
          360,
          360,
          360,
          360,
          180,
          360,
          360,
          360,
          360,
          300,
          360,
          360,
          360,
          360,
          360,
          360,
          360,
          360,
          360,
          360,
          360,
          360,
          360,
          360,
          360,
          360,
          360,
          360,
          84,
          360,
          12,
          360,
          360,
          480,
          360,
          360,
          360,
          300,
          360,
          360,
          360,
          360,
          360,
          360,
          360,
          360,
          180,
          360,
          360,
          480,
          360,
          360,
          360,
          360,
          360,
          360,
          360,
          360,
          360,
          360,
          360,
          360,
          360,
          360,
          360,
          360,
          360,
          360,
          360,
          360,
          360,
          360,
          180,
          180,
          360,
          360,
          360,
          360,
          360,
          36,
          360,
          360,
          360,
          360,
          360,
          360,
          360,
          180,
          360,
          360,
          360,
          360,
          360,
          360,
          360,
          360,
          360,
          360,
          360,
          360,
          360,
          360,
          360,
          360,
          360,
          360,
          480,
          360,
          84,
          360,
          360,
          360,
          360,
          360,
          360,
          360,
          360,
          360,
          84,
          360,
          360,
          360,
          360,
          180,
          240,
          360,
          180,
          360,
          360,
          360,
          360,
          360,
          360,
          180,
          360,
          360,
          360,
          360,
          180,
          360,
          360,
          360,
          360,
          180,
          360,
          360,
          360
         ],
         "x0": " ",
         "xaxis": "x",
         "y0": " ",
         "yaxis": "y"
        }
       ],
       "layout": {
        "boxmode": "group",
        "legend": {
         "tracegroupgap": 0
        },
        "template": {
         "data": {
          "bar": [
           {
            "error_x": {
             "color": "#2a3f5f"
            },
            "error_y": {
             "color": "#2a3f5f"
            },
            "marker": {
             "line": {
              "color": "#E5ECF6",
              "width": 0.5
             },
             "pattern": {
              "fillmode": "overlay",
              "size": 10,
              "solidity": 0.2
             }
            },
            "type": "bar"
           }
          ],
          "barpolar": [
           {
            "marker": {
             "line": {
              "color": "#E5ECF6",
              "width": 0.5
             },
             "pattern": {
              "fillmode": "overlay",
              "size": 10,
              "solidity": 0.2
             }
            },
            "type": "barpolar"
           }
          ],
          "carpet": [
           {
            "aaxis": {
             "endlinecolor": "#2a3f5f",
             "gridcolor": "white",
             "linecolor": "white",
             "minorgridcolor": "white",
             "startlinecolor": "#2a3f5f"
            },
            "baxis": {
             "endlinecolor": "#2a3f5f",
             "gridcolor": "white",
             "linecolor": "white",
             "minorgridcolor": "white",
             "startlinecolor": "#2a3f5f"
            },
            "type": "carpet"
           }
          ],
          "choropleth": [
           {
            "colorbar": {
             "outlinewidth": 0,
             "ticks": ""
            },
            "type": "choropleth"
           }
          ],
          "contour": [
           {
            "colorbar": {
             "outlinewidth": 0,
             "ticks": ""
            },
            "colorscale": [
             [
              0,
              "#0d0887"
             ],
             [
              0.1111111111111111,
              "#46039f"
             ],
             [
              0.2222222222222222,
              "#7201a8"
             ],
             [
              0.3333333333333333,
              "#9c179e"
             ],
             [
              0.4444444444444444,
              "#bd3786"
             ],
             [
              0.5555555555555556,
              "#d8576b"
             ],
             [
              0.6666666666666666,
              "#ed7953"
             ],
             [
              0.7777777777777778,
              "#fb9f3a"
             ],
             [
              0.8888888888888888,
              "#fdca26"
             ],
             [
              1,
              "#f0f921"
             ]
            ],
            "type": "contour"
           }
          ],
          "contourcarpet": [
           {
            "colorbar": {
             "outlinewidth": 0,
             "ticks": ""
            },
            "type": "contourcarpet"
           }
          ],
          "heatmap": [
           {
            "colorbar": {
             "outlinewidth": 0,
             "ticks": ""
            },
            "colorscale": [
             [
              0,
              "#0d0887"
             ],
             [
              0.1111111111111111,
              "#46039f"
             ],
             [
              0.2222222222222222,
              "#7201a8"
             ],
             [
              0.3333333333333333,
              "#9c179e"
             ],
             [
              0.4444444444444444,
              "#bd3786"
             ],
             [
              0.5555555555555556,
              "#d8576b"
             ],
             [
              0.6666666666666666,
              "#ed7953"
             ],
             [
              0.7777777777777778,
              "#fb9f3a"
             ],
             [
              0.8888888888888888,
              "#fdca26"
             ],
             [
              1,
              "#f0f921"
             ]
            ],
            "type": "heatmap"
           }
          ],
          "heatmapgl": [
           {
            "colorbar": {
             "outlinewidth": 0,
             "ticks": ""
            },
            "colorscale": [
             [
              0,
              "#0d0887"
             ],
             [
              0.1111111111111111,
              "#46039f"
             ],
             [
              0.2222222222222222,
              "#7201a8"
             ],
             [
              0.3333333333333333,
              "#9c179e"
             ],
             [
              0.4444444444444444,
              "#bd3786"
             ],
             [
              0.5555555555555556,
              "#d8576b"
             ],
             [
              0.6666666666666666,
              "#ed7953"
             ],
             [
              0.7777777777777778,
              "#fb9f3a"
             ],
             [
              0.8888888888888888,
              "#fdca26"
             ],
             [
              1,
              "#f0f921"
             ]
            ],
            "type": "heatmapgl"
           }
          ],
          "histogram": [
           {
            "marker": {
             "pattern": {
              "fillmode": "overlay",
              "size": 10,
              "solidity": 0.2
             }
            },
            "type": "histogram"
           }
          ],
          "histogram2d": [
           {
            "colorbar": {
             "outlinewidth": 0,
             "ticks": ""
            },
            "colorscale": [
             [
              0,
              "#0d0887"
             ],
             [
              0.1111111111111111,
              "#46039f"
             ],
             [
              0.2222222222222222,
              "#7201a8"
             ],
             [
              0.3333333333333333,
              "#9c179e"
             ],
             [
              0.4444444444444444,
              "#bd3786"
             ],
             [
              0.5555555555555556,
              "#d8576b"
             ],
             [
              0.6666666666666666,
              "#ed7953"
             ],
             [
              0.7777777777777778,
              "#fb9f3a"
             ],
             [
              0.8888888888888888,
              "#fdca26"
             ],
             [
              1,
              "#f0f921"
             ]
            ],
            "type": "histogram2d"
           }
          ],
          "histogram2dcontour": [
           {
            "colorbar": {
             "outlinewidth": 0,
             "ticks": ""
            },
            "colorscale": [
             [
              0,
              "#0d0887"
             ],
             [
              0.1111111111111111,
              "#46039f"
             ],
             [
              0.2222222222222222,
              "#7201a8"
             ],
             [
              0.3333333333333333,
              "#9c179e"
             ],
             [
              0.4444444444444444,
              "#bd3786"
             ],
             [
              0.5555555555555556,
              "#d8576b"
             ],
             [
              0.6666666666666666,
              "#ed7953"
             ],
             [
              0.7777777777777778,
              "#fb9f3a"
             ],
             [
              0.8888888888888888,
              "#fdca26"
             ],
             [
              1,
              "#f0f921"
             ]
            ],
            "type": "histogram2dcontour"
           }
          ],
          "mesh3d": [
           {
            "colorbar": {
             "outlinewidth": 0,
             "ticks": ""
            },
            "type": "mesh3d"
           }
          ],
          "parcoords": [
           {
            "line": {
             "colorbar": {
              "outlinewidth": 0,
              "ticks": ""
             }
            },
            "type": "parcoords"
           }
          ],
          "pie": [
           {
            "automargin": true,
            "type": "pie"
           }
          ],
          "scatter": [
           {
            "fillpattern": {
             "fillmode": "overlay",
             "size": 10,
             "solidity": 0.2
            },
            "type": "scatter"
           }
          ],
          "scatter3d": [
           {
            "line": {
             "colorbar": {
              "outlinewidth": 0,
              "ticks": ""
             }
            },
            "marker": {
             "colorbar": {
              "outlinewidth": 0,
              "ticks": ""
             }
            },
            "type": "scatter3d"
           }
          ],
          "scattercarpet": [
           {
            "marker": {
             "colorbar": {
              "outlinewidth": 0,
              "ticks": ""
             }
            },
            "type": "scattercarpet"
           }
          ],
          "scattergeo": [
           {
            "marker": {
             "colorbar": {
              "outlinewidth": 0,
              "ticks": ""
             }
            },
            "type": "scattergeo"
           }
          ],
          "scattergl": [
           {
            "marker": {
             "colorbar": {
              "outlinewidth": 0,
              "ticks": ""
             }
            },
            "type": "scattergl"
           }
          ],
          "scattermapbox": [
           {
            "marker": {
             "colorbar": {
              "outlinewidth": 0,
              "ticks": ""
             }
            },
            "type": "scattermapbox"
           }
          ],
          "scatterpolar": [
           {
            "marker": {
             "colorbar": {
              "outlinewidth": 0,
              "ticks": ""
             }
            },
            "type": "scatterpolar"
           }
          ],
          "scatterpolargl": [
           {
            "marker": {
             "colorbar": {
              "outlinewidth": 0,
              "ticks": ""
             }
            },
            "type": "scatterpolargl"
           }
          ],
          "scatterternary": [
           {
            "marker": {
             "colorbar": {
              "outlinewidth": 0,
              "ticks": ""
             }
            },
            "type": "scatterternary"
           }
          ],
          "surface": [
           {
            "colorbar": {
             "outlinewidth": 0,
             "ticks": ""
            },
            "colorscale": [
             [
              0,
              "#0d0887"
             ],
             [
              0.1111111111111111,
              "#46039f"
             ],
             [
              0.2222222222222222,
              "#7201a8"
             ],
             [
              0.3333333333333333,
              "#9c179e"
             ],
             [
              0.4444444444444444,
              "#bd3786"
             ],
             [
              0.5555555555555556,
              "#d8576b"
             ],
             [
              0.6666666666666666,
              "#ed7953"
             ],
             [
              0.7777777777777778,
              "#fb9f3a"
             ],
             [
              0.8888888888888888,
              "#fdca26"
             ],
             [
              1,
              "#f0f921"
             ]
            ],
            "type": "surface"
           }
          ],
          "table": [
           {
            "cells": {
             "fill": {
              "color": "#EBF0F8"
             },
             "line": {
              "color": "white"
             }
            },
            "header": {
             "fill": {
              "color": "#C8D4E3"
             },
             "line": {
              "color": "white"
             }
            },
            "type": "table"
           }
          ]
         },
         "layout": {
          "annotationdefaults": {
           "arrowcolor": "#2a3f5f",
           "arrowhead": 0,
           "arrowwidth": 1
          },
          "autotypenumbers": "strict",
          "coloraxis": {
           "colorbar": {
            "outlinewidth": 0,
            "ticks": ""
           }
          },
          "colorscale": {
           "diverging": [
            [
             0,
             "#8e0152"
            ],
            [
             0.1,
             "#c51b7d"
            ],
            [
             0.2,
             "#de77ae"
            ],
            [
             0.3,
             "#f1b6da"
            ],
            [
             0.4,
             "#fde0ef"
            ],
            [
             0.5,
             "#f7f7f7"
            ],
            [
             0.6,
             "#e6f5d0"
            ],
            [
             0.7,
             "#b8e186"
            ],
            [
             0.8,
             "#7fbc41"
            ],
            [
             0.9,
             "#4d9221"
            ],
            [
             1,
             "#276419"
            ]
           ],
           "sequential": [
            [
             0,
             "#0d0887"
            ],
            [
             0.1111111111111111,
             "#46039f"
            ],
            [
             0.2222222222222222,
             "#7201a8"
            ],
            [
             0.3333333333333333,
             "#9c179e"
            ],
            [
             0.4444444444444444,
             "#bd3786"
            ],
            [
             0.5555555555555556,
             "#d8576b"
            ],
            [
             0.6666666666666666,
             "#ed7953"
            ],
            [
             0.7777777777777778,
             "#fb9f3a"
            ],
            [
             0.8888888888888888,
             "#fdca26"
            ],
            [
             1,
             "#f0f921"
            ]
           ],
           "sequentialminus": [
            [
             0,
             "#0d0887"
            ],
            [
             0.1111111111111111,
             "#46039f"
            ],
            [
             0.2222222222222222,
             "#7201a8"
            ],
            [
             0.3333333333333333,
             "#9c179e"
            ],
            [
             0.4444444444444444,
             "#bd3786"
            ],
            [
             0.5555555555555556,
             "#d8576b"
            ],
            [
             0.6666666666666666,
             "#ed7953"
            ],
            [
             0.7777777777777778,
             "#fb9f3a"
            ],
            [
             0.8888888888888888,
             "#fdca26"
            ],
            [
             1,
             "#f0f921"
            ]
           ]
          },
          "colorway": [
           "#636efa",
           "#EF553B",
           "#00cc96",
           "#ab63fa",
           "#FFA15A",
           "#19d3f3",
           "#FF6692",
           "#B6E880",
           "#FF97FF",
           "#FECB52"
          ],
          "font": {
           "color": "#2a3f5f"
          },
          "geo": {
           "bgcolor": "white",
           "lakecolor": "white",
           "landcolor": "#E5ECF6",
           "showlakes": true,
           "showland": true,
           "subunitcolor": "white"
          },
          "hoverlabel": {
           "align": "left"
          },
          "hovermode": "closest",
          "mapbox": {
           "style": "light"
          },
          "paper_bgcolor": "white",
          "plot_bgcolor": "#E5ECF6",
          "polar": {
           "angularaxis": {
            "gridcolor": "white",
            "linecolor": "white",
            "ticks": ""
           },
           "bgcolor": "#E5ECF6",
           "radialaxis": {
            "gridcolor": "white",
            "linecolor": "white",
            "ticks": ""
           }
          },
          "scene": {
           "xaxis": {
            "backgroundcolor": "#E5ECF6",
            "gridcolor": "white",
            "gridwidth": 2,
            "linecolor": "white",
            "showbackground": true,
            "ticks": "",
            "zerolinecolor": "white"
           },
           "yaxis": {
            "backgroundcolor": "#E5ECF6",
            "gridcolor": "white",
            "gridwidth": 2,
            "linecolor": "white",
            "showbackground": true,
            "ticks": "",
            "zerolinecolor": "white"
           },
           "zaxis": {
            "backgroundcolor": "#E5ECF6",
            "gridcolor": "white",
            "gridwidth": 2,
            "linecolor": "white",
            "showbackground": true,
            "ticks": "",
            "zerolinecolor": "white"
           }
          },
          "shapedefaults": {
           "line": {
            "color": "#2a3f5f"
           }
          },
          "ternary": {
           "aaxis": {
            "gridcolor": "white",
            "linecolor": "white",
            "ticks": ""
           },
           "baxis": {
            "gridcolor": "white",
            "linecolor": "white",
            "ticks": ""
           },
           "bgcolor": "#E5ECF6",
           "caxis": {
            "gridcolor": "white",
            "linecolor": "white",
            "ticks": ""
           }
          },
          "title": {
           "x": 0.05
          },
          "xaxis": {
           "automargin": true,
           "gridcolor": "white",
           "linecolor": "white",
           "ticks": "",
           "title": {
            "standoff": 15
           },
           "zerolinecolor": "white",
           "zerolinewidth": 2
          },
          "yaxis": {
           "automargin": true,
           "gridcolor": "white",
           "linecolor": "white",
           "ticks": "",
           "title": {
            "standoff": 15
           },
           "zerolinecolor": "white",
           "zerolinewidth": 2
          }
         }
        },
        "title": {
         "text": "Boxplot of the Loan_Amount_Term Target  - With Outliers"
        },
        "xaxis": {
         "anchor": "y",
         "domain": [
          0,
          1
         ],
         "title": {
          "text": "Target"
         }
        },
        "yaxis": {
         "anchor": "x",
         "domain": [
          0,
          1
         ]
        }
       }
      }
     },
     "metadata": {},
     "output_type": "display_data"
    },
    {
     "data": {
      "application/vnd.plotly.v1+json": {
       "config": {
        "plotlyServerURL": "https://plot.ly"
       },
       "data": [
        {
         "alignmentgroup": "True",
         "hovertemplate": "Credit_History=%{x}<extra></extra>",
         "legendgroup": "",
         "marker": {
          "color": "#636efa"
         },
         "name": "",
         "notched": false,
         "offsetgroup": "",
         "orientation": "h",
         "showlegend": false,
         "type": "box",
         "x": [
          1,
          1,
          1,
          1,
          1,
          1,
          1,
          0,
          1,
          1,
          1,
          1,
          1,
          1,
          1,
          1,
          1,
          0,
          1,
          1,
          0,
          1,
          0,
          0,
          1,
          1,
          1,
          1,
          1,
          1,
          1,
          1,
          1,
          1,
          1,
          1,
          0,
          1,
          1,
          1,
          1,
          1,
          1,
          1,
          1,
          1,
          1,
          1,
          0,
          1,
          1,
          1,
          1,
          1,
          0,
          1,
          1,
          1,
          1,
          1,
          1,
          1,
          0,
          0,
          0,
          1,
          0,
          1,
          1,
          0,
          1,
          1,
          1,
          0,
          1,
          1,
          1,
          1,
          0,
          1,
          1,
          1,
          1,
          1,
          1,
          1,
          1,
          1,
          1,
          1,
          1,
          1,
          1,
          1,
          1,
          1,
          1,
          1,
          1,
          1,
          1,
          1,
          1,
          1,
          1,
          1,
          1,
          1,
          0,
          1,
          1,
          1,
          0,
          1,
          1,
          1,
          1,
          1,
          1,
          1,
          1,
          1,
          0,
          1,
          1,
          1,
          1,
          1,
          0,
          1,
          1,
          1,
          1,
          1,
          1,
          1,
          1,
          1,
          0,
          1,
          1,
          1,
          1,
          1,
          1,
          1,
          1,
          1,
          1,
          1,
          0,
          1,
          1,
          1,
          1,
          0,
          1,
          1,
          1,
          1,
          1,
          1,
          0,
          1,
          1,
          1,
          1,
          1,
          0,
          1,
          1,
          1,
          1,
          1,
          1,
          1,
          1,
          0,
          1,
          0,
          0,
          1,
          1,
          1,
          1,
          1,
          0,
          1,
          1,
          1,
          1,
          1,
          1,
          1,
          1,
          1,
          1,
          1,
          1,
          1,
          1,
          0,
          1,
          1,
          1,
          1,
          1,
          1,
          1,
          1,
          1,
          0,
          1,
          1,
          1,
          1,
          1,
          1,
          0,
          1,
          0,
          1,
          1,
          1,
          1,
          1,
          1,
          1,
          1,
          1,
          1,
          1,
          1,
          1,
          1,
          1,
          1,
          1,
          1,
          1,
          1,
          1,
          1,
          1,
          1,
          1,
          1,
          1,
          1,
          1,
          0,
          1,
          1,
          1,
          0,
          1,
          0,
          1,
          1,
          1,
          1,
          1,
          1,
          1,
          1,
          1,
          1,
          0,
          1,
          1,
          1,
          1,
          1,
          1,
          1,
          1,
          1,
          1,
          1,
          1,
          0,
          1,
          1,
          1,
          1,
          1,
          1,
          1,
          1,
          1,
          1,
          0,
          1,
          0,
          1,
          1,
          1,
          1,
          1,
          1,
          0,
          1,
          1,
          1,
          1,
          1,
          1,
          0,
          1,
          1,
          1,
          1,
          1,
          1,
          1,
          1,
          1,
          1,
          1,
          1,
          1,
          1,
          1,
          1,
          1,
          0,
          0,
          1,
          1,
          1,
          1,
          1,
          1,
          1,
          1,
          1,
          1,
          1,
          0,
          1,
          1,
          1,
          1,
          1,
          1,
          1,
          0,
          1,
          1,
          1,
          1,
          1,
          1,
          0,
          1,
          1,
          1,
          1,
          0,
          1,
          1,
          1,
          1,
          1,
          1,
          1,
          1,
          0,
          1,
          1,
          1,
          1,
          1,
          0,
          1,
          1,
          1,
          1,
          1,
          1,
          1,
          1,
          1,
          1,
          1,
          1,
          1,
          0,
          1,
          1,
          1,
          1,
          1,
          1,
          1,
          1,
          0,
          1,
          1,
          0,
          0,
          1,
          1,
          1,
          1,
          1,
          1,
          1,
          0,
          0,
          1,
          1,
          0,
          1,
          0,
          1,
          1,
          1,
          1,
          1,
          1,
          0,
          1,
          0,
          1,
          1,
          1,
          1,
          1,
          1,
          1,
          0,
          1,
          1,
          1,
          1,
          1,
          1,
          0,
          1,
          1,
          1,
          1,
          1,
          1,
          1,
          1,
          1,
          0,
          1,
          0,
          1,
          0,
          0,
          1,
          1,
          1,
          1,
          1,
          1,
          1,
          1,
          1,
          1,
          0,
          1,
          0,
          1,
          1,
          1,
          1,
          0,
          1,
          1,
          1,
          1,
          1,
          0,
          1,
          1,
          1,
          1,
          1,
          1,
          1,
          1,
          0,
          1,
          1,
          1,
          1,
          1,
          1,
          1,
          0,
          1,
          1,
          1,
          1,
          0,
          1,
          1,
          1,
          1,
          1,
          1,
          1,
          1,
          1,
          1,
          1,
          1,
          1,
          1,
          1,
          1,
          1,
          0,
          1,
          1,
          1,
          1,
          1,
          1,
          1,
          1,
          1,
          0,
          1,
          1,
          1,
          1,
          0,
          1,
          1,
          1,
          1,
          1,
          1,
          1,
          1,
          0,
          1,
          1,
          1,
          1,
          1,
          1,
          0,
          1,
          0,
          1,
          1,
          0,
          0,
          1,
          1,
          1,
          1,
          1,
          1,
          1,
          1,
          1,
          0,
          1,
          1,
          0,
          1,
          0,
          1,
          0,
          1,
          1,
          1,
          1,
          0,
          1,
          1,
          1,
          1,
          1,
          1,
          1,
          0,
          1,
          1,
          1,
          1,
          0,
          1,
          1,
          1,
          1,
          1,
          1,
          1,
          0,
          1,
          1,
          1,
          1,
          1,
          1,
          1,
          1,
          1,
          1,
          1,
          1,
          1,
          1,
          1,
          0
         ],
         "x0": " ",
         "xaxis": "x",
         "y0": " ",
         "yaxis": "y"
        }
       ],
       "layout": {
        "boxmode": "group",
        "legend": {
         "tracegroupgap": 0
        },
        "template": {
         "data": {
          "bar": [
           {
            "error_x": {
             "color": "#2a3f5f"
            },
            "error_y": {
             "color": "#2a3f5f"
            },
            "marker": {
             "line": {
              "color": "#E5ECF6",
              "width": 0.5
             },
             "pattern": {
              "fillmode": "overlay",
              "size": 10,
              "solidity": 0.2
             }
            },
            "type": "bar"
           }
          ],
          "barpolar": [
           {
            "marker": {
             "line": {
              "color": "#E5ECF6",
              "width": 0.5
             },
             "pattern": {
              "fillmode": "overlay",
              "size": 10,
              "solidity": 0.2
             }
            },
            "type": "barpolar"
           }
          ],
          "carpet": [
           {
            "aaxis": {
             "endlinecolor": "#2a3f5f",
             "gridcolor": "white",
             "linecolor": "white",
             "minorgridcolor": "white",
             "startlinecolor": "#2a3f5f"
            },
            "baxis": {
             "endlinecolor": "#2a3f5f",
             "gridcolor": "white",
             "linecolor": "white",
             "minorgridcolor": "white",
             "startlinecolor": "#2a3f5f"
            },
            "type": "carpet"
           }
          ],
          "choropleth": [
           {
            "colorbar": {
             "outlinewidth": 0,
             "ticks": ""
            },
            "type": "choropleth"
           }
          ],
          "contour": [
           {
            "colorbar": {
             "outlinewidth": 0,
             "ticks": ""
            },
            "colorscale": [
             [
              0,
              "#0d0887"
             ],
             [
              0.1111111111111111,
              "#46039f"
             ],
             [
              0.2222222222222222,
              "#7201a8"
             ],
             [
              0.3333333333333333,
              "#9c179e"
             ],
             [
              0.4444444444444444,
              "#bd3786"
             ],
             [
              0.5555555555555556,
              "#d8576b"
             ],
             [
              0.6666666666666666,
              "#ed7953"
             ],
             [
              0.7777777777777778,
              "#fb9f3a"
             ],
             [
              0.8888888888888888,
              "#fdca26"
             ],
             [
              1,
              "#f0f921"
             ]
            ],
            "type": "contour"
           }
          ],
          "contourcarpet": [
           {
            "colorbar": {
             "outlinewidth": 0,
             "ticks": ""
            },
            "type": "contourcarpet"
           }
          ],
          "heatmap": [
           {
            "colorbar": {
             "outlinewidth": 0,
             "ticks": ""
            },
            "colorscale": [
             [
              0,
              "#0d0887"
             ],
             [
              0.1111111111111111,
              "#46039f"
             ],
             [
              0.2222222222222222,
              "#7201a8"
             ],
             [
              0.3333333333333333,
              "#9c179e"
             ],
             [
              0.4444444444444444,
              "#bd3786"
             ],
             [
              0.5555555555555556,
              "#d8576b"
             ],
             [
              0.6666666666666666,
              "#ed7953"
             ],
             [
              0.7777777777777778,
              "#fb9f3a"
             ],
             [
              0.8888888888888888,
              "#fdca26"
             ],
             [
              1,
              "#f0f921"
             ]
            ],
            "type": "heatmap"
           }
          ],
          "heatmapgl": [
           {
            "colorbar": {
             "outlinewidth": 0,
             "ticks": ""
            },
            "colorscale": [
             [
              0,
              "#0d0887"
             ],
             [
              0.1111111111111111,
              "#46039f"
             ],
             [
              0.2222222222222222,
              "#7201a8"
             ],
             [
              0.3333333333333333,
              "#9c179e"
             ],
             [
              0.4444444444444444,
              "#bd3786"
             ],
             [
              0.5555555555555556,
              "#d8576b"
             ],
             [
              0.6666666666666666,
              "#ed7953"
             ],
             [
              0.7777777777777778,
              "#fb9f3a"
             ],
             [
              0.8888888888888888,
              "#fdca26"
             ],
             [
              1,
              "#f0f921"
             ]
            ],
            "type": "heatmapgl"
           }
          ],
          "histogram": [
           {
            "marker": {
             "pattern": {
              "fillmode": "overlay",
              "size": 10,
              "solidity": 0.2
             }
            },
            "type": "histogram"
           }
          ],
          "histogram2d": [
           {
            "colorbar": {
             "outlinewidth": 0,
             "ticks": ""
            },
            "colorscale": [
             [
              0,
              "#0d0887"
             ],
             [
              0.1111111111111111,
              "#46039f"
             ],
             [
              0.2222222222222222,
              "#7201a8"
             ],
             [
              0.3333333333333333,
              "#9c179e"
             ],
             [
              0.4444444444444444,
              "#bd3786"
             ],
             [
              0.5555555555555556,
              "#d8576b"
             ],
             [
              0.6666666666666666,
              "#ed7953"
             ],
             [
              0.7777777777777778,
              "#fb9f3a"
             ],
             [
              0.8888888888888888,
              "#fdca26"
             ],
             [
              1,
              "#f0f921"
             ]
            ],
            "type": "histogram2d"
           }
          ],
          "histogram2dcontour": [
           {
            "colorbar": {
             "outlinewidth": 0,
             "ticks": ""
            },
            "colorscale": [
             [
              0,
              "#0d0887"
             ],
             [
              0.1111111111111111,
              "#46039f"
             ],
             [
              0.2222222222222222,
              "#7201a8"
             ],
             [
              0.3333333333333333,
              "#9c179e"
             ],
             [
              0.4444444444444444,
              "#bd3786"
             ],
             [
              0.5555555555555556,
              "#d8576b"
             ],
             [
              0.6666666666666666,
              "#ed7953"
             ],
             [
              0.7777777777777778,
              "#fb9f3a"
             ],
             [
              0.8888888888888888,
              "#fdca26"
             ],
             [
              1,
              "#f0f921"
             ]
            ],
            "type": "histogram2dcontour"
           }
          ],
          "mesh3d": [
           {
            "colorbar": {
             "outlinewidth": 0,
             "ticks": ""
            },
            "type": "mesh3d"
           }
          ],
          "parcoords": [
           {
            "line": {
             "colorbar": {
              "outlinewidth": 0,
              "ticks": ""
             }
            },
            "type": "parcoords"
           }
          ],
          "pie": [
           {
            "automargin": true,
            "type": "pie"
           }
          ],
          "scatter": [
           {
            "fillpattern": {
             "fillmode": "overlay",
             "size": 10,
             "solidity": 0.2
            },
            "type": "scatter"
           }
          ],
          "scatter3d": [
           {
            "line": {
             "colorbar": {
              "outlinewidth": 0,
              "ticks": ""
             }
            },
            "marker": {
             "colorbar": {
              "outlinewidth": 0,
              "ticks": ""
             }
            },
            "type": "scatter3d"
           }
          ],
          "scattercarpet": [
           {
            "marker": {
             "colorbar": {
              "outlinewidth": 0,
              "ticks": ""
             }
            },
            "type": "scattercarpet"
           }
          ],
          "scattergeo": [
           {
            "marker": {
             "colorbar": {
              "outlinewidth": 0,
              "ticks": ""
             }
            },
            "type": "scattergeo"
           }
          ],
          "scattergl": [
           {
            "marker": {
             "colorbar": {
              "outlinewidth": 0,
              "ticks": ""
             }
            },
            "type": "scattergl"
           }
          ],
          "scattermapbox": [
           {
            "marker": {
             "colorbar": {
              "outlinewidth": 0,
              "ticks": ""
             }
            },
            "type": "scattermapbox"
           }
          ],
          "scatterpolar": [
           {
            "marker": {
             "colorbar": {
              "outlinewidth": 0,
              "ticks": ""
             }
            },
            "type": "scatterpolar"
           }
          ],
          "scatterpolargl": [
           {
            "marker": {
             "colorbar": {
              "outlinewidth": 0,
              "ticks": ""
             }
            },
            "type": "scatterpolargl"
           }
          ],
          "scatterternary": [
           {
            "marker": {
             "colorbar": {
              "outlinewidth": 0,
              "ticks": ""
             }
            },
            "type": "scatterternary"
           }
          ],
          "surface": [
           {
            "colorbar": {
             "outlinewidth": 0,
             "ticks": ""
            },
            "colorscale": [
             [
              0,
              "#0d0887"
             ],
             [
              0.1111111111111111,
              "#46039f"
             ],
             [
              0.2222222222222222,
              "#7201a8"
             ],
             [
              0.3333333333333333,
              "#9c179e"
             ],
             [
              0.4444444444444444,
              "#bd3786"
             ],
             [
              0.5555555555555556,
              "#d8576b"
             ],
             [
              0.6666666666666666,
              "#ed7953"
             ],
             [
              0.7777777777777778,
              "#fb9f3a"
             ],
             [
              0.8888888888888888,
              "#fdca26"
             ],
             [
              1,
              "#f0f921"
             ]
            ],
            "type": "surface"
           }
          ],
          "table": [
           {
            "cells": {
             "fill": {
              "color": "#EBF0F8"
             },
             "line": {
              "color": "white"
             }
            },
            "header": {
             "fill": {
              "color": "#C8D4E3"
             },
             "line": {
              "color": "white"
             }
            },
            "type": "table"
           }
          ]
         },
         "layout": {
          "annotationdefaults": {
           "arrowcolor": "#2a3f5f",
           "arrowhead": 0,
           "arrowwidth": 1
          },
          "autotypenumbers": "strict",
          "coloraxis": {
           "colorbar": {
            "outlinewidth": 0,
            "ticks": ""
           }
          },
          "colorscale": {
           "diverging": [
            [
             0,
             "#8e0152"
            ],
            [
             0.1,
             "#c51b7d"
            ],
            [
             0.2,
             "#de77ae"
            ],
            [
             0.3,
             "#f1b6da"
            ],
            [
             0.4,
             "#fde0ef"
            ],
            [
             0.5,
             "#f7f7f7"
            ],
            [
             0.6,
             "#e6f5d0"
            ],
            [
             0.7,
             "#b8e186"
            ],
            [
             0.8,
             "#7fbc41"
            ],
            [
             0.9,
             "#4d9221"
            ],
            [
             1,
             "#276419"
            ]
           ],
           "sequential": [
            [
             0,
             "#0d0887"
            ],
            [
             0.1111111111111111,
             "#46039f"
            ],
            [
             0.2222222222222222,
             "#7201a8"
            ],
            [
             0.3333333333333333,
             "#9c179e"
            ],
            [
             0.4444444444444444,
             "#bd3786"
            ],
            [
             0.5555555555555556,
             "#d8576b"
            ],
            [
             0.6666666666666666,
             "#ed7953"
            ],
            [
             0.7777777777777778,
             "#fb9f3a"
            ],
            [
             0.8888888888888888,
             "#fdca26"
            ],
            [
             1,
             "#f0f921"
            ]
           ],
           "sequentialminus": [
            [
             0,
             "#0d0887"
            ],
            [
             0.1111111111111111,
             "#46039f"
            ],
            [
             0.2222222222222222,
             "#7201a8"
            ],
            [
             0.3333333333333333,
             "#9c179e"
            ],
            [
             0.4444444444444444,
             "#bd3786"
            ],
            [
             0.5555555555555556,
             "#d8576b"
            ],
            [
             0.6666666666666666,
             "#ed7953"
            ],
            [
             0.7777777777777778,
             "#fb9f3a"
            ],
            [
             0.8888888888888888,
             "#fdca26"
            ],
            [
             1,
             "#f0f921"
            ]
           ]
          },
          "colorway": [
           "#636efa",
           "#EF553B",
           "#00cc96",
           "#ab63fa",
           "#FFA15A",
           "#19d3f3",
           "#FF6692",
           "#B6E880",
           "#FF97FF",
           "#FECB52"
          ],
          "font": {
           "color": "#2a3f5f"
          },
          "geo": {
           "bgcolor": "white",
           "lakecolor": "white",
           "landcolor": "#E5ECF6",
           "showlakes": true,
           "showland": true,
           "subunitcolor": "white"
          },
          "hoverlabel": {
           "align": "left"
          },
          "hovermode": "closest",
          "mapbox": {
           "style": "light"
          },
          "paper_bgcolor": "white",
          "plot_bgcolor": "#E5ECF6",
          "polar": {
           "angularaxis": {
            "gridcolor": "white",
            "linecolor": "white",
            "ticks": ""
           },
           "bgcolor": "#E5ECF6",
           "radialaxis": {
            "gridcolor": "white",
            "linecolor": "white",
            "ticks": ""
           }
          },
          "scene": {
           "xaxis": {
            "backgroundcolor": "#E5ECF6",
            "gridcolor": "white",
            "gridwidth": 2,
            "linecolor": "white",
            "showbackground": true,
            "ticks": "",
            "zerolinecolor": "white"
           },
           "yaxis": {
            "backgroundcolor": "#E5ECF6",
            "gridcolor": "white",
            "gridwidth": 2,
            "linecolor": "white",
            "showbackground": true,
            "ticks": "",
            "zerolinecolor": "white"
           },
           "zaxis": {
            "backgroundcolor": "#E5ECF6",
            "gridcolor": "white",
            "gridwidth": 2,
            "linecolor": "white",
            "showbackground": true,
            "ticks": "",
            "zerolinecolor": "white"
           }
          },
          "shapedefaults": {
           "line": {
            "color": "#2a3f5f"
           }
          },
          "ternary": {
           "aaxis": {
            "gridcolor": "white",
            "linecolor": "white",
            "ticks": ""
           },
           "baxis": {
            "gridcolor": "white",
            "linecolor": "white",
            "ticks": ""
           },
           "bgcolor": "#E5ECF6",
           "caxis": {
            "gridcolor": "white",
            "linecolor": "white",
            "ticks": ""
           }
          },
          "title": {
           "x": 0.05
          },
          "xaxis": {
           "automargin": true,
           "gridcolor": "white",
           "linecolor": "white",
           "ticks": "",
           "title": {
            "standoff": 15
           },
           "zerolinecolor": "white",
           "zerolinewidth": 2
          },
          "yaxis": {
           "automargin": true,
           "gridcolor": "white",
           "linecolor": "white",
           "ticks": "",
           "title": {
            "standoff": 15
           },
           "zerolinecolor": "white",
           "zerolinewidth": 2
          }
         }
        },
        "title": {
         "text": "Boxplot of the Credit_History Target  - With Outliers"
        },
        "xaxis": {
         "anchor": "y",
         "domain": [
          0,
          1
         ],
         "title": {
          "text": "Target"
         }
        },
        "yaxis": {
         "anchor": "x",
         "domain": [
          0,
          1
         ]
        }
       }
      }
     },
     "metadata": {},
     "output_type": "display_data"
    }
   ],
   "source": [
    "for col in df_load_raw.columns:\n",
    "    if df_load_raw[col].dtype == 'float64' or df_load_raw[col].dtype == 'int64':\n",
    "        fig = px.box(\n",
    "            df_load_raw, \n",
    "            x = col, \n",
    "            orientation='h',\n",
    "            title=f'Boxplot of the {col} Target  - With Outliers'\n",
    "        )\n",
    "        fig.update_layout(xaxis_title='Target')\n",
    "        fig.show()"
   ]
  },
  {
   "cell_type": "markdown",
   "metadata": {},
   "source": [
    "### <u>Removing Outliers"
   ]
  },
  {
   "cell_type": "code",
   "execution_count": 46,
   "metadata": {},
   "outputs": [
    {
     "name": "stderr",
     "output_type": "stream",
     "text": [
      "C:\\Users\\encry\\AppData\\Local\\Temp\\ipykernel_19700\\2923300020.py:10: SettingWithCopyWarning:\n",
      "\n",
      "\n",
      "A value is trying to be set on a copy of a slice from a DataFrame.\n",
      "Try using .loc[row_indexer,col_indexer] = value instead\n",
      "\n",
      "See the caveats in the documentation: https://pandas.pydata.org/pandas-docs/stable/user_guide/indexing.html#returning-a-view-versus-a-copy\n",
      "\n"
     ]
    },
    {
     "data": {
      "text/html": [
       "<div>\n",
       "<style scoped>\n",
       "    .dataframe tbody tr th:only-of-type {\n",
       "        vertical-align: middle;\n",
       "    }\n",
       "\n",
       "    .dataframe tbody tr th {\n",
       "        vertical-align: top;\n",
       "    }\n",
       "\n",
       "    .dataframe thead th {\n",
       "        text-align: right;\n",
       "    }\n",
       "</style>\n",
       "<table border=\"1\" class=\"dataframe\">\n",
       "  <thead>\n",
       "    <tr style=\"text-align: right;\">\n",
       "      <th></th>\n",
       "      <th>Gender_Male</th>\n",
       "      <th>Gender_Female</th>\n",
       "      <th>Married_No</th>\n",
       "      <th>Married_Yes</th>\n",
       "      <th>Dependents_0</th>\n",
       "      <th>Dependents_1</th>\n",
       "      <th>Dependents_3+</th>\n",
       "      <th>Dependents_2</th>\n",
       "      <th>Education_Graduate</th>\n",
       "      <th>Education_Not Graduate</th>\n",
       "      <th>...</th>\n",
       "      <th>ApplicantIncome</th>\n",
       "      <th>CoapplicantIncome</th>\n",
       "      <th>LoanAmount</th>\n",
       "      <th>Loan_Amount_Term</th>\n",
       "      <th>Credit_History_1.0</th>\n",
       "      <th>Credit_History_0.0</th>\n",
       "      <th>Property_Area_Urban</th>\n",
       "      <th>Property_Area_Rural</th>\n",
       "      <th>Property_Area_Semiurban</th>\n",
       "      <th>Loan_Status</th>\n",
       "    </tr>\n",
       "  </thead>\n",
       "  <tbody>\n",
       "    <tr>\n",
       "      <th>0</th>\n",
       "      <td>1</td>\n",
       "      <td>0</td>\n",
       "      <td>1</td>\n",
       "      <td>0</td>\n",
       "      <td>1</td>\n",
       "      <td>0</td>\n",
       "      <td>0</td>\n",
       "      <td>0</td>\n",
       "      <td>1</td>\n",
       "      <td>0</td>\n",
       "      <td>...</td>\n",
       "      <td>5849</td>\n",
       "      <td>0.0</td>\n",
       "      <td>146.412162</td>\n",
       "      <td>360.0</td>\n",
       "      <td>1</td>\n",
       "      <td>0</td>\n",
       "      <td>1</td>\n",
       "      <td>0</td>\n",
       "      <td>0</td>\n",
       "      <td>1</td>\n",
       "    </tr>\n",
       "    <tr>\n",
       "      <th>1</th>\n",
       "      <td>1</td>\n",
       "      <td>0</td>\n",
       "      <td>0</td>\n",
       "      <td>1</td>\n",
       "      <td>0</td>\n",
       "      <td>1</td>\n",
       "      <td>0</td>\n",
       "      <td>0</td>\n",
       "      <td>1</td>\n",
       "      <td>0</td>\n",
       "      <td>...</td>\n",
       "      <td>4583</td>\n",
       "      <td>1508.0</td>\n",
       "      <td>128.000000</td>\n",
       "      <td>360.0</td>\n",
       "      <td>1</td>\n",
       "      <td>0</td>\n",
       "      <td>0</td>\n",
       "      <td>1</td>\n",
       "      <td>0</td>\n",
       "      <td>0</td>\n",
       "    </tr>\n",
       "    <tr>\n",
       "      <th>2</th>\n",
       "      <td>1</td>\n",
       "      <td>0</td>\n",
       "      <td>0</td>\n",
       "      <td>1</td>\n",
       "      <td>1</td>\n",
       "      <td>0</td>\n",
       "      <td>0</td>\n",
       "      <td>0</td>\n",
       "      <td>1</td>\n",
       "      <td>0</td>\n",
       "      <td>...</td>\n",
       "      <td>3000</td>\n",
       "      <td>0.0</td>\n",
       "      <td>66.000000</td>\n",
       "      <td>360.0</td>\n",
       "      <td>1</td>\n",
       "      <td>0</td>\n",
       "      <td>1</td>\n",
       "      <td>0</td>\n",
       "      <td>0</td>\n",
       "      <td>1</td>\n",
       "    </tr>\n",
       "    <tr>\n",
       "      <th>3</th>\n",
       "      <td>1</td>\n",
       "      <td>0</td>\n",
       "      <td>0</td>\n",
       "      <td>1</td>\n",
       "      <td>1</td>\n",
       "      <td>0</td>\n",
       "      <td>0</td>\n",
       "      <td>0</td>\n",
       "      <td>0</td>\n",
       "      <td>1</td>\n",
       "      <td>...</td>\n",
       "      <td>2583</td>\n",
       "      <td>2358.0</td>\n",
       "      <td>120.000000</td>\n",
       "      <td>360.0</td>\n",
       "      <td>1</td>\n",
       "      <td>0</td>\n",
       "      <td>1</td>\n",
       "      <td>0</td>\n",
       "      <td>0</td>\n",
       "      <td>1</td>\n",
       "    </tr>\n",
       "    <tr>\n",
       "      <th>4</th>\n",
       "      <td>1</td>\n",
       "      <td>0</td>\n",
       "      <td>1</td>\n",
       "      <td>0</td>\n",
       "      <td>1</td>\n",
       "      <td>0</td>\n",
       "      <td>0</td>\n",
       "      <td>0</td>\n",
       "      <td>1</td>\n",
       "      <td>0</td>\n",
       "      <td>...</td>\n",
       "      <td>6000</td>\n",
       "      <td>0.0</td>\n",
       "      <td>141.000000</td>\n",
       "      <td>360.0</td>\n",
       "      <td>1</td>\n",
       "      <td>0</td>\n",
       "      <td>1</td>\n",
       "      <td>0</td>\n",
       "      <td>0</td>\n",
       "      <td>1</td>\n",
       "    </tr>\n",
       "    <tr>\n",
       "      <th>...</th>\n",
       "      <td>...</td>\n",
       "      <td>...</td>\n",
       "      <td>...</td>\n",
       "      <td>...</td>\n",
       "      <td>...</td>\n",
       "      <td>...</td>\n",
       "      <td>...</td>\n",
       "      <td>...</td>\n",
       "      <td>...</td>\n",
       "      <td>...</td>\n",
       "      <td>...</td>\n",
       "      <td>...</td>\n",
       "      <td>...</td>\n",
       "      <td>...</td>\n",
       "      <td>...</td>\n",
       "      <td>...</td>\n",
       "      <td>...</td>\n",
       "      <td>...</td>\n",
       "      <td>...</td>\n",
       "      <td>...</td>\n",
       "      <td>...</td>\n",
       "    </tr>\n",
       "    <tr>\n",
       "      <th>609</th>\n",
       "      <td>0</td>\n",
       "      <td>1</td>\n",
       "      <td>1</td>\n",
       "      <td>0</td>\n",
       "      <td>1</td>\n",
       "      <td>0</td>\n",
       "      <td>0</td>\n",
       "      <td>0</td>\n",
       "      <td>1</td>\n",
       "      <td>0</td>\n",
       "      <td>...</td>\n",
       "      <td>2900</td>\n",
       "      <td>0.0</td>\n",
       "      <td>71.000000</td>\n",
       "      <td>360.0</td>\n",
       "      <td>1</td>\n",
       "      <td>0</td>\n",
       "      <td>0</td>\n",
       "      <td>1</td>\n",
       "      <td>0</td>\n",
       "      <td>1</td>\n",
       "    </tr>\n",
       "    <tr>\n",
       "      <th>610</th>\n",
       "      <td>1</td>\n",
       "      <td>0</td>\n",
       "      <td>0</td>\n",
       "      <td>1</td>\n",
       "      <td>0</td>\n",
       "      <td>0</td>\n",
       "      <td>1</td>\n",
       "      <td>0</td>\n",
       "      <td>1</td>\n",
       "      <td>0</td>\n",
       "      <td>...</td>\n",
       "      <td>4106</td>\n",
       "      <td>0.0</td>\n",
       "      <td>40.000000</td>\n",
       "      <td>180.0</td>\n",
       "      <td>1</td>\n",
       "      <td>0</td>\n",
       "      <td>0</td>\n",
       "      <td>1</td>\n",
       "      <td>0</td>\n",
       "      <td>1</td>\n",
       "    </tr>\n",
       "    <tr>\n",
       "      <th>611</th>\n",
       "      <td>1</td>\n",
       "      <td>0</td>\n",
       "      <td>0</td>\n",
       "      <td>1</td>\n",
       "      <td>0</td>\n",
       "      <td>1</td>\n",
       "      <td>0</td>\n",
       "      <td>0</td>\n",
       "      <td>1</td>\n",
       "      <td>0</td>\n",
       "      <td>...</td>\n",
       "      <td>8072</td>\n",
       "      <td>240.0</td>\n",
       "      <td>253.000000</td>\n",
       "      <td>360.0</td>\n",
       "      <td>1</td>\n",
       "      <td>0</td>\n",
       "      <td>1</td>\n",
       "      <td>0</td>\n",
       "      <td>0</td>\n",
       "      <td>1</td>\n",
       "    </tr>\n",
       "    <tr>\n",
       "      <th>612</th>\n",
       "      <td>1</td>\n",
       "      <td>0</td>\n",
       "      <td>0</td>\n",
       "      <td>1</td>\n",
       "      <td>0</td>\n",
       "      <td>0</td>\n",
       "      <td>0</td>\n",
       "      <td>1</td>\n",
       "      <td>1</td>\n",
       "      <td>0</td>\n",
       "      <td>...</td>\n",
       "      <td>7583</td>\n",
       "      <td>0.0</td>\n",
       "      <td>187.000000</td>\n",
       "      <td>360.0</td>\n",
       "      <td>1</td>\n",
       "      <td>0</td>\n",
       "      <td>1</td>\n",
       "      <td>0</td>\n",
       "      <td>0</td>\n",
       "      <td>1</td>\n",
       "    </tr>\n",
       "    <tr>\n",
       "      <th>613</th>\n",
       "      <td>0</td>\n",
       "      <td>1</td>\n",
       "      <td>1</td>\n",
       "      <td>0</td>\n",
       "      <td>1</td>\n",
       "      <td>0</td>\n",
       "      <td>0</td>\n",
       "      <td>0</td>\n",
       "      <td>1</td>\n",
       "      <td>0</td>\n",
       "      <td>...</td>\n",
       "      <td>4583</td>\n",
       "      <td>0.0</td>\n",
       "      <td>133.000000</td>\n",
       "      <td>360.0</td>\n",
       "      <td>0</td>\n",
       "      <td>1</td>\n",
       "      <td>0</td>\n",
       "      <td>0</td>\n",
       "      <td>1</td>\n",
       "      <td>0</td>\n",
       "    </tr>\n",
       "  </tbody>\n",
       "</table>\n",
       "<p>529 rows × 22 columns</p>\n",
       "</div>"
      ],
      "text/plain": [
       "     Gender_Male  Gender_Female  Married_No  Married_Yes  Dependents_0  \\\n",
       "0              1              0           1            0             1   \n",
       "1              1              0           0            1             0   \n",
       "2              1              0           0            1             1   \n",
       "3              1              0           0            1             1   \n",
       "4              1              0           1            0             1   \n",
       "..           ...            ...         ...          ...           ...   \n",
       "609            0              1           1            0             1   \n",
       "610            1              0           0            1             0   \n",
       "611            1              0           0            1             0   \n",
       "612            1              0           0            1             0   \n",
       "613            0              1           1            0             1   \n",
       "\n",
       "     Dependents_1  Dependents_3+  Dependents_2  Education_Graduate  \\\n",
       "0               0              0             0                   1   \n",
       "1               1              0             0                   1   \n",
       "2               0              0             0                   1   \n",
       "3               0              0             0                   0   \n",
       "4               0              0             0                   1   \n",
       "..            ...            ...           ...                 ...   \n",
       "609             0              0             0                   1   \n",
       "610             0              1             0                   1   \n",
       "611             1              0             0                   1   \n",
       "612             0              0             1                   1   \n",
       "613             0              0             0                   1   \n",
       "\n",
       "     Education_Not Graduate  ...  ApplicantIncome  CoapplicantIncome  \\\n",
       "0                         0  ...             5849                0.0   \n",
       "1                         0  ...             4583             1508.0   \n",
       "2                         0  ...             3000                0.0   \n",
       "3                         1  ...             2583             2358.0   \n",
       "4                         0  ...             6000                0.0   \n",
       "..                      ...  ...              ...                ...   \n",
       "609                       0  ...             2900                0.0   \n",
       "610                       0  ...             4106                0.0   \n",
       "611                       0  ...             8072              240.0   \n",
       "612                       0  ...             7583                0.0   \n",
       "613                       0  ...             4583                0.0   \n",
       "\n",
       "     LoanAmount  Loan_Amount_Term  Credit_History_1.0  Credit_History_0.0  \\\n",
       "0    146.412162             360.0                   1                   0   \n",
       "1    128.000000             360.0                   1                   0   \n",
       "2     66.000000             360.0                   1                   0   \n",
       "3    120.000000             360.0                   1                   0   \n",
       "4    141.000000             360.0                   1                   0   \n",
       "..          ...               ...                 ...                 ...   \n",
       "609   71.000000             360.0                   1                   0   \n",
       "610   40.000000             180.0                   1                   0   \n",
       "611  253.000000             360.0                   1                   0   \n",
       "612  187.000000             360.0                   1                   0   \n",
       "613  133.000000             360.0                   0                   1   \n",
       "\n",
       "     Property_Area_Urban  Property_Area_Rural  Property_Area_Semiurban  \\\n",
       "0                      1                    0                        0   \n",
       "1                      0                    1                        0   \n",
       "2                      1                    0                        0   \n",
       "3                      1                    0                        0   \n",
       "4                      1                    0                        0   \n",
       "..                   ...                  ...                      ...   \n",
       "609                    0                    1                        0   \n",
       "610                    0                    1                        0   \n",
       "611                    1                    0                        0   \n",
       "612                    1                    0                        0   \n",
       "613                    0                    0                        1   \n",
       "\n",
       "     Loan_Status  \n",
       "0              1  \n",
       "1              0  \n",
       "2              1  \n",
       "3              1  \n",
       "4              1  \n",
       "..           ...  \n",
       "609            1  \n",
       "610            1  \n",
       "611            1  \n",
       "612            1  \n",
       "613            0  \n",
       "\n",
       "[529 rows x 22 columns]"
      ]
     },
     "execution_count": 46,
     "metadata": {},
     "output_type": "execute_result"
    }
   ],
   "source": [
    "#Removing data from the dataset which doesn't comply to the specified rule\n",
    "min_mask = lambda col, val: df_load_raw[col] < val\n",
    "income_mask = min_mask('ApplicantIncome',10000)\n",
    "coapplicant_income_mask = min_mask('CoapplicantIncome',5701)\n",
    "loan_ammount_mask = min_mask('LoanAmount',260)\n",
    "\n",
    "df_raw_new = df_load_raw[income_mask & coapplicant_income_mask & loan_ammount_mask]\n",
    "\n",
    "if 'Loan_Status' in df_raw_new.columns:\n",
    "        df_raw_new['Loan_Status'] = df_raw_new['Loan_Status'].apply(lambda s: 1 if s == 'Y' else 0)\n",
    "        \n",
    "        \n",
    "ohe = OneHotEncoder(\n",
    "    use_cat_names=True, \n",
    "    cols=['Gender','Married', 'Dependents', 'Education', 'Self_Employed', 'Credit_History','Property_Area']\n",
    "    )\n",
    "\n",
    "encoded_df = ohe.fit_transform(df_raw_new)\n",
    "  \n",
    "encoded_df"
   ]
  },
  {
   "cell_type": "markdown",
   "metadata": {},
   "source": [
    "-----------\n",
    "----------"
   ]
  },
  {
   "cell_type": "markdown",
   "metadata": {},
   "source": [
    "# Non Feature Preparatoin"
   ]
  },
  {
   "cell_type": "code",
   "execution_count": 47,
   "metadata": {},
   "outputs": [],
   "source": [
    "def prepare_data1(data):\n",
    "    df_raw_new = pd.read_csv(data)\n",
    "    \n",
    "    if 'Loan_ID' in df_raw_new.columns:\n",
    "        df_raw_new.drop(columns = 'Loan_ID', inplace=True)\n",
    "\n",
    "    df_raw_new['Credit_History'] = df_raw_new['Credit_History'].astype(object)\n",
    "    missing_values = (\n",
    "        df_raw_new.isnull().sum()/len(df_raw_new)*100\n",
    "    ).round(0).astype(int)\n",
    "\n",
    "    df_raw_new['LoanAmount'].fillna(df_raw_new['LoanAmount'].mean(), inplace=True)\n",
    "    df_raw_new['Loan_Amount_Term'].fillna(df_raw_new['Loan_Amount_Term'].mode()[0], inplace=True) \n",
    "    df_raw_new['Credit_History'].fillna(df_raw_new['Credit_History'].mode()[0], inplace=True)\n",
    "\n",
    "    df_raw_new['Gender'].fillna(df_raw_new['Gender'].mode()[0], inplace=True)\n",
    "    df_raw_new['Married'].fillna(df_raw_new['Married'].mode()[0], inplace=True)\n",
    "    df_raw_new['Dependents'].fillna(df_raw_new['Dependents'].mode()[0], inplace=True)\n",
    "    df_raw_new['Self_Employed'].fillna(df_raw_new['Self_Employed'].mode()[0], inplace=True)\n",
    "\n",
    "    min_mask = lambda col, val: df_raw_new[col] < val\n",
    "    income_mask = min_mask('ApplicantIncome',10000)\n",
    "    coapplicant_income_mask = min_mask('CoapplicantIncome',5701)\n",
    "    loan_ammount_mask = min_mask('LoanAmount',260)\n",
    "\n",
    "    df_raw_new1 = df_raw_new[income_mask & coapplicant_income_mask & loan_ammount_mask]\n",
    "\n",
    "    if 'Loan_Status' in df_raw_new1.columns:\n",
    "        df_raw_new1['Loan_Status'] = df_raw_new1['Loan_Status'].apply(lambda s: 1 if s == 'Y' else 0)\n",
    "        \n",
    "    ohe = OneHotEncoder(\n",
    "    use_cat_names=True, \n",
    "    cols=['Gender', 'Dependents', 'Married', 'Education', 'Self_Employed', 'Credit_History','Property_Area']\n",
    "    )\n",
    "\n",
    "    encoded_df = ohe.fit_transform(df_raw_new1)\n",
    "\n",
    "    return encoded_df\n",
    "\n"
   ]
  },
  {
   "cell_type": "code",
   "execution_count": 48,
   "metadata": {},
   "outputs": [
    {
     "name": "stderr",
     "output_type": "stream",
     "text": [
      "C:\\Users\\encry\\AppData\\Local\\Temp\\ipykernel_19700\\236248400.py:29: SettingWithCopyWarning:\n",
      "\n",
      "\n",
      "A value is trying to be set on a copy of a slice from a DataFrame.\n",
      "Try using .loc[row_indexer,col_indexer] = value instead\n",
      "\n",
      "See the caveats in the documentation: https://pandas.pydata.org/pandas-docs/stable/user_guide/indexing.html#returning-a-view-versus-a-copy\n",
      "\n"
     ]
    },
    {
     "data": {
      "text/html": [
       "<div>\n",
       "<style scoped>\n",
       "    .dataframe tbody tr th:only-of-type {\n",
       "        vertical-align: middle;\n",
       "    }\n",
       "\n",
       "    .dataframe tbody tr th {\n",
       "        vertical-align: top;\n",
       "    }\n",
       "\n",
       "    .dataframe thead th {\n",
       "        text-align: right;\n",
       "    }\n",
       "</style>\n",
       "<table border=\"1\" class=\"dataframe\">\n",
       "  <thead>\n",
       "    <tr style=\"text-align: right;\">\n",
       "      <th></th>\n",
       "      <th>Gender_Male</th>\n",
       "      <th>Gender_Female</th>\n",
       "      <th>Married_No</th>\n",
       "      <th>Married_Yes</th>\n",
       "      <th>Dependents_0</th>\n",
       "      <th>Dependents_1</th>\n",
       "      <th>Dependents_3+</th>\n",
       "      <th>Dependents_2</th>\n",
       "      <th>Education_Graduate</th>\n",
       "      <th>Education_Not Graduate</th>\n",
       "      <th>...</th>\n",
       "      <th>ApplicantIncome</th>\n",
       "      <th>CoapplicantIncome</th>\n",
       "      <th>LoanAmount</th>\n",
       "      <th>Loan_Amount_Term</th>\n",
       "      <th>Credit_History_1.0</th>\n",
       "      <th>Credit_History_0.0</th>\n",
       "      <th>Property_Area_Urban</th>\n",
       "      <th>Property_Area_Rural</th>\n",
       "      <th>Property_Area_Semiurban</th>\n",
       "      <th>Loan_Status</th>\n",
       "    </tr>\n",
       "  </thead>\n",
       "  <tbody>\n",
       "    <tr>\n",
       "      <th>0</th>\n",
       "      <td>1</td>\n",
       "      <td>0</td>\n",
       "      <td>1</td>\n",
       "      <td>0</td>\n",
       "      <td>1</td>\n",
       "      <td>0</td>\n",
       "      <td>0</td>\n",
       "      <td>0</td>\n",
       "      <td>1</td>\n",
       "      <td>0</td>\n",
       "      <td>...</td>\n",
       "      <td>5849</td>\n",
       "      <td>0.0</td>\n",
       "      <td>146.412162</td>\n",
       "      <td>360.0</td>\n",
       "      <td>1</td>\n",
       "      <td>0</td>\n",
       "      <td>1</td>\n",
       "      <td>0</td>\n",
       "      <td>0</td>\n",
       "      <td>1</td>\n",
       "    </tr>\n",
       "    <tr>\n",
       "      <th>1</th>\n",
       "      <td>1</td>\n",
       "      <td>0</td>\n",
       "      <td>0</td>\n",
       "      <td>1</td>\n",
       "      <td>0</td>\n",
       "      <td>1</td>\n",
       "      <td>0</td>\n",
       "      <td>0</td>\n",
       "      <td>1</td>\n",
       "      <td>0</td>\n",
       "      <td>...</td>\n",
       "      <td>4583</td>\n",
       "      <td>1508.0</td>\n",
       "      <td>128.000000</td>\n",
       "      <td>360.0</td>\n",
       "      <td>1</td>\n",
       "      <td>0</td>\n",
       "      <td>0</td>\n",
       "      <td>1</td>\n",
       "      <td>0</td>\n",
       "      <td>0</td>\n",
       "    </tr>\n",
       "    <tr>\n",
       "      <th>2</th>\n",
       "      <td>1</td>\n",
       "      <td>0</td>\n",
       "      <td>0</td>\n",
       "      <td>1</td>\n",
       "      <td>1</td>\n",
       "      <td>0</td>\n",
       "      <td>0</td>\n",
       "      <td>0</td>\n",
       "      <td>1</td>\n",
       "      <td>0</td>\n",
       "      <td>...</td>\n",
       "      <td>3000</td>\n",
       "      <td>0.0</td>\n",
       "      <td>66.000000</td>\n",
       "      <td>360.0</td>\n",
       "      <td>1</td>\n",
       "      <td>0</td>\n",
       "      <td>1</td>\n",
       "      <td>0</td>\n",
       "      <td>0</td>\n",
       "      <td>1</td>\n",
       "    </tr>\n",
       "    <tr>\n",
       "      <th>3</th>\n",
       "      <td>1</td>\n",
       "      <td>0</td>\n",
       "      <td>0</td>\n",
       "      <td>1</td>\n",
       "      <td>1</td>\n",
       "      <td>0</td>\n",
       "      <td>0</td>\n",
       "      <td>0</td>\n",
       "      <td>0</td>\n",
       "      <td>1</td>\n",
       "      <td>...</td>\n",
       "      <td>2583</td>\n",
       "      <td>2358.0</td>\n",
       "      <td>120.000000</td>\n",
       "      <td>360.0</td>\n",
       "      <td>1</td>\n",
       "      <td>0</td>\n",
       "      <td>1</td>\n",
       "      <td>0</td>\n",
       "      <td>0</td>\n",
       "      <td>1</td>\n",
       "    </tr>\n",
       "    <tr>\n",
       "      <th>4</th>\n",
       "      <td>1</td>\n",
       "      <td>0</td>\n",
       "      <td>1</td>\n",
       "      <td>0</td>\n",
       "      <td>1</td>\n",
       "      <td>0</td>\n",
       "      <td>0</td>\n",
       "      <td>0</td>\n",
       "      <td>1</td>\n",
       "      <td>0</td>\n",
       "      <td>...</td>\n",
       "      <td>6000</td>\n",
       "      <td>0.0</td>\n",
       "      <td>141.000000</td>\n",
       "      <td>360.0</td>\n",
       "      <td>1</td>\n",
       "      <td>0</td>\n",
       "      <td>1</td>\n",
       "      <td>0</td>\n",
       "      <td>0</td>\n",
       "      <td>1</td>\n",
       "    </tr>\n",
       "    <tr>\n",
       "      <th>...</th>\n",
       "      <td>...</td>\n",
       "      <td>...</td>\n",
       "      <td>...</td>\n",
       "      <td>...</td>\n",
       "      <td>...</td>\n",
       "      <td>...</td>\n",
       "      <td>...</td>\n",
       "      <td>...</td>\n",
       "      <td>...</td>\n",
       "      <td>...</td>\n",
       "      <td>...</td>\n",
       "      <td>...</td>\n",
       "      <td>...</td>\n",
       "      <td>...</td>\n",
       "      <td>...</td>\n",
       "      <td>...</td>\n",
       "      <td>...</td>\n",
       "      <td>...</td>\n",
       "      <td>...</td>\n",
       "      <td>...</td>\n",
       "      <td>...</td>\n",
       "    </tr>\n",
       "    <tr>\n",
       "      <th>609</th>\n",
       "      <td>0</td>\n",
       "      <td>1</td>\n",
       "      <td>1</td>\n",
       "      <td>0</td>\n",
       "      <td>1</td>\n",
       "      <td>0</td>\n",
       "      <td>0</td>\n",
       "      <td>0</td>\n",
       "      <td>1</td>\n",
       "      <td>0</td>\n",
       "      <td>...</td>\n",
       "      <td>2900</td>\n",
       "      <td>0.0</td>\n",
       "      <td>71.000000</td>\n",
       "      <td>360.0</td>\n",
       "      <td>1</td>\n",
       "      <td>0</td>\n",
       "      <td>0</td>\n",
       "      <td>1</td>\n",
       "      <td>0</td>\n",
       "      <td>1</td>\n",
       "    </tr>\n",
       "    <tr>\n",
       "      <th>610</th>\n",
       "      <td>1</td>\n",
       "      <td>0</td>\n",
       "      <td>0</td>\n",
       "      <td>1</td>\n",
       "      <td>0</td>\n",
       "      <td>0</td>\n",
       "      <td>1</td>\n",
       "      <td>0</td>\n",
       "      <td>1</td>\n",
       "      <td>0</td>\n",
       "      <td>...</td>\n",
       "      <td>4106</td>\n",
       "      <td>0.0</td>\n",
       "      <td>40.000000</td>\n",
       "      <td>180.0</td>\n",
       "      <td>1</td>\n",
       "      <td>0</td>\n",
       "      <td>0</td>\n",
       "      <td>1</td>\n",
       "      <td>0</td>\n",
       "      <td>1</td>\n",
       "    </tr>\n",
       "    <tr>\n",
       "      <th>611</th>\n",
       "      <td>1</td>\n",
       "      <td>0</td>\n",
       "      <td>0</td>\n",
       "      <td>1</td>\n",
       "      <td>0</td>\n",
       "      <td>1</td>\n",
       "      <td>0</td>\n",
       "      <td>0</td>\n",
       "      <td>1</td>\n",
       "      <td>0</td>\n",
       "      <td>...</td>\n",
       "      <td>8072</td>\n",
       "      <td>240.0</td>\n",
       "      <td>253.000000</td>\n",
       "      <td>360.0</td>\n",
       "      <td>1</td>\n",
       "      <td>0</td>\n",
       "      <td>1</td>\n",
       "      <td>0</td>\n",
       "      <td>0</td>\n",
       "      <td>1</td>\n",
       "    </tr>\n",
       "    <tr>\n",
       "      <th>612</th>\n",
       "      <td>1</td>\n",
       "      <td>0</td>\n",
       "      <td>0</td>\n",
       "      <td>1</td>\n",
       "      <td>0</td>\n",
       "      <td>0</td>\n",
       "      <td>0</td>\n",
       "      <td>1</td>\n",
       "      <td>1</td>\n",
       "      <td>0</td>\n",
       "      <td>...</td>\n",
       "      <td>7583</td>\n",
       "      <td>0.0</td>\n",
       "      <td>187.000000</td>\n",
       "      <td>360.0</td>\n",
       "      <td>1</td>\n",
       "      <td>0</td>\n",
       "      <td>1</td>\n",
       "      <td>0</td>\n",
       "      <td>0</td>\n",
       "      <td>1</td>\n",
       "    </tr>\n",
       "    <tr>\n",
       "      <th>613</th>\n",
       "      <td>0</td>\n",
       "      <td>1</td>\n",
       "      <td>1</td>\n",
       "      <td>0</td>\n",
       "      <td>1</td>\n",
       "      <td>0</td>\n",
       "      <td>0</td>\n",
       "      <td>0</td>\n",
       "      <td>1</td>\n",
       "      <td>0</td>\n",
       "      <td>...</td>\n",
       "      <td>4583</td>\n",
       "      <td>0.0</td>\n",
       "      <td>133.000000</td>\n",
       "      <td>360.0</td>\n",
       "      <td>0</td>\n",
       "      <td>1</td>\n",
       "      <td>0</td>\n",
       "      <td>0</td>\n",
       "      <td>1</td>\n",
       "      <td>0</td>\n",
       "    </tr>\n",
       "  </tbody>\n",
       "</table>\n",
       "<p>529 rows × 22 columns</p>\n",
       "</div>"
      ],
      "text/plain": [
       "     Gender_Male  Gender_Female  Married_No  Married_Yes  Dependents_0  \\\n",
       "0              1              0           1            0             1   \n",
       "1              1              0           0            1             0   \n",
       "2              1              0           0            1             1   \n",
       "3              1              0           0            1             1   \n",
       "4              1              0           1            0             1   \n",
       "..           ...            ...         ...          ...           ...   \n",
       "609            0              1           1            0             1   \n",
       "610            1              0           0            1             0   \n",
       "611            1              0           0            1             0   \n",
       "612            1              0           0            1             0   \n",
       "613            0              1           1            0             1   \n",
       "\n",
       "     Dependents_1  Dependents_3+  Dependents_2  Education_Graduate  \\\n",
       "0               0              0             0                   1   \n",
       "1               1              0             0                   1   \n",
       "2               0              0             0                   1   \n",
       "3               0              0             0                   0   \n",
       "4               0              0             0                   1   \n",
       "..            ...            ...           ...                 ...   \n",
       "609             0              0             0                   1   \n",
       "610             0              1             0                   1   \n",
       "611             1              0             0                   1   \n",
       "612             0              0             1                   1   \n",
       "613             0              0             0                   1   \n",
       "\n",
       "     Education_Not Graduate  ...  ApplicantIncome  CoapplicantIncome  \\\n",
       "0                         0  ...             5849                0.0   \n",
       "1                         0  ...             4583             1508.0   \n",
       "2                         0  ...             3000                0.0   \n",
       "3                         1  ...             2583             2358.0   \n",
       "4                         0  ...             6000                0.0   \n",
       "..                      ...  ...              ...                ...   \n",
       "609                       0  ...             2900                0.0   \n",
       "610                       0  ...             4106                0.0   \n",
       "611                       0  ...             8072              240.0   \n",
       "612                       0  ...             7583                0.0   \n",
       "613                       0  ...             4583                0.0   \n",
       "\n",
       "     LoanAmount  Loan_Amount_Term  Credit_History_1.0  Credit_History_0.0  \\\n",
       "0    146.412162             360.0                   1                   0   \n",
       "1    128.000000             360.0                   1                   0   \n",
       "2     66.000000             360.0                   1                   0   \n",
       "3    120.000000             360.0                   1                   0   \n",
       "4    141.000000             360.0                   1                   0   \n",
       "..          ...               ...                 ...                 ...   \n",
       "609   71.000000             360.0                   1                   0   \n",
       "610   40.000000             180.0                   1                   0   \n",
       "611  253.000000             360.0                   1                   0   \n",
       "612  187.000000             360.0                   1                   0   \n",
       "613  133.000000             360.0                   0                   1   \n",
       "\n",
       "     Property_Area_Urban  Property_Area_Rural  Property_Area_Semiurban  \\\n",
       "0                      1                    0                        0   \n",
       "1                      0                    1                        0   \n",
       "2                      1                    0                        0   \n",
       "3                      1                    0                        0   \n",
       "4                      1                    0                        0   \n",
       "..                   ...                  ...                      ...   \n",
       "609                    0                    1                        0   \n",
       "610                    0                    1                        0   \n",
       "611                    1                    0                        0   \n",
       "612                    1                    0                        0   \n",
       "613                    0                    0                        1   \n",
       "\n",
       "     Loan_Status  \n",
       "0              1  \n",
       "1              0  \n",
       "2              1  \n",
       "3              1  \n",
       "4              1  \n",
       "..           ...  \n",
       "609            1  \n",
       "610            1  \n",
       "611            1  \n",
       "612            1  \n",
       "613            0  \n",
       "\n",
       "[529 rows x 22 columns]"
      ]
     },
     "execution_count": 48,
     "metadata": {},
     "output_type": "execute_result"
    }
   ],
   "source": [
    "(prepare_data1('../data/raw_data.csv'))"
   ]
  },
  {
   "cell_type": "markdown",
   "metadata": {},
   "source": [
    "--------------------------\n",
    "-----------------"
   ]
  },
  {
   "cell_type": "markdown",
   "metadata": {},
   "source": [
    "# Step 8. Feature engineering"
   ]
  },
  {
   "cell_type": "markdown",
   "metadata": {},
   "source": [
    "# Feature Encoded Preperation"
   ]
  },
  {
   "cell_type": "code",
   "execution_count": 49,
   "metadata": {},
   "outputs": [],
   "source": [
    "\n",
    "def prepare_data2(data):\n",
    "    df_raw_new = pd.read_csv(data)\n",
    "    \n",
    "    if 'Loan_ID' in df_raw_new.columns:\n",
    "        df_raw_new.drop(columns = 'Loan_ID', inplace=True)\n",
    "\n",
    "    df_raw_new['Credit_History'] = df_raw_new['Credit_History'].astype(object)\n",
    "    missing_values = (\n",
    "        df_raw_new.isnull().sum()/len(df_raw_new)*100\n",
    "    ).round(0).astype(int)\n",
    "\n",
    "    df_raw_new['LoanAmount'].fillna(df_raw_new['LoanAmount'].mean(), inplace=True)\n",
    "    df_raw_new['Loan_Amount_Term'].fillna(df_raw_new['Loan_Amount_Term'].mode()[0], inplace=True) \n",
    "    df_raw_new['Credit_History'].fillna(df_raw_new['Credit_History'].mode()[0], inplace=True)\n",
    "\n",
    "    df_raw_new['Gender'].fillna(df_raw_new['Gender'].mode()[0], inplace=True)\n",
    "    df_raw_new['Married'].fillna(df_raw_new['Married'].mode()[0], inplace=True)\n",
    "    df_raw_new['Dependents'].fillna(df_raw_new['Dependents'].mode()[0], inplace=True)\n",
    "    df_raw_new['Self_Employed'].fillna(df_raw_new['Self_Employed'].mode()[0], inplace=True)\n",
    "\n",
    "    min_mask = lambda col, val: df_raw_new[col] < val\n",
    "    income_mask = min_mask('ApplicantIncome',10000)\n",
    "    coapplicant_income_mask = min_mask('CoapplicantIncome',5701)\n",
    "    loan_ammount_mask = min_mask('LoanAmount',260)\n",
    "\n",
    "    df_raw_new1 = df_raw_new[income_mask & coapplicant_income_mask & loan_ammount_mask]\n",
    "\n",
    "    if 'Loan_Status' in df_raw_new1.columns:\n",
    "        df_raw_new1['Loan_Status'] = df_raw_new1['Loan_Status'].apply(lambda s: 1 if s == 'Y' else 0)\n",
    "    \n",
    "    df_raw_new1['Total_Income'] = df_raw_new1['ApplicantIncome'] + df_raw_new1['CoapplicantIncome']\n",
    "    df_raw_new1['Loan_Term_Category'] = pd.cut(df_raw_new1['Loan_Amount_Term'], bins=[0, 180, 360, 600], labels=['Short-term', 'Medium-term', 'Long-term'])\n",
    "    df_raw_new1['Income_Stability'] = df_raw_new1[['ApplicantIncome', 'CoapplicantIncome']].std(axis=1)\n",
    "    df_raw_new1['Loan_to_Income_ratio'] = df_raw_new1['LoanAmount'] / ((df_raw_new1['ApplicantIncome'] + df_raw_new1['CoapplicantIncome']))\n",
    "    \n",
    "    df_raw_new1['Loan_Term_Category'] = df_raw_new1['Loan_Term_Category'].astype(object)\n",
    "        \n",
    "    ohe = OneHotEncoder(\n",
    "        use_cat_names=True, \n",
    "        cols=['Gender','Married', 'Dependents', 'Education', 'Self_Employed', 'Credit_History','Property_Area', 'Loan_Term_Category']\n",
    "        )\n",
    "\n",
    "    encoded_df = ohe.fit_transform(df_raw_new1)\n",
    "\n",
    "    return encoded_df\n"
   ]
  },
  {
   "cell_type": "code",
   "execution_count": 50,
   "metadata": {},
   "outputs": [
    {
     "name": "stderr",
     "output_type": "stream",
     "text": [
      "C:\\Users\\encry\\AppData\\Local\\Temp\\ipykernel_19700\\1110701930.py:29: SettingWithCopyWarning:\n",
      "\n",
      "\n",
      "A value is trying to be set on a copy of a slice from a DataFrame.\n",
      "Try using .loc[row_indexer,col_indexer] = value instead\n",
      "\n",
      "See the caveats in the documentation: https://pandas.pydata.org/pandas-docs/stable/user_guide/indexing.html#returning-a-view-versus-a-copy\n",
      "\n",
      "C:\\Users\\encry\\AppData\\Local\\Temp\\ipykernel_19700\\1110701930.py:31: SettingWithCopyWarning:\n",
      "\n",
      "\n",
      "A value is trying to be set on a copy of a slice from a DataFrame.\n",
      "Try using .loc[row_indexer,col_indexer] = value instead\n",
      "\n",
      "See the caveats in the documentation: https://pandas.pydata.org/pandas-docs/stable/user_guide/indexing.html#returning-a-view-versus-a-copy\n",
      "\n",
      "C:\\Users\\encry\\AppData\\Local\\Temp\\ipykernel_19700\\1110701930.py:32: SettingWithCopyWarning:\n",
      "\n",
      "\n",
      "A value is trying to be set on a copy of a slice from a DataFrame.\n",
      "Try using .loc[row_indexer,col_indexer] = value instead\n",
      "\n",
      "See the caveats in the documentation: https://pandas.pydata.org/pandas-docs/stable/user_guide/indexing.html#returning-a-view-versus-a-copy\n",
      "\n",
      "C:\\Users\\encry\\AppData\\Local\\Temp\\ipykernel_19700\\1110701930.py:33: SettingWithCopyWarning:\n",
      "\n",
      "\n",
      "A value is trying to be set on a copy of a slice from a DataFrame.\n",
      "Try using .loc[row_indexer,col_indexer] = value instead\n",
      "\n",
      "See the caveats in the documentation: https://pandas.pydata.org/pandas-docs/stable/user_guide/indexing.html#returning-a-view-versus-a-copy\n",
      "\n",
      "C:\\Users\\encry\\AppData\\Local\\Temp\\ipykernel_19700\\1110701930.py:34: SettingWithCopyWarning:\n",
      "\n",
      "\n",
      "A value is trying to be set on a copy of a slice from a DataFrame.\n",
      "Try using .loc[row_indexer,col_indexer] = value instead\n",
      "\n",
      "See the caveats in the documentation: https://pandas.pydata.org/pandas-docs/stable/user_guide/indexing.html#returning-a-view-versus-a-copy\n",
      "\n",
      "C:\\Users\\encry\\AppData\\Local\\Temp\\ipykernel_19700\\1110701930.py:36: SettingWithCopyWarning:\n",
      "\n",
      "\n",
      "A value is trying to be set on a copy of a slice from a DataFrame.\n",
      "Try using .loc[row_indexer,col_indexer] = value instead\n",
      "\n",
      "See the caveats in the documentation: https://pandas.pydata.org/pandas-docs/stable/user_guide/indexing.html#returning-a-view-versus-a-copy\n",
      "\n"
     ]
    },
    {
     "data": {
      "text/html": [
       "<div>\n",
       "<style scoped>\n",
       "    .dataframe tbody tr th:only-of-type {\n",
       "        vertical-align: middle;\n",
       "    }\n",
       "\n",
       "    .dataframe tbody tr th {\n",
       "        vertical-align: top;\n",
       "    }\n",
       "\n",
       "    .dataframe thead th {\n",
       "        text-align: right;\n",
       "    }\n",
       "</style>\n",
       "<table border=\"1\" class=\"dataframe\">\n",
       "  <thead>\n",
       "    <tr style=\"text-align: right;\">\n",
       "      <th></th>\n",
       "      <th>Gender_Male</th>\n",
       "      <th>Gender_Female</th>\n",
       "      <th>Married_No</th>\n",
       "      <th>Married_Yes</th>\n",
       "      <th>Dependents_0</th>\n",
       "      <th>Dependents_1</th>\n",
       "      <th>Dependents_3+</th>\n",
       "      <th>Dependents_2</th>\n",
       "      <th>Education_Graduate</th>\n",
       "      <th>Education_Not Graduate</th>\n",
       "      <th>...</th>\n",
       "      <th>Property_Area_Urban</th>\n",
       "      <th>Property_Area_Rural</th>\n",
       "      <th>Property_Area_Semiurban</th>\n",
       "      <th>Loan_Status</th>\n",
       "      <th>Total_Income</th>\n",
       "      <th>Loan_Term_Category_Medium-term</th>\n",
       "      <th>Loan_Term_Category_Short-term</th>\n",
       "      <th>Loan_Term_Category_Long-term</th>\n",
       "      <th>Income_Stability</th>\n",
       "      <th>Loan_to_Income_ratio</th>\n",
       "    </tr>\n",
       "  </thead>\n",
       "  <tbody>\n",
       "    <tr>\n",
       "      <th>0</th>\n",
       "      <td>1</td>\n",
       "      <td>0</td>\n",
       "      <td>1</td>\n",
       "      <td>0</td>\n",
       "      <td>1</td>\n",
       "      <td>0</td>\n",
       "      <td>0</td>\n",
       "      <td>0</td>\n",
       "      <td>1</td>\n",
       "      <td>0</td>\n",
       "      <td>...</td>\n",
       "      <td>1</td>\n",
       "      <td>0</td>\n",
       "      <td>0</td>\n",
       "      <td>1</td>\n",
       "      <td>5849.0</td>\n",
       "      <td>1</td>\n",
       "      <td>0</td>\n",
       "      <td>0</td>\n",
       "      <td>4135.867563</td>\n",
       "      <td>0.025032</td>\n",
       "    </tr>\n",
       "    <tr>\n",
       "      <th>1</th>\n",
       "      <td>1</td>\n",
       "      <td>0</td>\n",
       "      <td>0</td>\n",
       "      <td>1</td>\n",
       "      <td>0</td>\n",
       "      <td>1</td>\n",
       "      <td>0</td>\n",
       "      <td>0</td>\n",
       "      <td>1</td>\n",
       "      <td>0</td>\n",
       "      <td>...</td>\n",
       "      <td>0</td>\n",
       "      <td>1</td>\n",
       "      <td>0</td>\n",
       "      <td>0</td>\n",
       "      <td>6091.0</td>\n",
       "      <td>1</td>\n",
       "      <td>0</td>\n",
       "      <td>0</td>\n",
       "      <td>2174.353352</td>\n",
       "      <td>0.021015</td>\n",
       "    </tr>\n",
       "    <tr>\n",
       "      <th>2</th>\n",
       "      <td>1</td>\n",
       "      <td>0</td>\n",
       "      <td>0</td>\n",
       "      <td>1</td>\n",
       "      <td>1</td>\n",
       "      <td>0</td>\n",
       "      <td>0</td>\n",
       "      <td>0</td>\n",
       "      <td>1</td>\n",
       "      <td>0</td>\n",
       "      <td>...</td>\n",
       "      <td>1</td>\n",
       "      <td>0</td>\n",
       "      <td>0</td>\n",
       "      <td>1</td>\n",
       "      <td>3000.0</td>\n",
       "      <td>1</td>\n",
       "      <td>0</td>\n",
       "      <td>0</td>\n",
       "      <td>2121.320344</td>\n",
       "      <td>0.022000</td>\n",
       "    </tr>\n",
       "    <tr>\n",
       "      <th>3</th>\n",
       "      <td>1</td>\n",
       "      <td>0</td>\n",
       "      <td>0</td>\n",
       "      <td>1</td>\n",
       "      <td>1</td>\n",
       "      <td>0</td>\n",
       "      <td>0</td>\n",
       "      <td>0</td>\n",
       "      <td>0</td>\n",
       "      <td>1</td>\n",
       "      <td>...</td>\n",
       "      <td>1</td>\n",
       "      <td>0</td>\n",
       "      <td>0</td>\n",
       "      <td>1</td>\n",
       "      <td>4941.0</td>\n",
       "      <td>1</td>\n",
       "      <td>0</td>\n",
       "      <td>0</td>\n",
       "      <td>159.099026</td>\n",
       "      <td>0.024287</td>\n",
       "    </tr>\n",
       "    <tr>\n",
       "      <th>4</th>\n",
       "      <td>1</td>\n",
       "      <td>0</td>\n",
       "      <td>1</td>\n",
       "      <td>0</td>\n",
       "      <td>1</td>\n",
       "      <td>0</td>\n",
       "      <td>0</td>\n",
       "      <td>0</td>\n",
       "      <td>1</td>\n",
       "      <td>0</td>\n",
       "      <td>...</td>\n",
       "      <td>1</td>\n",
       "      <td>0</td>\n",
       "      <td>0</td>\n",
       "      <td>1</td>\n",
       "      <td>6000.0</td>\n",
       "      <td>1</td>\n",
       "      <td>0</td>\n",
       "      <td>0</td>\n",
       "      <td>4242.640687</td>\n",
       "      <td>0.023500</td>\n",
       "    </tr>\n",
       "    <tr>\n",
       "      <th>...</th>\n",
       "      <td>...</td>\n",
       "      <td>...</td>\n",
       "      <td>...</td>\n",
       "      <td>...</td>\n",
       "      <td>...</td>\n",
       "      <td>...</td>\n",
       "      <td>...</td>\n",
       "      <td>...</td>\n",
       "      <td>...</td>\n",
       "      <td>...</td>\n",
       "      <td>...</td>\n",
       "      <td>...</td>\n",
       "      <td>...</td>\n",
       "      <td>...</td>\n",
       "      <td>...</td>\n",
       "      <td>...</td>\n",
       "      <td>...</td>\n",
       "      <td>...</td>\n",
       "      <td>...</td>\n",
       "      <td>...</td>\n",
       "      <td>...</td>\n",
       "    </tr>\n",
       "    <tr>\n",
       "      <th>609</th>\n",
       "      <td>0</td>\n",
       "      <td>1</td>\n",
       "      <td>1</td>\n",
       "      <td>0</td>\n",
       "      <td>1</td>\n",
       "      <td>0</td>\n",
       "      <td>0</td>\n",
       "      <td>0</td>\n",
       "      <td>1</td>\n",
       "      <td>0</td>\n",
       "      <td>...</td>\n",
       "      <td>0</td>\n",
       "      <td>1</td>\n",
       "      <td>0</td>\n",
       "      <td>1</td>\n",
       "      <td>2900.0</td>\n",
       "      <td>1</td>\n",
       "      <td>0</td>\n",
       "      <td>0</td>\n",
       "      <td>2050.609665</td>\n",
       "      <td>0.024483</td>\n",
       "    </tr>\n",
       "    <tr>\n",
       "      <th>610</th>\n",
       "      <td>1</td>\n",
       "      <td>0</td>\n",
       "      <td>0</td>\n",
       "      <td>1</td>\n",
       "      <td>0</td>\n",
       "      <td>0</td>\n",
       "      <td>1</td>\n",
       "      <td>0</td>\n",
       "      <td>1</td>\n",
       "      <td>0</td>\n",
       "      <td>...</td>\n",
       "      <td>0</td>\n",
       "      <td>1</td>\n",
       "      <td>0</td>\n",
       "      <td>1</td>\n",
       "      <td>4106.0</td>\n",
       "      <td>0</td>\n",
       "      <td>1</td>\n",
       "      <td>0</td>\n",
       "      <td>2903.380444</td>\n",
       "      <td>0.009742</td>\n",
       "    </tr>\n",
       "    <tr>\n",
       "      <th>611</th>\n",
       "      <td>1</td>\n",
       "      <td>0</td>\n",
       "      <td>0</td>\n",
       "      <td>1</td>\n",
       "      <td>0</td>\n",
       "      <td>1</td>\n",
       "      <td>0</td>\n",
       "      <td>0</td>\n",
       "      <td>1</td>\n",
       "      <td>0</td>\n",
       "      <td>...</td>\n",
       "      <td>1</td>\n",
       "      <td>0</td>\n",
       "      <td>0</td>\n",
       "      <td>1</td>\n",
       "      <td>8312.0</td>\n",
       "      <td>1</td>\n",
       "      <td>0</td>\n",
       "      <td>0</td>\n",
       "      <td>5538.060310</td>\n",
       "      <td>0.030438</td>\n",
       "    </tr>\n",
       "    <tr>\n",
       "      <th>612</th>\n",
       "      <td>1</td>\n",
       "      <td>0</td>\n",
       "      <td>0</td>\n",
       "      <td>1</td>\n",
       "      <td>0</td>\n",
       "      <td>0</td>\n",
       "      <td>0</td>\n",
       "      <td>1</td>\n",
       "      <td>1</td>\n",
       "      <td>0</td>\n",
       "      <td>...</td>\n",
       "      <td>1</td>\n",
       "      <td>0</td>\n",
       "      <td>0</td>\n",
       "      <td>1</td>\n",
       "      <td>7583.0</td>\n",
       "      <td>1</td>\n",
       "      <td>0</td>\n",
       "      <td>0</td>\n",
       "      <td>5361.990722</td>\n",
       "      <td>0.024660</td>\n",
       "    </tr>\n",
       "    <tr>\n",
       "      <th>613</th>\n",
       "      <td>0</td>\n",
       "      <td>1</td>\n",
       "      <td>1</td>\n",
       "      <td>0</td>\n",
       "      <td>1</td>\n",
       "      <td>0</td>\n",
       "      <td>0</td>\n",
       "      <td>0</td>\n",
       "      <td>1</td>\n",
       "      <td>0</td>\n",
       "      <td>...</td>\n",
       "      <td>0</td>\n",
       "      <td>0</td>\n",
       "      <td>1</td>\n",
       "      <td>0</td>\n",
       "      <td>4583.0</td>\n",
       "      <td>1</td>\n",
       "      <td>0</td>\n",
       "      <td>0</td>\n",
       "      <td>3240.670378</td>\n",
       "      <td>0.029020</td>\n",
       "    </tr>\n",
       "  </tbody>\n",
       "</table>\n",
       "<p>529 rows × 28 columns</p>\n",
       "</div>"
      ],
      "text/plain": [
       "     Gender_Male  Gender_Female  Married_No  Married_Yes  Dependents_0  \\\n",
       "0              1              0           1            0             1   \n",
       "1              1              0           0            1             0   \n",
       "2              1              0           0            1             1   \n",
       "3              1              0           0            1             1   \n",
       "4              1              0           1            0             1   \n",
       "..           ...            ...         ...          ...           ...   \n",
       "609            0              1           1            0             1   \n",
       "610            1              0           0            1             0   \n",
       "611            1              0           0            1             0   \n",
       "612            1              0           0            1             0   \n",
       "613            0              1           1            0             1   \n",
       "\n",
       "     Dependents_1  Dependents_3+  Dependents_2  Education_Graduate  \\\n",
       "0               0              0             0                   1   \n",
       "1               1              0             0                   1   \n",
       "2               0              0             0                   1   \n",
       "3               0              0             0                   0   \n",
       "4               0              0             0                   1   \n",
       "..            ...            ...           ...                 ...   \n",
       "609             0              0             0                   1   \n",
       "610             0              1             0                   1   \n",
       "611             1              0             0                   1   \n",
       "612             0              0             1                   1   \n",
       "613             0              0             0                   1   \n",
       "\n",
       "     Education_Not Graduate  ...  Property_Area_Urban  Property_Area_Rural  \\\n",
       "0                         0  ...                    1                    0   \n",
       "1                         0  ...                    0                    1   \n",
       "2                         0  ...                    1                    0   \n",
       "3                         1  ...                    1                    0   \n",
       "4                         0  ...                    1                    0   \n",
       "..                      ...  ...                  ...                  ...   \n",
       "609                       0  ...                    0                    1   \n",
       "610                       0  ...                    0                    1   \n",
       "611                       0  ...                    1                    0   \n",
       "612                       0  ...                    1                    0   \n",
       "613                       0  ...                    0                    0   \n",
       "\n",
       "     Property_Area_Semiurban  Loan_Status  Total_Income  \\\n",
       "0                          0            1        5849.0   \n",
       "1                          0            0        6091.0   \n",
       "2                          0            1        3000.0   \n",
       "3                          0            1        4941.0   \n",
       "4                          0            1        6000.0   \n",
       "..                       ...          ...           ...   \n",
       "609                        0            1        2900.0   \n",
       "610                        0            1        4106.0   \n",
       "611                        0            1        8312.0   \n",
       "612                        0            1        7583.0   \n",
       "613                        1            0        4583.0   \n",
       "\n",
       "     Loan_Term_Category_Medium-term  Loan_Term_Category_Short-term  \\\n",
       "0                                 1                              0   \n",
       "1                                 1                              0   \n",
       "2                                 1                              0   \n",
       "3                                 1                              0   \n",
       "4                                 1                              0   \n",
       "..                              ...                            ...   \n",
       "609                               1                              0   \n",
       "610                               0                              1   \n",
       "611                               1                              0   \n",
       "612                               1                              0   \n",
       "613                               1                              0   \n",
       "\n",
       "     Loan_Term_Category_Long-term  Income_Stability  Loan_to_Income_ratio  \n",
       "0                               0       4135.867563              0.025032  \n",
       "1                               0       2174.353352              0.021015  \n",
       "2                               0       2121.320344              0.022000  \n",
       "3                               0        159.099026              0.024287  \n",
       "4                               0       4242.640687              0.023500  \n",
       "..                            ...               ...                   ...  \n",
       "609                             0       2050.609665              0.024483  \n",
       "610                             0       2903.380444              0.009742  \n",
       "611                             0       5538.060310              0.030438  \n",
       "612                             0       5361.990722              0.024660  \n",
       "613                             0       3240.670378              0.029020  \n",
       "\n",
       "[529 rows x 28 columns]"
      ]
     },
     "execution_count": 50,
     "metadata": {},
     "output_type": "execute_result"
    }
   ],
   "source": [
    "prepare_data2('../data/raw_data.csv')"
   ]
  },
  {
   "cell_type": "markdown",
   "metadata": {},
   "source": [
    "--------------------------\n",
    "-----------------"
   ]
  },
  {
   "cell_type": "markdown",
   "metadata": {},
   "source": [
    "# Step 6. Evaluation Metrics for classification problem"
   ]
  },
  {
   "cell_type": "markdown",
   "metadata": {},
   "source": [
    "# Test of Model 1"
   ]
  },
  {
   "cell_type": "code",
   "execution_count": 51,
   "metadata": {},
   "outputs": [
    {
     "name": "stderr",
     "output_type": "stream",
     "text": [
      "C:\\Users\\encry\\AppData\\Local\\Temp\\ipykernel_19700\\236248400.py:29: SettingWithCopyWarning:\n",
      "\n",
      "\n",
      "A value is trying to be set on a copy of a slice from a DataFrame.\n",
      "Try using .loc[row_indexer,col_indexer] = value instead\n",
      "\n",
      "See the caveats in the documentation: https://pandas.pydata.org/pandas-docs/stable/user_guide/indexing.html#returning-a-view-versus-a-copy\n",
      "\n",
      "c:\\Users\\encry\\anaconda3\\envs\\MLG_382_Env\\Lib\\site-packages\\scikeras\\wrappers.py:925: UserWarning:\n",
      "\n",
      "``build_fn`` will be renamed to ``model`` in a future release, at which point use of ``build_fn`` will raise an Error instead.\n",
      "\n",
      "c:\\Users\\encry\\anaconda3\\envs\\MLG_382_Env\\Lib\\site-packages\\keras\\src\\layers\\core\\dense.py:87: UserWarning:\n",
      "\n",
      "Do not pass an `input_shape`/`input_dim` argument to a layer. When using Sequential models, prefer using an `Input(shape)` object as the first layer in the model instead.\n",
      "\n",
      "c:\\Users\\encry\\anaconda3\\envs\\MLG_382_Env\\Lib\\site-packages\\scikeras\\wrappers.py:925: UserWarning:\n",
      "\n",
      "``build_fn`` will be renamed to ``model`` in a future release, at which point use of ``build_fn`` will raise an Error instead.\n",
      "\n",
      "c:\\Users\\encry\\anaconda3\\envs\\MLG_382_Env\\Lib\\site-packages\\keras\\src\\layers\\core\\dense.py:87: UserWarning:\n",
      "\n",
      "Do not pass an `input_shape`/`input_dim` argument to a layer. When using Sequential models, prefer using an `Input(shape)` object as the first layer in the model instead.\n",
      "\n",
      "c:\\Users\\encry\\anaconda3\\envs\\MLG_382_Env\\Lib\\site-packages\\scikeras\\wrappers.py:925: UserWarning:\n",
      "\n",
      "``build_fn`` will be renamed to ``model`` in a future release, at which point use of ``build_fn`` will raise an Error instead.\n",
      "\n",
      "c:\\Users\\encry\\anaconda3\\envs\\MLG_382_Env\\Lib\\site-packages\\keras\\src\\layers\\core\\dense.py:87: UserWarning:\n",
      "\n",
      "Do not pass an `input_shape`/`input_dim` argument to a layer. When using Sequential models, prefer using an `Input(shape)` object as the first layer in the model instead.\n",
      "\n",
      "c:\\Users\\encry\\anaconda3\\envs\\MLG_382_Env\\Lib\\site-packages\\scikeras\\wrappers.py:925: UserWarning:\n",
      "\n",
      "``build_fn`` will be renamed to ``model`` in a future release, at which point use of ``build_fn`` will raise an Error instead.\n",
      "\n",
      "c:\\Users\\encry\\anaconda3\\envs\\MLG_382_Env\\Lib\\site-packages\\keras\\src\\layers\\core\\dense.py:87: UserWarning:\n",
      "\n",
      "Do not pass an `input_shape`/`input_dim` argument to a layer. When using Sequential models, prefer using an `Input(shape)` object as the first layer in the model instead.\n",
      "\n",
      "c:\\Users\\encry\\anaconda3\\envs\\MLG_382_Env\\Lib\\site-packages\\scikeras\\wrappers.py:925: UserWarning:\n",
      "\n",
      "``build_fn`` will be renamed to ``model`` in a future release, at which point use of ``build_fn`` will raise an Error instead.\n",
      "\n",
      "c:\\Users\\encry\\anaconda3\\envs\\MLG_382_Env\\Lib\\site-packages\\keras\\src\\layers\\core\\dense.py:87: UserWarning:\n",
      "\n",
      "Do not pass an `input_shape`/`input_dim` argument to a layer. When using Sequential models, prefer using an `Input(shape)` object as the first layer in the model instead.\n",
      "\n"
     ]
    },
    {
     "name": "stdout",
     "output_type": "stream",
     "text": [
      "Cross-validation Accuracy: 80.63% (+/- 3.95%)\n"
     ]
    }
   ],
   "source": [
    "\n",
    "\n",
    "df = prepare_data1('../data/raw_data.csv')\n",
    "X = df.drop(['Loan_Status'], axis=1)\n",
    "y = df['Loan_Status']\n",
    "\n",
    "X_train, X_test, y_train, y_test = train_test_split(X, y, test_size=0.2, random_state=42)\n",
    "\n",
    "scaler = StandardScaler()\n",
    "X_train_scaled = scaler.fit_transform(X_train)\n",
    "X_test_scaled = scaler.transform(X_test)\n",
    "\n",
    "def create_model():\n",
    "    model = Sequential([\n",
    "        Dense(21, activation='relu', input_shape=(21,)),\n",
    "        Dense(8, activation='relu'),\n",
    "        Dense(8, activation='relu'),\n",
    "        Dense(1, activation='sigmoid')\n",
    "    ])\n",
    "    model.compile(optimizer='adam', loss='binary_crossentropy', metrics=['accuracy'])\n",
    "    return model\n",
    "\n",
    "model = KerasClassifier(build_fn=create_model, epochs=25, batch_size=32, verbose=0)\n",
    "\n",
    "kfold = StratifiedKFold(n_splits=5, shuffle=True, random_state=42)\n",
    "\n",
    "results = cross_val_score(model, X_train_scaled, y_train, cv=kfold)\n",
    "\n",
    "print(\"Cross-validation Accuracy: %.2f%% (+/- %.2f%%)\" % (results.mean() * 100, results.std() * 100))\n"
   ]
  },
  {
   "cell_type": "markdown",
   "metadata": {},
   "source": [
    "--------------------------\n",
    "-----------------"
   ]
  },
  {
   "cell_type": "markdown",
   "metadata": {},
   "source": [
    "# Step 6. Evaluation Metrics for classification problem"
   ]
  },
  {
   "cell_type": "markdown",
   "metadata": {},
   "source": [
    "# Test of Model 2"
   ]
  },
  {
   "cell_type": "code",
   "execution_count": 52,
   "metadata": {},
   "outputs": [
    {
     "name": "stderr",
     "output_type": "stream",
     "text": [
      "C:\\Users\\encry\\AppData\\Local\\Temp\\ipykernel_19700\\1110701930.py:29: SettingWithCopyWarning:\n",
      "\n",
      "\n",
      "A value is trying to be set on a copy of a slice from a DataFrame.\n",
      "Try using .loc[row_indexer,col_indexer] = value instead\n",
      "\n",
      "See the caveats in the documentation: https://pandas.pydata.org/pandas-docs/stable/user_guide/indexing.html#returning-a-view-versus-a-copy\n",
      "\n",
      "C:\\Users\\encry\\AppData\\Local\\Temp\\ipykernel_19700\\1110701930.py:31: SettingWithCopyWarning:\n",
      "\n",
      "\n",
      "A value is trying to be set on a copy of a slice from a DataFrame.\n",
      "Try using .loc[row_indexer,col_indexer] = value instead\n",
      "\n",
      "See the caveats in the documentation: https://pandas.pydata.org/pandas-docs/stable/user_guide/indexing.html#returning-a-view-versus-a-copy\n",
      "\n",
      "C:\\Users\\encry\\AppData\\Local\\Temp\\ipykernel_19700\\1110701930.py:32: SettingWithCopyWarning:\n",
      "\n",
      "\n",
      "A value is trying to be set on a copy of a slice from a DataFrame.\n",
      "Try using .loc[row_indexer,col_indexer] = value instead\n",
      "\n",
      "See the caveats in the documentation: https://pandas.pydata.org/pandas-docs/stable/user_guide/indexing.html#returning-a-view-versus-a-copy\n",
      "\n",
      "C:\\Users\\encry\\AppData\\Local\\Temp\\ipykernel_19700\\1110701930.py:33: SettingWithCopyWarning:\n",
      "\n",
      "\n",
      "A value is trying to be set on a copy of a slice from a DataFrame.\n",
      "Try using .loc[row_indexer,col_indexer] = value instead\n",
      "\n",
      "See the caveats in the documentation: https://pandas.pydata.org/pandas-docs/stable/user_guide/indexing.html#returning-a-view-versus-a-copy\n",
      "\n",
      "C:\\Users\\encry\\AppData\\Local\\Temp\\ipykernel_19700\\1110701930.py:34: SettingWithCopyWarning:\n",
      "\n",
      "\n",
      "A value is trying to be set on a copy of a slice from a DataFrame.\n",
      "Try using .loc[row_indexer,col_indexer] = value instead\n",
      "\n",
      "See the caveats in the documentation: https://pandas.pydata.org/pandas-docs/stable/user_guide/indexing.html#returning-a-view-versus-a-copy\n",
      "\n",
      "C:\\Users\\encry\\AppData\\Local\\Temp\\ipykernel_19700\\1110701930.py:36: SettingWithCopyWarning:\n",
      "\n",
      "\n",
      "A value is trying to be set on a copy of a slice from a DataFrame.\n",
      "Try using .loc[row_indexer,col_indexer] = value instead\n",
      "\n",
      "See the caveats in the documentation: https://pandas.pydata.org/pandas-docs/stable/user_guide/indexing.html#returning-a-view-versus-a-copy\n",
      "\n",
      "c:\\Users\\encry\\anaconda3\\envs\\MLG_382_Env\\Lib\\site-packages\\scikeras\\wrappers.py:925: UserWarning:\n",
      "\n",
      "``build_fn`` will be renamed to ``model`` in a future release, at which point use of ``build_fn`` will raise an Error instead.\n",
      "\n",
      "c:\\Users\\encry\\anaconda3\\envs\\MLG_382_Env\\Lib\\site-packages\\keras\\src\\layers\\core\\dense.py:87: UserWarning:\n",
      "\n",
      "Do not pass an `input_shape`/`input_dim` argument to a layer. When using Sequential models, prefer using an `Input(shape)` object as the first layer in the model instead.\n",
      "\n",
      "c:\\Users\\encry\\anaconda3\\envs\\MLG_382_Env\\Lib\\site-packages\\scikeras\\wrappers.py:925: UserWarning:\n",
      "\n",
      "``build_fn`` will be renamed to ``model`` in a future release, at which point use of ``build_fn`` will raise an Error instead.\n",
      "\n",
      "c:\\Users\\encry\\anaconda3\\envs\\MLG_382_Env\\Lib\\site-packages\\keras\\src\\layers\\core\\dense.py:87: UserWarning:\n",
      "\n",
      "Do not pass an `input_shape`/`input_dim` argument to a layer. When using Sequential models, prefer using an `Input(shape)` object as the first layer in the model instead.\n",
      "\n",
      "c:\\Users\\encry\\anaconda3\\envs\\MLG_382_Env\\Lib\\site-packages\\scikeras\\wrappers.py:925: UserWarning:\n",
      "\n",
      "``build_fn`` will be renamed to ``model`` in a future release, at which point use of ``build_fn`` will raise an Error instead.\n",
      "\n",
      "c:\\Users\\encry\\anaconda3\\envs\\MLG_382_Env\\Lib\\site-packages\\keras\\src\\layers\\core\\dense.py:87: UserWarning:\n",
      "\n",
      "Do not pass an `input_shape`/`input_dim` argument to a layer. When using Sequential models, prefer using an `Input(shape)` object as the first layer in the model instead.\n",
      "\n",
      "c:\\Users\\encry\\anaconda3\\envs\\MLG_382_Env\\Lib\\site-packages\\scikeras\\wrappers.py:925: UserWarning:\n",
      "\n",
      "``build_fn`` will be renamed to ``model`` in a future release, at which point use of ``build_fn`` will raise an Error instead.\n",
      "\n",
      "c:\\Users\\encry\\anaconda3\\envs\\MLG_382_Env\\Lib\\site-packages\\keras\\src\\layers\\core\\dense.py:87: UserWarning:\n",
      "\n",
      "Do not pass an `input_shape`/`input_dim` argument to a layer. When using Sequential models, prefer using an `Input(shape)` object as the first layer in the model instead.\n",
      "\n",
      "c:\\Users\\encry\\anaconda3\\envs\\MLG_382_Env\\Lib\\site-packages\\scikeras\\wrappers.py:925: UserWarning:\n",
      "\n",
      "``build_fn`` will be renamed to ``model`` in a future release, at which point use of ``build_fn`` will raise an Error instead.\n",
      "\n",
      "c:\\Users\\encry\\anaconda3\\envs\\MLG_382_Env\\Lib\\site-packages\\keras\\src\\layers\\core\\dense.py:87: UserWarning:\n",
      "\n",
      "Do not pass an `input_shape`/`input_dim` argument to a layer. When using Sequential models, prefer using an `Input(shape)` object as the first layer in the model instead.\n",
      "\n"
     ]
    },
    {
     "name": "stdout",
     "output_type": "stream",
     "text": [
      "Cross-validation Accuracy: 80.62% (+/- 2.80%)\n"
     ]
    }
   ],
   "source": [
    "df = prepare_data2('../data/raw_data.csv')\n",
    "X = df.drop(['Loan_Status'], axis=1)\n",
    "y = df['Loan_Status']\n",
    "\n",
    "X_train, X_test, y_train, y_test = train_test_split(X, y, test_size=0.2, random_state=42)\n",
    "\n",
    "scaler = StandardScaler()\n",
    "X_train_scaled = scaler.fit_transform(X_train)\n",
    "X_test_scaled = scaler.transform(X_test)\n",
    "\n",
    "def create_model():\n",
    "    model = Sequential([\n",
    "        Dense(27, activation='relu', input_shape=(27,)),\n",
    "        Dense(16, activation='relu'),\n",
    "        Dense(16, activation='relu'),\n",
    "        Dense(1, activation='sigmoid')\n",
    "    ])\n",
    "    model.compile(optimizer='adam', loss='binary_crossentropy', metrics=['accuracy'])\n",
    "    return model\n",
    "\n",
    "model = KerasClassifier(build_fn=create_model, epochs=15, batch_size=32, verbose=0)\n",
    "\n",
    "kfold = StratifiedKFold(n_splits=5, shuffle=True, random_state=42)\n",
    "\n",
    "results = cross_val_score(model, X_train_scaled, y_train, cv=kfold)\n",
    "\n",
    "print(\"Cross-validation Accuracy: %.2f%% (+/- %.2f%%)\" % (results.mean() * 100, results.std() * 100))\n",
    "\n"
   ]
  },
  {
   "cell_type": "markdown",
   "metadata": {},
   "source": [
    "--------------------------\n",
    "-----------------"
   ]
  },
  {
   "cell_type": "markdown",
   "metadata": {},
   "source": [
    "# Step 7. Model building: part 1 "
   ]
  },
  {
   "cell_type": "code",
   "execution_count": 53,
   "metadata": {},
   "outputs": [
    {
     "name": "stdout",
     "output_type": "stream",
     "text": [
      "Epoch 1/15\n"
     ]
    },
    {
     "name": "stderr",
     "output_type": "stream",
     "text": [
      "C:\\Users\\encry\\AppData\\Local\\Temp\\ipykernel_19700\\236248400.py:29: SettingWithCopyWarning:\n",
      "\n",
      "\n",
      "A value is trying to be set on a copy of a slice from a DataFrame.\n",
      "Try using .loc[row_indexer,col_indexer] = value instead\n",
      "\n",
      "See the caveats in the documentation: https://pandas.pydata.org/pandas-docs/stable/user_guide/indexing.html#returning-a-view-versus-a-copy\n",
      "\n",
      "c:\\Users\\encry\\anaconda3\\envs\\MLG_382_Env\\Lib\\site-packages\\keras\\src\\layers\\core\\dense.py:87: UserWarning:\n",
      "\n",
      "Do not pass an `input_shape`/`input_dim` argument to a layer. When using Sequential models, prefer using an `Input(shape)` object as the first layer in the model instead.\n",
      "\n"
     ]
    },
    {
     "name": "stdout",
     "output_type": "stream",
     "text": [
      "\u001b[1m14/14\u001b[0m \u001b[32m━━━━━━━━━━━━━━━━━━━━\u001b[0m\u001b[37m\u001b[0m \u001b[1m1s\u001b[0m 10ms/step - accuracy: 0.6750 - loss: 0.6494 - val_accuracy: 0.7358 - val_loss: 0.6074\n",
      "Epoch 2/15\n",
      "\u001b[1m14/14\u001b[0m \u001b[32m━━━━━━━━━━━━━━━━━━━━\u001b[0m\u001b[37m\u001b[0m \u001b[1m0s\u001b[0m 2ms/step - accuracy: 0.6700 - loss: 0.6276 - val_accuracy: 0.7358 - val_loss: 0.5806\n",
      "Epoch 3/15\n",
      "\u001b[1m14/14\u001b[0m \u001b[32m━━━━━━━━━━━━━━━━━━━━\u001b[0m\u001b[37m\u001b[0m \u001b[1m0s\u001b[0m 2ms/step - accuracy: 0.6674 - loss: 0.6089 - val_accuracy: 0.7642 - val_loss: 0.5594\n",
      "Epoch 4/15\n",
      "\u001b[1m14/14\u001b[0m \u001b[32m━━━━━━━━━━━━━━━━━━━━\u001b[0m\u001b[37m\u001b[0m \u001b[1m0s\u001b[0m 2ms/step - accuracy: 0.6554 - loss: 0.5871 - val_accuracy: 0.7642 - val_loss: 0.5474\n",
      "Epoch 5/15\n",
      "\u001b[1m14/14\u001b[0m \u001b[32m━━━━━━━━━━━━━━━━━━━━\u001b[0m\u001b[37m\u001b[0m \u001b[1m0s\u001b[0m 2ms/step - accuracy: 0.7041 - loss: 0.5566 - val_accuracy: 0.7642 - val_loss: 0.5346\n",
      "Epoch 6/15\n",
      "\u001b[1m14/14\u001b[0m \u001b[32m━━━━━━━━━━━━━━━━━━━━\u001b[0m\u001b[37m\u001b[0m \u001b[1m0s\u001b[0m 2ms/step - accuracy: 0.7218 - loss: 0.5157 - val_accuracy: 0.7642 - val_loss: 0.5262\n",
      "Epoch 7/15\n",
      "\u001b[1m14/14\u001b[0m \u001b[32m━━━━━━━━━━━━━━━━━━━━\u001b[0m\u001b[37m\u001b[0m \u001b[1m0s\u001b[0m 2ms/step - accuracy: 0.7044 - loss: 0.5204 - val_accuracy: 0.8208 - val_loss: 0.5207\n",
      "Epoch 8/15\n",
      "\u001b[1m14/14\u001b[0m \u001b[32m━━━━━━━━━━━━━━━━━━━━\u001b[0m\u001b[37m\u001b[0m \u001b[1m0s\u001b[0m 2ms/step - accuracy: 0.7782 - loss: 0.4785 - val_accuracy: 0.8113 - val_loss: 0.5144\n",
      "Epoch 9/15\n",
      "\u001b[1m14/14\u001b[0m \u001b[32m━━━━━━━━━━━━━━━━━━━━\u001b[0m\u001b[37m\u001b[0m \u001b[1m0s\u001b[0m 2ms/step - accuracy: 0.7886 - loss: 0.5188 - val_accuracy: 0.8208 - val_loss: 0.5120\n",
      "Epoch 10/15\n",
      "\u001b[1m14/14\u001b[0m \u001b[32m━━━━━━━━━━━━━━━━━━━━\u001b[0m\u001b[37m\u001b[0m \u001b[1m0s\u001b[0m 2ms/step - accuracy: 0.8161 - loss: 0.4796 - val_accuracy: 0.8302 - val_loss: 0.5068\n",
      "Epoch 11/15\n",
      "\u001b[1m14/14\u001b[0m \u001b[32m━━━━━━━━━━━━━━━━━━━━\u001b[0m\u001b[37m\u001b[0m \u001b[1m0s\u001b[0m 2ms/step - accuracy: 0.8125 - loss: 0.4707 - val_accuracy: 0.8396 - val_loss: 0.5043\n",
      "Epoch 12/15\n",
      "\u001b[1m14/14\u001b[0m \u001b[32m━━━━━━━━━━━━━━━━━━━━\u001b[0m\u001b[37m\u001b[0m \u001b[1m0s\u001b[0m 2ms/step - accuracy: 0.8189 - loss: 0.4654 - val_accuracy: 0.8491 - val_loss: 0.5018\n",
      "Epoch 13/15\n",
      "\u001b[1m14/14\u001b[0m \u001b[32m━━━━━━━━━━━━━━━━━━━━\u001b[0m\u001b[37m\u001b[0m \u001b[1m0s\u001b[0m 2ms/step - accuracy: 0.7949 - loss: 0.4702 - val_accuracy: 0.8491 - val_loss: 0.4983\n",
      "Epoch 14/15\n",
      "\u001b[1m14/14\u001b[0m \u001b[32m━━━━━━━━━━━━━━━━━━━━\u001b[0m\u001b[37m\u001b[0m \u001b[1m0s\u001b[0m 2ms/step - accuracy: 0.8461 - loss: 0.4041 - val_accuracy: 0.8491 - val_loss: 0.4935\n",
      "Epoch 15/15\n",
      "\u001b[1m14/14\u001b[0m \u001b[32m━━━━━━━━━━━━━━━━━━━━\u001b[0m\u001b[37m\u001b[0m \u001b[1m0s\u001b[0m 2ms/step - accuracy: 0.8445 - loss: 0.3962 - val_accuracy: 0.8491 - val_loss: 0.4918\n",
      "\u001b[1m11/11\u001b[0m \u001b[32m━━━━━━━━━━━━━━━━━━━━\u001b[0m\u001b[37m\u001b[0m \u001b[1m0s\u001b[0m 3ms/step \n",
      "['Yes', 'Yes', 'Yes', 'Yes', 'Yes', 'Yes', 'Yes', 'No', 'Yes', 'Yes', 'Yes', 'Yes', 'Yes', 'Yes', 'Yes', 'Yes', 'Yes', 'Yes', 'Yes', 'Yes', 'Yes', 'Yes', 'Yes', 'Yes', 'Yes', 'Yes', 'Yes', 'Yes', 'Yes', 'No', 'Yes', 'Yes', 'Yes', 'Yes', 'Yes', 'Yes', 'Yes', 'Yes', 'Yes', 'Yes', 'Yes', 'Yes', 'Yes', 'Yes', 'Yes', 'Yes', 'Yes', 'Yes', 'Yes', 'No', 'Yes', 'Yes', 'Yes', 'Yes', 'Yes', 'Yes', 'Yes', 'No', 'Yes', 'Yes', 'No', 'No', 'Yes', 'No', 'Yes', 'Yes', 'Yes', 'Yes', 'Yes', 'Yes', 'Yes', 'Yes', 'Yes', 'Yes', 'No', 'No', 'Yes', 'No', 'Yes', 'Yes', 'Yes', 'Yes', 'Yes', 'Yes', 'Yes', 'No', 'Yes', 'Yes', 'Yes', 'Yes', 'Yes', 'Yes', 'Yes', 'Yes', 'Yes', 'Yes', 'Yes', 'No', 'Yes', 'Yes', 'Yes', 'Yes', 'Yes', 'Yes', 'Yes', 'Yes', 'Yes', 'Yes', 'No', 'No', 'No', 'Yes', 'Yes', 'Yes', 'Yes', 'No', 'Yes', 'Yes', 'Yes', 'Yes', 'Yes', 'Yes', 'Yes', 'Yes', 'Yes', 'Yes', 'Yes', 'Yes', 'Yes', 'No', 'Yes', 'No', 'Yes', 'No', 'Yes', 'Yes', 'Yes', 'Yes', 'Yes', 'No', 'Yes', 'Yes', 'Yes', 'Yes', 'Yes', 'Yes', 'Yes', 'No', 'Yes', 'Yes', 'Yes', 'No', 'No', 'Yes', 'Yes', 'Yes', 'Yes', 'Yes', 'Yes', 'No', 'No', 'Yes', 'Yes', 'Yes', 'Yes', 'Yes', 'Yes', 'Yes', 'Yes', 'Yes', 'Yes', 'Yes', 'Yes', 'Yes', 'No', 'No', 'Yes', 'No', 'Yes', 'No', 'Yes', 'Yes', 'Yes', 'Yes', 'Yes', 'Yes', 'Yes', 'Yes', 'Yes', 'Yes', 'Yes', 'Yes', 'No', 'Yes', 'Yes', 'Yes', 'Yes', 'Yes', 'Yes', 'Yes', 'Yes', 'Yes', 'Yes', 'Yes', 'Yes', 'No', 'Yes', 'Yes', 'Yes', 'Yes', 'No', 'Yes', 'Yes', 'Yes', 'Yes', 'No', 'Yes', 'Yes', 'Yes', 'Yes', 'No', 'Yes', 'No', 'Yes', 'No', 'Yes', 'Yes', 'Yes', 'No', 'Yes', 'Yes', 'Yes', 'Yes', 'No', 'Yes', 'Yes', 'Yes', 'Yes', 'Yes', 'Yes', 'Yes', 'Yes', 'Yes', 'No', 'Yes', 'No', 'Yes', 'Yes', 'Yes', 'No', 'No', 'Yes', 'Yes', 'Yes', 'No', 'Yes', 'Yes', 'Yes', 'Yes', 'Yes', 'Yes', 'Yes', 'Yes', 'Yes', 'Yes', 'Yes', 'No', 'Yes', 'Yes', 'Yes', 'Yes', 'Yes', 'Yes', 'Yes', 'No', 'Yes', 'Yes', 'Yes', 'Yes', 'Yes', 'Yes', 'Yes', 'Yes', 'Yes', 'Yes', 'Yes', 'Yes', 'Yes', 'Yes', 'No', 'No', 'Yes', 'Yes', 'Yes', 'Yes', 'Yes', 'No', 'Yes', 'Yes', 'Yes', 'Yes', 'Yes', 'Yes', 'Yes', 'Yes', 'Yes', 'Yes', 'Yes', 'Yes', 'No', 'Yes', 'Yes', 'Yes', 'Yes', 'Yes', 'No', 'Yes', 'Yes', 'Yes', 'Yes', 'Yes', 'Yes', 'Yes', 'Yes', 'Yes', 'Yes', 'Yes', 'Yes', 'Yes', 'Yes', 'Yes', 'Yes', 'Yes', 'Yes', 'Yes']\n"
     ]
    }
   ],
   "source": [
    "\n",
    "df = prepare_data1('../data/raw_data.csv')\n",
    "X = df.drop(['Loan_Status'], axis=1)\n",
    "Y = df['Loan_Status']\n",
    "\n",
    "X_train, X_test, y_train, y_test = train_test_split(X, Y, test_size=0.2, random_state=42)\n",
    "\n",
    "scaler = StandardScaler()\n",
    "X_train_scaled = scaler.fit_transform(X_train)\n",
    "X_test_scaled = scaler.transform(X_test)\n",
    "\n",
    "def create_model():\n",
    "    model = Sequential([\n",
    "        Dense(21, activation='relu', input_shape=(21,)),\n",
    "        Dense(8, activation='relu'),\n",
    "        Dense(8, activation='relu'),\n",
    "        Dense(1, activation='sigmoid')\n",
    "    ])\n",
    "    model.compile(optimizer='adam', loss='binary_crossentropy', metrics=['accuracy'])\n",
    "    return model\n",
    "\n",
    "model = create_model()  \n",
    "model.fit(X_train_scaled, y_train, epochs=15, batch_size=32, validation_data=(X_test_scaled, y_test))\n",
    "\n",
    "joblib.dump(model, '../model1.pkl')\n",
    "\n",
    "model = joblib.load('../artifacts/model1.pkl')\n",
    "\n",
    "datav = prepare_data1('../data/validation.csv')\n",
    "\n",
    "datav = datav.iloc[:, [0, 1, 3, 2, 4, 5, 7, 6, 8, 9, 10, 11, 12, 13, 14, 15, 16, 17, 18, 20, 19]]\n",
    "\n",
    "X_val_scaled = scaler.transform(datav)\n",
    "\n",
    "predictions = model.predict(X_val_scaled)\n",
    "\n",
    "predictions_arr = []\n",
    "\n",
    "for status in predictions:\n",
    "    if status > 0.5:\n",
    "        predictions_arr.append('Yes')\n",
    "    else:\n",
    "        predictions_arr.append('No')\n",
    "\n",
    "print(predictions_arr)"
   ]
  },
  {
   "cell_type": "markdown",
   "metadata": {},
   "source": [
    "--------------------------\n",
    "-----------------"
   ]
  },
  {
   "cell_type": "markdown",
   "metadata": {},
   "source": [
    "# Step 9. Model building: part 2 "
   ]
  },
  {
   "cell_type": "code",
   "execution_count": 54,
   "metadata": {},
   "outputs": [
    {
     "name": "stdout",
     "output_type": "stream",
     "text": [
      "Epoch 1/15\n"
     ]
    },
    {
     "name": "stderr",
     "output_type": "stream",
     "text": [
      "C:\\Users\\encry\\AppData\\Local\\Temp\\ipykernel_19700\\1110701930.py:29: SettingWithCopyWarning:\n",
      "\n",
      "\n",
      "A value is trying to be set on a copy of a slice from a DataFrame.\n",
      "Try using .loc[row_indexer,col_indexer] = value instead\n",
      "\n",
      "See the caveats in the documentation: https://pandas.pydata.org/pandas-docs/stable/user_guide/indexing.html#returning-a-view-versus-a-copy\n",
      "\n",
      "C:\\Users\\encry\\AppData\\Local\\Temp\\ipykernel_19700\\1110701930.py:31: SettingWithCopyWarning:\n",
      "\n",
      "\n",
      "A value is trying to be set on a copy of a slice from a DataFrame.\n",
      "Try using .loc[row_indexer,col_indexer] = value instead\n",
      "\n",
      "See the caveats in the documentation: https://pandas.pydata.org/pandas-docs/stable/user_guide/indexing.html#returning-a-view-versus-a-copy\n",
      "\n",
      "C:\\Users\\encry\\AppData\\Local\\Temp\\ipykernel_19700\\1110701930.py:32: SettingWithCopyWarning:\n",
      "\n",
      "\n",
      "A value is trying to be set on a copy of a slice from a DataFrame.\n",
      "Try using .loc[row_indexer,col_indexer] = value instead\n",
      "\n",
      "See the caveats in the documentation: https://pandas.pydata.org/pandas-docs/stable/user_guide/indexing.html#returning-a-view-versus-a-copy\n",
      "\n",
      "C:\\Users\\encry\\AppData\\Local\\Temp\\ipykernel_19700\\1110701930.py:33: SettingWithCopyWarning:\n",
      "\n",
      "\n",
      "A value is trying to be set on a copy of a slice from a DataFrame.\n",
      "Try using .loc[row_indexer,col_indexer] = value instead\n",
      "\n",
      "See the caveats in the documentation: https://pandas.pydata.org/pandas-docs/stable/user_guide/indexing.html#returning-a-view-versus-a-copy\n",
      "\n",
      "C:\\Users\\encry\\AppData\\Local\\Temp\\ipykernel_19700\\1110701930.py:34: SettingWithCopyWarning:\n",
      "\n",
      "\n",
      "A value is trying to be set on a copy of a slice from a DataFrame.\n",
      "Try using .loc[row_indexer,col_indexer] = value instead\n",
      "\n",
      "See the caveats in the documentation: https://pandas.pydata.org/pandas-docs/stable/user_guide/indexing.html#returning-a-view-versus-a-copy\n",
      "\n",
      "C:\\Users\\encry\\AppData\\Local\\Temp\\ipykernel_19700\\1110701930.py:36: SettingWithCopyWarning:\n",
      "\n",
      "\n",
      "A value is trying to be set on a copy of a slice from a DataFrame.\n",
      "Try using .loc[row_indexer,col_indexer] = value instead\n",
      "\n",
      "See the caveats in the documentation: https://pandas.pydata.org/pandas-docs/stable/user_guide/indexing.html#returning-a-view-versus-a-copy\n",
      "\n",
      "c:\\Users\\encry\\anaconda3\\envs\\MLG_382_Env\\Lib\\site-packages\\keras\\src\\layers\\core\\dense.py:87: UserWarning:\n",
      "\n",
      "Do not pass an `input_shape`/`input_dim` argument to a layer. When using Sequential models, prefer using an `Input(shape)` object as the first layer in the model instead.\n",
      "\n"
     ]
    },
    {
     "name": "stdout",
     "output_type": "stream",
     "text": [
      "\u001b[1m14/14\u001b[0m \u001b[32m━━━━━━━━━━━━━━━━━━━━\u001b[0m\u001b[37m\u001b[0m \u001b[1m1s\u001b[0m 9ms/step - accuracy: 0.4603 - loss: 0.7094 - val_accuracy: 0.5849 - val_loss: 0.6618\n",
      "Epoch 2/15\n",
      "\u001b[1m14/14\u001b[0m \u001b[32m━━━━━━━━━━━━━━━━━━━━\u001b[0m\u001b[37m\u001b[0m \u001b[1m0s\u001b[0m 3ms/step - accuracy: 0.7116 - loss: 0.6304 - val_accuracy: 0.7358 - val_loss: 0.5974\n",
      "Epoch 3/15\n",
      "\u001b[1m14/14\u001b[0m \u001b[32m━━━━━━━━━━━━━━━━━━━━\u001b[0m\u001b[37m\u001b[0m \u001b[1m0s\u001b[0m 3ms/step - accuracy: 0.7822 - loss: 0.5775 - val_accuracy: 0.8019 - val_loss: 0.5557\n",
      "Epoch 4/15\n",
      "\u001b[1m14/14\u001b[0m \u001b[32m━━━━━━━━━━━━━━━━━━━━\u001b[0m\u001b[37m\u001b[0m \u001b[1m0s\u001b[0m 3ms/step - accuracy: 0.8038 - loss: 0.5380 - val_accuracy: 0.8113 - val_loss: 0.5286\n",
      "Epoch 5/15\n",
      "\u001b[1m14/14\u001b[0m \u001b[32m━━━━━━━━━━━━━━━━━━━━\u001b[0m\u001b[37m\u001b[0m \u001b[1m0s\u001b[0m 2ms/step - accuracy: 0.8124 - loss: 0.5187 - val_accuracy: 0.8208 - val_loss: 0.5042\n",
      "Epoch 6/15\n",
      "\u001b[1m14/14\u001b[0m \u001b[32m━━━━━━━━━━━━━━━━━━━━\u001b[0m\u001b[37m\u001b[0m \u001b[1m0s\u001b[0m 3ms/step - accuracy: 0.7933 - loss: 0.5049 - val_accuracy: 0.8396 - val_loss: 0.4856\n",
      "Epoch 7/15\n",
      "\u001b[1m14/14\u001b[0m \u001b[32m━━━━━━━━━━━━━━━━━━━━\u001b[0m\u001b[37m\u001b[0m \u001b[1m0s\u001b[0m 2ms/step - accuracy: 0.8209 - loss: 0.4471 - val_accuracy: 0.8491 - val_loss: 0.4686\n",
      "Epoch 8/15\n",
      "\u001b[1m14/14\u001b[0m \u001b[32m━━━━━━━━━━━━━━━━━━━━\u001b[0m\u001b[37m\u001b[0m \u001b[1m0s\u001b[0m 3ms/step - accuracy: 0.8196 - loss: 0.4447 - val_accuracy: 0.8491 - val_loss: 0.4603\n",
      "Epoch 9/15\n",
      "\u001b[1m14/14\u001b[0m \u001b[32m━━━━━━━━━━━━━━━━━━━━\u001b[0m\u001b[37m\u001b[0m \u001b[1m0s\u001b[0m 3ms/step - accuracy: 0.8134 - loss: 0.4447 - val_accuracy: 0.8491 - val_loss: 0.4588\n",
      "Epoch 10/15\n",
      "\u001b[1m14/14\u001b[0m \u001b[32m━━━━━━━━━━━━━━━━━━━━\u001b[0m\u001b[37m\u001b[0m \u001b[1m0s\u001b[0m 2ms/step - accuracy: 0.8324 - loss: 0.4266 - val_accuracy: 0.8491 - val_loss: 0.4564\n",
      "Epoch 11/15\n",
      "\u001b[1m14/14\u001b[0m \u001b[32m━━━━━━━━━━━━━━━━━━━━\u001b[0m\u001b[37m\u001b[0m \u001b[1m0s\u001b[0m 3ms/step - accuracy: 0.8475 - loss: 0.3828 - val_accuracy: 0.8396 - val_loss: 0.4547\n",
      "Epoch 12/15\n",
      "\u001b[1m14/14\u001b[0m \u001b[32m━━━━━━━━━━━━━━━━━━━━\u001b[0m\u001b[37m\u001b[0m \u001b[1m0s\u001b[0m 4ms/step - accuracy: 0.8492 - loss: 0.4033 - val_accuracy: 0.8302 - val_loss: 0.4565\n",
      "Epoch 13/15\n",
      "\u001b[1m14/14\u001b[0m \u001b[32m━━━━━━━━━━━━━━━━━━━━\u001b[0m\u001b[37m\u001b[0m \u001b[1m0s\u001b[0m 3ms/step - accuracy: 0.8339 - loss: 0.3943 - val_accuracy: 0.8302 - val_loss: 0.4547\n",
      "Epoch 14/15\n",
      "\u001b[1m14/14\u001b[0m \u001b[32m━━━━━━━━━━━━━━━━━━━━\u001b[0m\u001b[37m\u001b[0m \u001b[1m0s\u001b[0m 3ms/step - accuracy: 0.8481 - loss: 0.3984 - val_accuracy: 0.8396 - val_loss: 0.4575\n",
      "Epoch 15/15\n",
      "\u001b[1m14/14\u001b[0m \u001b[32m━━━━━━━━━━━━━━━━━━━━\u001b[0m\u001b[37m\u001b[0m \u001b[1m0s\u001b[0m 3ms/step - accuracy: 0.8401 - loss: 0.3589 - val_accuracy: 0.8396 - val_loss: 0.4622\n",
      "\u001b[1m11/11\u001b[0m \u001b[32m━━━━━━━━━━━━━━━━━━━━\u001b[0m\u001b[37m\u001b[0m \u001b[1m0s\u001b[0m 3ms/step \n",
      "['Yes', 'Yes', 'Yes', 'Yes', 'Yes', 'No', 'Yes', 'No', 'Yes', 'Yes', 'Yes', 'Yes', 'Yes', 'Yes', 'Yes', 'Yes', 'Yes', 'Yes', 'Yes', 'Yes', 'No', 'Yes', 'Yes', 'Yes', 'Yes', 'Yes', 'Yes', 'Yes', 'Yes', 'No', 'Yes', 'Yes', 'Yes', 'Yes', 'Yes', 'Yes', 'Yes', 'Yes', 'Yes', 'Yes', 'Yes', 'Yes', 'Yes', 'Yes', 'Yes', 'Yes', 'Yes', 'Yes', 'No', 'No', 'Yes', 'Yes', 'No', 'Yes', 'Yes', 'Yes', 'Yes', 'No', 'Yes', 'Yes', 'No', 'No', 'Yes', 'No', 'Yes', 'Yes', 'Yes', 'Yes', 'Yes', 'Yes', 'Yes', 'Yes', 'Yes', 'Yes', 'No', 'No', 'Yes', 'No', 'Yes', 'Yes', 'Yes', 'Yes', 'Yes', 'Yes', 'Yes', 'No', 'Yes', 'Yes', 'Yes', 'Yes', 'Yes', 'Yes', 'No', 'Yes', 'No', 'Yes', 'Yes', 'No', 'Yes', 'Yes', 'Yes', 'Yes', 'Yes', 'Yes', 'Yes', 'Yes', 'Yes', 'No', 'No', 'No', 'No', 'Yes', 'Yes', 'Yes', 'Yes', 'No', 'Yes', 'Yes', 'Yes', 'Yes', 'Yes', 'Yes', 'Yes', 'Yes', 'Yes', 'Yes', 'Yes', 'Yes', 'Yes', 'No', 'Yes', 'No', 'Yes', 'No', 'Yes', 'Yes', 'Yes', 'Yes', 'Yes', 'No', 'Yes', 'Yes', 'Yes', 'Yes', 'Yes', 'Yes', 'Yes', 'No', 'Yes', 'Yes', 'Yes', 'No', 'No', 'Yes', 'No', 'Yes', 'Yes', 'Yes', 'Yes', 'No', 'No', 'Yes', 'Yes', 'Yes', 'Yes', 'Yes', 'Yes', 'Yes', 'Yes', 'Yes', 'Yes', 'Yes', 'No', 'Yes', 'No', 'No', 'Yes', 'No', 'Yes', 'No', 'Yes', 'Yes', 'Yes', 'Yes', 'Yes', 'Yes', 'Yes', 'Yes', 'Yes', 'Yes', 'Yes', 'Yes', 'No', 'Yes', 'Yes', 'Yes', 'Yes', 'Yes', 'Yes', 'Yes', 'Yes', 'Yes', 'Yes', 'Yes', 'Yes', 'No', 'Yes', 'Yes', 'Yes', 'Yes', 'No', 'Yes', 'Yes', 'Yes', 'Yes', 'No', 'No', 'Yes', 'Yes', 'Yes', 'No', 'Yes', 'No', 'Yes', 'No', 'Yes', 'No', 'Yes', 'No', 'Yes', 'Yes', 'Yes', 'Yes', 'No', 'Yes', 'Yes', 'Yes', 'Yes', 'Yes', 'Yes', 'Yes', 'Yes', 'Yes', 'No', 'Yes', 'No', 'Yes', 'Yes', 'Yes', 'No', 'No', 'Yes', 'Yes', 'Yes', 'No', 'Yes', 'Yes', 'Yes', 'No', 'Yes', 'Yes', 'Yes', 'Yes', 'Yes', 'Yes', 'No', 'No', 'Yes', 'Yes', 'Yes', 'No', 'Yes', 'Yes', 'Yes', 'No', 'No', 'Yes', 'Yes', 'Yes', 'Yes', 'Yes', 'Yes', 'Yes', 'No', 'Yes', 'Yes', 'Yes', 'Yes', 'Yes', 'No', 'No', 'Yes', 'Yes', 'No', 'Yes', 'Yes', 'No', 'Yes', 'Yes', 'Yes', 'Yes', 'Yes', 'Yes', 'Yes', 'Yes', 'Yes', 'Yes', 'Yes', 'Yes', 'No', 'Yes', 'Yes', 'No', 'Yes', 'Yes', 'No', 'Yes', 'Yes', 'Yes', 'Yes', 'Yes', 'Yes', 'No', 'Yes', 'Yes', 'Yes', 'Yes', 'Yes', 'Yes', 'Yes', 'Yes', 'Yes', 'Yes', 'Yes', 'Yes']\n"
     ]
    },
    {
     "name": "stderr",
     "output_type": "stream",
     "text": [
      "C:\\Users\\encry\\AppData\\Local\\Temp\\ipykernel_19700\\1110701930.py:31: SettingWithCopyWarning:\n",
      "\n",
      "\n",
      "A value is trying to be set on a copy of a slice from a DataFrame.\n",
      "Try using .loc[row_indexer,col_indexer] = value instead\n",
      "\n",
      "See the caveats in the documentation: https://pandas.pydata.org/pandas-docs/stable/user_guide/indexing.html#returning-a-view-versus-a-copy\n",
      "\n",
      "C:\\Users\\encry\\AppData\\Local\\Temp\\ipykernel_19700\\1110701930.py:32: SettingWithCopyWarning:\n",
      "\n",
      "\n",
      "A value is trying to be set on a copy of a slice from a DataFrame.\n",
      "Try using .loc[row_indexer,col_indexer] = value instead\n",
      "\n",
      "See the caveats in the documentation: https://pandas.pydata.org/pandas-docs/stable/user_guide/indexing.html#returning-a-view-versus-a-copy\n",
      "\n",
      "C:\\Users\\encry\\AppData\\Local\\Temp\\ipykernel_19700\\1110701930.py:33: SettingWithCopyWarning:\n",
      "\n",
      "\n",
      "A value is trying to be set on a copy of a slice from a DataFrame.\n",
      "Try using .loc[row_indexer,col_indexer] = value instead\n",
      "\n",
      "See the caveats in the documentation: https://pandas.pydata.org/pandas-docs/stable/user_guide/indexing.html#returning-a-view-versus-a-copy\n",
      "\n",
      "C:\\Users\\encry\\AppData\\Local\\Temp\\ipykernel_19700\\1110701930.py:34: SettingWithCopyWarning:\n",
      "\n",
      "\n",
      "A value is trying to be set on a copy of a slice from a DataFrame.\n",
      "Try using .loc[row_indexer,col_indexer] = value instead\n",
      "\n",
      "See the caveats in the documentation: https://pandas.pydata.org/pandas-docs/stable/user_guide/indexing.html#returning-a-view-versus-a-copy\n",
      "\n",
      "C:\\Users\\encry\\AppData\\Local\\Temp\\ipykernel_19700\\1110701930.py:36: SettingWithCopyWarning:\n",
      "\n",
      "\n",
      "A value is trying to be set on a copy of a slice from a DataFrame.\n",
      "Try using .loc[row_indexer,col_indexer] = value instead\n",
      "\n",
      "See the caveats in the documentation: https://pandas.pydata.org/pandas-docs/stable/user_guide/indexing.html#returning-a-view-versus-a-copy\n",
      "\n"
     ]
    }
   ],
   "source": [
    "df = prepare_data2('../data/raw_data.csv')\n",
    "\n",
    "X = df.drop(['Loan_Status'], axis=1)\n",
    "y = df['Loan_Status']\n",
    "\n",
    "X_train, X_test, y_train, y_test = train_test_split(X, y, test_size=0.2, random_state=42)\n",
    "\n",
    "scaler = StandardScaler()\n",
    "X_train_scaled = scaler.fit_transform(X_train)\n",
    "X_test_scaled = scaler.transform(X_test)\n",
    "\n",
    "def create_model():\n",
    "    model = Sequential([\n",
    "        Dense(27, activation='relu', input_shape=(27,)),\n",
    "        Dense(16, activation='relu'),\n",
    "        Dense(16, activation='relu'),\n",
    "        Dense(1, activation='sigmoid')\n",
    "    ])\n",
    "    model.compile(optimizer='adam', loss='binary_crossentropy', metrics=['accuracy'])\n",
    "    return model\n",
    "\n",
    "model = create_model()  \n",
    "model.fit(X_train_scaled, y_train, epochs=15, batch_size=32, validation_data=(X_test_scaled, y_test))\n",
    "\n",
    "joblib.dump(model, '../artifacts/model2.pkl')\n",
    "\n",
    "model = joblib.load('../artifacts/model2.pkl')\n",
    "\n",
    "datav = prepare_data2('../data/validation.csv')\n",
    "\n",
    "datav = datav.iloc[:, [0, 1, 3, 2, 4, 5, 7, 6, 8, 9, 10, 11, 12, 13, 14, 15, 16, 17, 18, 20, 19, 21, 22, 23, 24, 25, 26]]\n",
    "\n",
    "X_val_scaled = scaler.transform(datav)\n",
    "\n",
    "predictions = model.predict(X_val_scaled)\n",
    "\n",
    "predictions_arr = []\n",
    "\n",
    "for status in predictions:\n",
    "    if status > 0.5:\n",
    "        predictions_arr.append('Yes')\n",
    "    else:\n",
    "        predictions_arr.append('No')\n",
    "\n",
    "print(predictions_arr)"
   ]
  },
  {
   "cell_type": "markdown",
   "metadata": {},
   "source": [
    "--------------------------\n",
    "-----------------"
   ]
  },
  {
   "cell_type": "markdown",
   "metadata": {},
   "source": [
    "# Milestone 3: DASH Web Application Development"
   ]
  },
  {
   "cell_type": "markdown",
   "metadata": {},
   "source": [
    "# Step 10 Model deployment "
   ]
  },
  {
   "cell_type": "code",
   "execution_count": 56,
   "metadata": {},
   "outputs": [
    {
     "data": {
      "text/html": [
       "\n",
       "        <iframe\n",
       "            width=\"100%\"\n",
       "            height=\"650\"\n",
       "            src=\"http://127.0.0.1:8020/\"\n",
       "            frameborder=\"0\"\n",
       "            allowfullscreen\n",
       "            \n",
       "        ></iframe>\n",
       "        "
      ],
      "text/plain": [
       "<IPython.lib.display.IFrame at 0x1c121ff38c0>"
      ]
     },
     "metadata": {},
     "output_type": "display_data"
    },
    {
     "name": "stdout",
     "output_type": "stream",
     "text": [
      "---------------------------------------------------------------------------\n",
      "TypeError                                 Traceback (most recent call last)\n",
      "Cell In[24], line 76, in update_output(\n",
      "    n_clicks=3,\n",
      "    *inputs=('2343', 'adf', 'asdf', 'asdf', 'sdf', 'asdf', 'asf', 'asf', 'asfd', 'asf', 'safd', 'asdf')\n",
      ")\n",
      "     73 # Append data to CSV file\n",
      "     74 df.to_csv('../data/loan_applications.csv', mode='a', header=False, index=False)\n",
      "---> 76 return make_prediction()\n",
      "\n",
      "Cell In[56], line 79, in make_prediction()\n",
      "     78 def make_prediction():\n",
      "---> 79     prediction_data = prepare_data2('../data/loan_applications.csv')\n",
      "     80     model = joblib.load('../artifacts/model1.pkl')\n",
      "     82     scaler = StandardScaler()\n",
      "\n",
      "Cell In[49], line 12, in prepare_data2(data='../data/loan_applications.csv')\n",
      "      7 df_raw_new['Credit_History'] = df_raw_new['Credit_History'].astype(object)\n",
      "      8 missing_values = (\n",
      "      9     df_raw_new.isnull().sum()/len(df_raw_new)*100\n",
      "     10 ).round(0).astype(int)\n",
      "---> 12 df_raw_new['LoanAmount'].fillna(df_raw_new['LoanAmount'].mean(), inplace=True)\n",
      "        df_raw_new =   Gender Married Dependents Education Self_Employed ApplicantIncome  \\\n",
      "0   Male      No          1  Graduate            No           65654   \n",
      "1    adf    asdf       asdf       sdf          asdf             asf   \n",
      "2    adf    asdf       asdf       sdf          asdf             asf   \n",
      "3    adf    asdf       asdf       sdf          asdf             asf   \n",
      "\n",
      "  CoapplicantIncome LoanAmount Loan_Amount_Term Credit_History Property_Area  \n",
      "0           23432.0    23424.0            360.0            1.0         Rural  \n",
      "1               asf       asfd              asf           safd          asdf  \n",
      "2               asf       asfd              asf           safd          asdf  \n",
      "3               asf       asfd              asf           safd          asdf  \n",
      "     13 df_raw_new['Loan_Amount_Term'].fillna(df_raw_new['Loan_Amount_Term'].mode()[0], inplace=True) \n",
      "     14 df_raw_new['Credit_History'].fillna(df_raw_new['Credit_History'].mode()[0], inplace=True)\n",
      "\n",
      "File c:\\Users\\encry\\anaconda3\\envs\\MLG_382_Env\\Lib\\site-packages\\pandas\\core\\series.py:6549, in Series.mean(\n",
      "    self=0    23424.0\n",
      "1       asfd\n",
      "2       asfd\n",
      "3       asfd\n",
      "Name: LoanAmount, dtype: object,\n",
      "    axis=0,\n",
      "    skipna=True,\n",
      "    numeric_only=False,\n",
      "    **kwargs={}\n",
      ")\n",
      "   6541 @doc(make_doc(\"mean\", ndim=1))\n",
      "   6542 def mean(\n",
      "   6543     self,\n",
      "   (...)\n",
      "   6547     **kwargs,\n",
      "   6548 ):\n",
      "-> 6549     return NDFrame.mean(self, axis, skipna, numeric_only, **kwargs)\n",
      "        self = 0    23424.0\n",
      "1       asfd\n",
      "2       asfd\n",
      "3       asfd\n",
      "Name: LoanAmount, dtype: object\n",
      "        axis = 0\n",
      "        skipna = True\n",
      "        numeric_only = False\n",
      "        kwargs = {}\n",
      "\n",
      "File c:\\Users\\encry\\anaconda3\\envs\\MLG_382_Env\\Lib\\site-packages\\pandas\\core\\generic.py:12420, in NDFrame.mean(\n",
      "    self=0    23424.0\n",
      "1       asfd\n",
      "2       asfd\n",
      "3       asfd\n",
      "Name: LoanAmount, dtype: object,\n",
      "    axis=0,\n",
      "    skipna=True,\n",
      "    numeric_only=False,\n",
      "    **kwargs={}\n",
      ")\n",
      "  12413 def mean(\n",
      "  12414     self,\n",
      "  12415     axis: Axis | None = 0,\n",
      "   (...)\n",
      "  12418     **kwargs,\n",
      "  12419 ) -> Series | float:\n",
      "> 12420     return self._stat_function(\n",
      "        self = 0    23424.0\n",
      "1       asfd\n",
      "2       asfd\n",
      "3       asfd\n",
      "Name: LoanAmount, dtype: object\n",
      "        axis = 0\n",
      "        skipna = True\n",
      "        numeric_only = False\n",
      "        nanops = <module 'pandas.core.nanops' from 'c:\\\\Users\\\\encry\\\\anaconda3\\\\envs\\\\MLG_382_Env\\\\Lib\\\\site-packages\\\\pandas\\\\core\\\\nanops.py'>\n",
      "        kwargs = {}\n",
      "  12421         \"mean\", nanops.nanmean, axis, skipna, numeric_only, **kwargs\n",
      "  12422     )\n",
      "\n",
      "File c:\\Users\\encry\\anaconda3\\envs\\MLG_382_Env\\Lib\\site-packages\\pandas\\core\\generic.py:12377, in NDFrame._stat_function(\n",
      "    self=0    23424.0\n",
      "1       asfd\n",
      "2       asfd\n",
      "3       asfd\n",
      "Name: LoanAmount, dtype: object,\n",
      "    name='mean',\n",
      "    func=<function nanmean>,\n",
      "    axis=0,\n",
      "    skipna=True,\n",
      "    numeric_only=False,\n",
      "    **kwargs={}\n",
      ")\n",
      "  12373 nv.validate_func(name, (), kwargs)\n",
      "  12375 validate_bool_kwarg(skipna, \"skipna\", none_allowed=False)\n",
      "> 12377 return self._reduce(\n",
      "        self = 0    23424.0\n",
      "1       asfd\n",
      "2       asfd\n",
      "3       asfd\n",
      "Name: LoanAmount, dtype: object\n",
      "        name = 'mean'\n",
      "        skipna = True\n",
      "        func = <function nanmean at 0x000001C1536FE020>\n",
      "        axis = 0\n",
      "        numeric_only = False\n",
      "  12378     func, name=name, axis=axis, skipna=skipna, numeric_only=numeric_only\n",
      "  12379 )\n",
      "\n",
      "File c:\\Users\\encry\\anaconda3\\envs\\MLG_382_Env\\Lib\\site-packages\\pandas\\core\\series.py:6457, in Series._reduce(\n",
      "    self=0    23424.0\n",
      "1       asfd\n",
      "2       asfd\n",
      "3       asfd\n",
      "Name: LoanAmount, dtype: object,\n",
      "    op=<function nanmean>,\n",
      "    name='mean',\n",
      "    axis=0,\n",
      "    skipna=True,\n",
      "    numeric_only=False,\n",
      "    filter_type=None,\n",
      "    **kwds={}\n",
      ")\n",
      "   6452     # GH#47500 - change to TypeError to match other methods\n",
      "   6453     raise TypeError(\n",
      "   6454         f\"Series.{name} does not allow {kwd_name}={numeric_only} \"\n",
      "   6455         \"with non-numeric dtypes.\"\n",
      "   6456     )\n",
      "-> 6457 return op(delegate, skipna=skipna, **kwds)\n",
      "        delegate = array(['23424.0', 'asfd', 'asfd', 'asfd'], dtype=object)\n",
      "        op = <function nanmean at 0x000001C1536FE020>\n",
      "        skipna = True\n",
      "        kwds = {}\n",
      "\n",
      "File c:\\Users\\encry\\anaconda3\\envs\\MLG_382_Env\\Lib\\site-packages\\pandas\\core\\nanops.py:147, in bottleneck_switch.__call__.<locals>.f(\n",
      "    values=array(['23424.0', 'asfd', 'asfd', 'asfd'], dtype=object),\n",
      "    axis=None,\n",
      "    skipna=True,\n",
      "    **kwds={}\n",
      ")\n",
      "    145         result = alt(values, axis=axis, skipna=skipna, **kwds)\n",
      "    146 else:\n",
      "--> 147     result = alt(values, axis=axis, skipna=skipna, **kwds)\n",
      "        alt = <function nanmean at 0x000001C1536FDF80>\n",
      "        skipna = True\n",
      "        values = array(['23424.0', 'asfd', 'asfd', 'asfd'], dtype=object)\n",
      "        axis = None\n",
      "        kwds = {}\n",
      "    149 return result\n",
      "\n",
      "File c:\\Users\\encry\\anaconda3\\envs\\MLG_382_Env\\Lib\\site-packages\\pandas\\core\\nanops.py:404, in _datetimelike_compat.<locals>.new_func(\n",
      "    values=array(['23424.0', 'asfd', 'asfd', 'asfd'], dtype=object),\n",
      "    axis=None,\n",
      "    skipna=True,\n",
      "    mask=None,\n",
      "    **kwargs={}\n",
      ")\n",
      "    401 if datetimelike and mask is None:\n",
      "    402     mask = isna(values)\n",
      "--> 404 result = func(values, axis=axis, skipna=skipna, mask=mask, **kwargs)\n",
      "        values = array(['23424.0', 'asfd', 'asfd', 'asfd'], dtype=object)\n",
      "        func = <function nanmean at 0x000001C1536FDEE0>\n",
      "        mask = None\n",
      "        axis = None\n",
      "        skipna = True\n",
      "        kwargs = {}\n",
      "    406 if datetimelike:\n",
      "    407     result = _wrap_results(result, orig_values.dtype, fill_value=iNaT)\n",
      "\n",
      "File c:\\Users\\encry\\anaconda3\\envs\\MLG_382_Env\\Lib\\site-packages\\pandas\\core\\nanops.py:720, in nanmean(\n",
      "    values=array(['23424.0', 'asfd', 'asfd', 'asfd'], dtype=object),\n",
      "    axis=None,\n",
      "    skipna=True,\n",
      "    mask=array([False, False, False, False])\n",
      ")\n",
      "    718 count = _get_counts(values.shape, mask, axis, dtype=dtype_count)\n",
      "    719 the_sum = values.sum(axis, dtype=dtype_sum)\n",
      "--> 720 the_sum = _ensure_numeric(the_sum)\n",
      "        the_sum = '23424.0asfdasfdasfd'\n",
      "    722 if axis is not None and getattr(the_sum, \"ndim\", False):\n",
      "    723     count = cast(np.ndarray, count)\n",
      "\n",
      "File c:\\Users\\encry\\anaconda3\\envs\\MLG_382_Env\\Lib\\site-packages\\pandas\\core\\nanops.py:1701, in _ensure_numeric(x='23424.0asfdasfdasfd')\n",
      "   1698 elif not (is_float(x) or is_integer(x) or is_complex(x)):\n",
      "   1699     if isinstance(x, str):\n",
      "   1700         # GH#44008, GH#36703 avoid casting e.g. strings to numeric\n",
      "-> 1701         raise TypeError(f\"Could not convert string '{x}' to numeric\")\n",
      "   1702     try:\n",
      "   1703         x = float(x)\n",
      "\n",
      "TypeError: Could not convert string '23424.0asfdasfdasfd' to numeric\n",
      "\n",
      "---------------------------------------------------------------------------\n",
      "TypeError                                 Traceback (most recent call last)\n",
      "Cell In[24], line 76, in update_output(\n",
      "    n_clicks=4,\n",
      "    *inputs=('2343', 'adf', 'asdf', 'asdf', 'sdf', 'asdf', 'asf', 'asf', 'asfd', 'asf', 'safd', 'asdf')\n",
      ")\n",
      "     73 # Append data to CSV file\n",
      "     74 df.to_csv('../data/loan_applications.csv', mode='a', header=False, index=False)\n",
      "---> 76 return make_prediction()\n",
      "\n",
      "Cell In[56], line 79, in make_prediction()\n",
      "     78 def make_prediction():\n",
      "---> 79     prediction_data = prepare_data2('../data/loan_applications.csv')\n",
      "     80     model = joblib.load('../artifacts/model1.pkl')\n",
      "     82     scaler = StandardScaler()\n",
      "\n",
      "Cell In[49], line 12, in prepare_data2(data='../data/loan_applications.csv')\n",
      "      7 df_raw_new['Credit_History'] = df_raw_new['Credit_History'].astype(object)\n",
      "      8 missing_values = (\n",
      "      9     df_raw_new.isnull().sum()/len(df_raw_new)*100\n",
      "     10 ).round(0).astype(int)\n",
      "---> 12 df_raw_new['LoanAmount'].fillna(df_raw_new['LoanAmount'].mean(), inplace=True)\n",
      "        df_raw_new =   Gender Married Dependents Education Self_Employed ApplicantIncome  \\\n",
      "0   Male      No          1  Graduate            No           65654   \n",
      "1    adf    asdf       asdf       sdf          asdf             asf   \n",
      "2    adf    asdf       asdf       sdf          asdf             asf   \n",
      "3    adf    asdf       asdf       sdf          asdf             asf   \n",
      "4    adf    asdf       asdf       sdf          asdf             asf   \n",
      "\n",
      "  CoapplicantIncome LoanAmount Loan_Amount_Term Credit_History Property_Area  \n",
      "0           23432.0    23424.0            360.0            1.0         Rural  \n",
      "1               asf       asfd              asf           safd          asdf  \n",
      "2               asf       asfd              asf           safd          asdf  \n",
      "3               asf       asfd              asf           safd          asdf  \n",
      "4               asf       asfd              asf           safd          asdf  \n",
      "     13 df_raw_new['Loan_Amount_Term'].fillna(df_raw_new['Loan_Amount_Term'].mode()[0], inplace=True) \n",
      "     14 df_raw_new['Credit_History'].fillna(df_raw_new['Credit_History'].mode()[0], inplace=True)\n",
      "\n",
      "File c:\\Users\\encry\\anaconda3\\envs\\MLG_382_Env\\Lib\\site-packages\\pandas\\core\\series.py:6549, in Series.mean(\n",
      "    self=0    23424.0\n",
      "1       asfd\n",
      "2       asfd\n",
      "3       asfd\n",
      "4       asfd\n",
      "Name: LoanAmount, dtype: object,\n",
      "    axis=0,\n",
      "    skipna=True,\n",
      "    numeric_only=False,\n",
      "    **kwargs={}\n",
      ")\n",
      "   6541 @doc(make_doc(\"mean\", ndim=1))\n",
      "   6542 def mean(\n",
      "   6543     self,\n",
      "   (...)\n",
      "   6547     **kwargs,\n",
      "   6548 ):\n",
      "-> 6549     return NDFrame.mean(self, axis, skipna, numeric_only, **kwargs)\n",
      "        self = 0    23424.0\n",
      "1       asfd\n",
      "2       asfd\n",
      "3       asfd\n",
      "4       asfd\n",
      "Name: LoanAmount, dtype: object\n",
      "        axis = 0\n",
      "        skipna = True\n",
      "        numeric_only = False\n",
      "        kwargs = {}\n",
      "\n",
      "File c:\\Users\\encry\\anaconda3\\envs\\MLG_382_Env\\Lib\\site-packages\\pandas\\core\\generic.py:12420, in NDFrame.mean(\n",
      "    self=0    23424.0\n",
      "1       asfd\n",
      "2       asfd\n",
      "3       asfd\n",
      "4       asfd\n",
      "Name: LoanAmount, dtype: object,\n",
      "    axis=0,\n",
      "    skipna=True,\n",
      "    numeric_only=False,\n",
      "    **kwargs={}\n",
      ")\n",
      "  12413 def mean(\n",
      "  12414     self,\n",
      "  12415     axis: Axis | None = 0,\n",
      "   (...)\n",
      "  12418     **kwargs,\n",
      "  12419 ) -> Series | float:\n",
      "> 12420     return self._stat_function(\n",
      "        self = 0    23424.0\n",
      "1       asfd\n",
      "2       asfd\n",
      "3       asfd\n",
      "4       asfd\n",
      "Name: LoanAmount, dtype: object\n",
      "        axis = 0\n",
      "        skipna = True\n",
      "        numeric_only = False\n",
      "        nanops = <module 'pandas.core.nanops' from 'c:\\\\Users\\\\encry\\\\anaconda3\\\\envs\\\\MLG_382_Env\\\\Lib\\\\site-packages\\\\pandas\\\\core\\\\nanops.py'>\n",
      "        kwargs = {}\n",
      "  12421         \"mean\", nanops.nanmean, axis, skipna, numeric_only, **kwargs\n",
      "  12422     )\n",
      "\n",
      "File c:\\Users\\encry\\anaconda3\\envs\\MLG_382_Env\\Lib\\site-packages\\pandas\\core\\generic.py:12377, in NDFrame._stat_function(\n",
      "    self=0    23424.0\n",
      "1       asfd\n",
      "2       asfd\n",
      "3       asfd\n",
      "4       asfd\n",
      "Name: LoanAmount, dtype: object,\n",
      "    name='mean',\n",
      "    func=<function nanmean>,\n",
      "    axis=0,\n",
      "    skipna=True,\n",
      "    numeric_only=False,\n",
      "    **kwargs={}\n",
      ")\n",
      "  12373 nv.validate_func(name, (), kwargs)\n",
      "  12375 validate_bool_kwarg(skipna, \"skipna\", none_allowed=False)\n",
      "> 12377 return self._reduce(\n",
      "        self = 0    23424.0\n",
      "1       asfd\n",
      "2       asfd\n",
      "3       asfd\n",
      "4       asfd\n",
      "Name: LoanAmount, dtype: object\n",
      "        name = 'mean'\n",
      "        skipna = True\n",
      "        func = <function nanmean at 0x000001C1536FE020>\n",
      "        axis = 0\n",
      "        numeric_only = False\n",
      "  12378     func, name=name, axis=axis, skipna=skipna, numeric_only=numeric_only\n",
      "  12379 )\n",
      "\n",
      "File c:\\Users\\encry\\anaconda3\\envs\\MLG_382_Env\\Lib\\site-packages\\pandas\\core\\series.py:6457, in Series._reduce(\n",
      "    self=0    23424.0\n",
      "1       asfd\n",
      "2       asfd\n",
      "3       asfd\n",
      "4       asfd\n",
      "Name: LoanAmount, dtype: object,\n",
      "    op=<function nanmean>,\n",
      "    name='mean',\n",
      "    axis=0,\n",
      "    skipna=True,\n",
      "    numeric_only=False,\n",
      "    filter_type=None,\n",
      "    **kwds={}\n",
      ")\n",
      "   6452     # GH#47500 - change to TypeError to match other methods\n",
      "   6453     raise TypeError(\n",
      "   6454         f\"Series.{name} does not allow {kwd_name}={numeric_only} \"\n",
      "   6455         \"with non-numeric dtypes.\"\n",
      "   6456     )\n",
      "-> 6457 return op(delegate, skipna=skipna, **kwds)\n",
      "        delegate = array(['23424.0', 'asfd', 'asfd', 'asfd', 'asfd'], dtype=object)\n",
      "        op = <function nanmean at 0x000001C1536FE020>\n",
      "        skipna = True\n",
      "        kwds = {}\n",
      "\n",
      "File c:\\Users\\encry\\anaconda3\\envs\\MLG_382_Env\\Lib\\site-packages\\pandas\\core\\nanops.py:147, in bottleneck_switch.__call__.<locals>.f(\n",
      "    values=array(['23424.0', 'asfd', 'asfd', 'asfd', 'asfd'], dtype=object),\n",
      "    axis=None,\n",
      "    skipna=True,\n",
      "    **kwds={}\n",
      ")\n",
      "    145         result = alt(values, axis=axis, skipna=skipna, **kwds)\n",
      "    146 else:\n",
      "--> 147     result = alt(values, axis=axis, skipna=skipna, **kwds)\n",
      "        alt = <function nanmean at 0x000001C1536FDF80>\n",
      "        skipna = True\n",
      "        values = array(['23424.0', 'asfd', 'asfd', 'asfd', 'asfd'], dtype=object)\n",
      "        axis = None\n",
      "        kwds = {}\n",
      "    149 return result\n",
      "\n",
      "File c:\\Users\\encry\\anaconda3\\envs\\MLG_382_Env\\Lib\\site-packages\\pandas\\core\\nanops.py:404, in _datetimelike_compat.<locals>.new_func(\n",
      "    values=array(['23424.0', 'asfd', 'asfd', 'asfd', 'asfd'], dtype=object),\n",
      "    axis=None,\n",
      "    skipna=True,\n",
      "    mask=None,\n",
      "    **kwargs={}\n",
      ")\n",
      "    401 if datetimelike and mask is None:\n",
      "    402     mask = isna(values)\n",
      "--> 404 result = func(values, axis=axis, skipna=skipna, mask=mask, **kwargs)\n",
      "        values = array(['23424.0', 'asfd', 'asfd', 'asfd', 'asfd'], dtype=object)\n",
      "        func = <function nanmean at 0x000001C1536FDEE0>\n",
      "        mask = None\n",
      "        axis = None\n",
      "        skipna = True\n",
      "        kwargs = {}\n",
      "    406 if datetimelike:\n",
      "    407     result = _wrap_results(result, orig_values.dtype, fill_value=iNaT)\n",
      "\n",
      "File c:\\Users\\encry\\anaconda3\\envs\\MLG_382_Env\\Lib\\site-packages\\pandas\\core\\nanops.py:720, in nanmean(\n",
      "    values=array(['23424.0', 'asfd', 'asfd', 'asfd', 'asfd'], dtype=object),\n",
      "    axis=None,\n",
      "    skipna=True,\n",
      "    mask=array([False, False, False, False, False])\n",
      ")\n",
      "    718 count = _get_counts(values.shape, mask, axis, dtype=dtype_count)\n",
      "    719 the_sum = values.sum(axis, dtype=dtype_sum)\n",
      "--> 720 the_sum = _ensure_numeric(the_sum)\n",
      "        the_sum = '23424.0asfdasfdasfdasfd'\n",
      "    722 if axis is not None and getattr(the_sum, \"ndim\", False):\n",
      "    723     count = cast(np.ndarray, count)\n",
      "\n",
      "File c:\\Users\\encry\\anaconda3\\envs\\MLG_382_Env\\Lib\\site-packages\\pandas\\core\\nanops.py:1701, in _ensure_numeric(x='23424.0asfdasfdasfdasfd')\n",
      "   1698 elif not (is_float(x) or is_integer(x) or is_complex(x)):\n",
      "   1699     if isinstance(x, str):\n",
      "   1700         # GH#44008, GH#36703 avoid casting e.g. strings to numeric\n",
      "-> 1701         raise TypeError(f\"Could not convert string '{x}' to numeric\")\n",
      "   1702     try:\n",
      "   1703         x = float(x)\n",
      "\n",
      "TypeError: Could not convert string '23424.0asfdasfdasfdasfd' to numeric\n",
      "\n",
      "---------------------------------------------------------------------------\n",
      "TypeError                                 Traceback (most recent call last)\n",
      "Cell In[24], line 76, in update_output(\n",
      "    n_clicks=2,\n",
      "    *inputs=('2343', 'adf', 'asdf', 'asdf', 'sdf', 'asdf', 'asf', 'asf', 'asfd', 'asf', 'safd', 'asdf')\n",
      ")\n",
      "     73 # Append data to CSV file\n",
      "     74 df.to_csv('../data/loan_applications.csv', mode='a', header=False, index=False)\n",
      "---> 76 return make_prediction()\n",
      "\n",
      "Cell In[56], line 79, in make_prediction()\n",
      "     78 def make_prediction():\n",
      "---> 79     prediction_data = prepare_data2('../data/loan_applications.csv')\n",
      "     80     model = joblib.load('../artifacts/model1.pkl')\n",
      "     82     scaler = StandardScaler()\n",
      "\n",
      "Cell In[49], line 12, in prepare_data2(data='../data/loan_applications.csv')\n",
      "      7 df_raw_new['Credit_History'] = df_raw_new['Credit_History'].astype(object)\n",
      "      8 missing_values = (\n",
      "      9     df_raw_new.isnull().sum()/len(df_raw_new)*100\n",
      "     10 ).round(0).astype(int)\n",
      "---> 12 df_raw_new['LoanAmount'].fillna(df_raw_new['LoanAmount'].mean(), inplace=True)\n",
      "        df_raw_new =   Gender Married Dependents Education Self_Employed ApplicantIncome  \\\n",
      "0   Male      No          1  Graduate            No           65654   \n",
      "1    adf    asdf       asdf       sdf          asdf             asf   \n",
      "2    adf    asdf       asdf       sdf          asdf             asf   \n",
      "3    adf    asdf       asdf       sdf          asdf             asf   \n",
      "\n",
      "  CoapplicantIncome LoanAmount Loan_Amount_Term Credit_History Property_Area  \n",
      "0           23432.0    23424.0            360.0            1.0         Rural  \n",
      "1               asf       asfd              asf           safd          asdf  \n",
      "2               asf       asfd              asf           safd          asdf  \n",
      "3               asf       asfd              asf           safd          asdf  \n",
      "     13 df_raw_new['Loan_Amount_Term'].fillna(df_raw_new['Loan_Amount_Term'].mode()[0], inplace=True) \n",
      "     14 df_raw_new['Credit_History'].fillna(df_raw_new['Credit_History'].mode()[0], inplace=True)\n",
      "\n",
      "File c:\\Users\\encry\\anaconda3\\envs\\MLG_382_Env\\Lib\\site-packages\\pandas\\core\\series.py:6549, in Series.mean(\n",
      "    self=0    23424.0\n",
      "1       asfd\n",
      "2       asfd\n",
      "3       asfd\n",
      "Name: LoanAmount, dtype: object,\n",
      "    axis=0,\n",
      "    skipna=True,\n",
      "    numeric_only=False,\n",
      "    **kwargs={}\n",
      ")\n",
      "   6541 @doc(make_doc(\"mean\", ndim=1))\n",
      "   6542 def mean(\n",
      "   6543     self,\n",
      "   (...)\n",
      "   6547     **kwargs,\n",
      "   6548 ):\n",
      "-> 6549     return NDFrame.mean(self, axis, skipna, numeric_only, **kwargs)\n",
      "        self = 0    23424.0\n",
      "1       asfd\n",
      "2       asfd\n",
      "3       asfd\n",
      "Name: LoanAmount, dtype: object\n",
      "        axis = 0\n",
      "        skipna = True\n",
      "        numeric_only = False\n",
      "        kwargs = {}\n",
      "\n",
      "File c:\\Users\\encry\\anaconda3\\envs\\MLG_382_Env\\Lib\\site-packages\\pandas\\core\\generic.py:12420, in NDFrame.mean(\n",
      "    self=0    23424.0\n",
      "1       asfd\n",
      "2       asfd\n",
      "3       asfd\n",
      "Name: LoanAmount, dtype: object,\n",
      "    axis=0,\n",
      "    skipna=True,\n",
      "    numeric_only=False,\n",
      "    **kwargs={}\n",
      ")\n",
      "  12413 def mean(\n",
      "  12414     self,\n",
      "  12415     axis: Axis | None = 0,\n",
      "   (...)\n",
      "  12418     **kwargs,\n",
      "  12419 ) -> Series | float:\n",
      "> 12420     return self._stat_function(\n",
      "        self = 0    23424.0\n",
      "1       asfd\n",
      "2       asfd\n",
      "3       asfd\n",
      "Name: LoanAmount, dtype: object\n",
      "        axis = 0\n",
      "        skipna = True\n",
      "        numeric_only = False\n",
      "        nanops = <module 'pandas.core.nanops' from 'c:\\\\Users\\\\encry\\\\anaconda3\\\\envs\\\\MLG_382_Env\\\\Lib\\\\site-packages\\\\pandas\\\\core\\\\nanops.py'>\n",
      "        kwargs = {}\n",
      "  12421         \"mean\", nanops.nanmean, axis, skipna, numeric_only, **kwargs\n",
      "  12422     )\n",
      "\n",
      "File c:\\Users\\encry\\anaconda3\\envs\\MLG_382_Env\\Lib\\site-packages\\pandas\\core\\generic.py:12377, in NDFrame._stat_function(\n",
      "    self=0    23424.0\n",
      "1       asfd\n",
      "2       asfd\n",
      "3       asfd\n",
      "Name: LoanAmount, dtype: object,\n",
      "    name='mean',\n",
      "    func=<function nanmean>,\n",
      "    axis=0,\n",
      "    skipna=True,\n",
      "    numeric_only=False,\n",
      "    **kwargs={}\n",
      ")\n",
      "  12373 nv.validate_func(name, (), kwargs)\n",
      "  12375 validate_bool_kwarg(skipna, \"skipna\", none_allowed=False)\n",
      "> 12377 return self._reduce(\n",
      "        self = 0    23424.0\n",
      "1       asfd\n",
      "2       asfd\n",
      "3       asfd\n",
      "Name: LoanAmount, dtype: object\n",
      "        name = 'mean'\n",
      "        skipna = True\n",
      "        func = <function nanmean at 0x000001C1536FE020>\n",
      "        axis = 0\n",
      "        numeric_only = False\n",
      "  12378     func, name=name, axis=axis, skipna=skipna, numeric_only=numeric_only\n",
      "  12379 )\n",
      "\n",
      "File c:\\Users\\encry\\anaconda3\\envs\\MLG_382_Env\\Lib\\site-packages\\pandas\\core\\series.py:6457, in Series._reduce(\n",
      "    self=0    23424.0\n",
      "1       asfd\n",
      "2       asfd\n",
      "3       asfd\n",
      "Name: LoanAmount, dtype: object,\n",
      "    op=<function nanmean>,\n",
      "    name='mean',\n",
      "    axis=0,\n",
      "    skipna=True,\n",
      "    numeric_only=False,\n",
      "    filter_type=None,\n",
      "    **kwds={}\n",
      ")\n",
      "   6452     # GH#47500 - change to TypeError to match other methods\n",
      "   6453     raise TypeError(\n",
      "   6454         f\"Series.{name} does not allow {kwd_name}={numeric_only} \"\n",
      "   6455         \"with non-numeric dtypes.\"\n",
      "   6456     )\n",
      "-> 6457 return op(delegate, skipna=skipna, **kwds)\n",
      "        delegate = array(['23424.0', 'asfd', 'asfd', 'asfd'], dtype=object)\n",
      "        op = <function nanmean at 0x000001C1536FE020>\n",
      "        skipna = True\n",
      "        kwds = {}\n",
      "\n",
      "File c:\\Users\\encry\\anaconda3\\envs\\MLG_382_Env\\Lib\\site-packages\\pandas\\core\\nanops.py:147, in bottleneck_switch.__call__.<locals>.f(\n",
      "    values=array(['23424.0', 'asfd', 'asfd', 'asfd'], dtype=object),\n",
      "    axis=None,\n",
      "    skipna=True,\n",
      "    **kwds={}\n",
      ")\n",
      "    145         result = alt(values, axis=axis, skipna=skipna, **kwds)\n",
      "    146 else:\n",
      "--> 147     result = alt(values, axis=axis, skipna=skipna, **kwds)\n",
      "        alt = <function nanmean at 0x000001C1536FDF80>\n",
      "        skipna = True\n",
      "        values = array(['23424.0', 'asfd', 'asfd', 'asfd'], dtype=object)\n",
      "        axis = None\n",
      "        kwds = {}\n",
      "    149 return result\n",
      "\n",
      "File c:\\Users\\encry\\anaconda3\\envs\\MLG_382_Env\\Lib\\site-packages\\pandas\\core\\nanops.py:404, in _datetimelike_compat.<locals>.new_func(\n",
      "    values=array(['23424.0', 'asfd', 'asfd', 'asfd'], dtype=object),\n",
      "    axis=None,\n",
      "    skipna=True,\n",
      "    mask=None,\n",
      "    **kwargs={}\n",
      ")\n",
      "    401 if datetimelike and mask is None:\n",
      "    402     mask = isna(values)\n",
      "--> 404 result = func(values, axis=axis, skipna=skipna, mask=mask, **kwargs)\n",
      "        values = array(['23424.0', 'asfd', 'asfd', 'asfd'], dtype=object)\n",
      "        func = <function nanmean at 0x000001C1536FDEE0>\n",
      "        mask = None\n",
      "        axis = None\n",
      "        skipna = True\n",
      "        kwargs = {}\n",
      "    406 if datetimelike:\n",
      "    407     result = _wrap_results(result, orig_values.dtype, fill_value=iNaT)\n",
      "\n",
      "File c:\\Users\\encry\\anaconda3\\envs\\MLG_382_Env\\Lib\\site-packages\\pandas\\core\\nanops.py:720, in nanmean(\n",
      "    values=array(['23424.0', 'asfd', 'asfd', 'asfd'], dtype=object),\n",
      "    axis=None,\n",
      "    skipna=True,\n",
      "    mask=array([False, False, False, False])\n",
      ")\n",
      "    718 count = _get_counts(values.shape, mask, axis, dtype=dtype_count)\n",
      "    719 the_sum = values.sum(axis, dtype=dtype_sum)\n",
      "--> 720 the_sum = _ensure_numeric(the_sum)\n",
      "        the_sum = '23424.0asfdasfdasfd'\n",
      "    722 if axis is not None and getattr(the_sum, \"ndim\", False):\n",
      "    723     count = cast(np.ndarray, count)\n",
      "\n",
      "File c:\\Users\\encry\\anaconda3\\envs\\MLG_382_Env\\Lib\\site-packages\\pandas\\core\\nanops.py:1701, in _ensure_numeric(x='23424.0asfdasfdasfd')\n",
      "   1698 elif not (is_float(x) or is_integer(x) or is_complex(x)):\n",
      "   1699     if isinstance(x, str):\n",
      "   1700         # GH#44008, GH#36703 avoid casting e.g. strings to numeric\n",
      "-> 1701         raise TypeError(f\"Could not convert string '{x}' to numeric\")\n",
      "   1702     try:\n",
      "   1703         x = float(x)\n",
      "\n",
      "TypeError: Could not convert string '23424.0asfdasfdasfd' to numeric\n",
      "\n",
      "---------------------------------------------------------------------------\n",
      "TypeError                                 Traceback (most recent call last)\n",
      "Cell In[24], line 76, in update_output(\n",
      "    n_clicks=1,\n",
      "    *inputs=('2343', 'adf', 'asdf', 'asdf', 'sdf', 'asdf', 'asf', 'asf', 'asfd', 'asf', 'safd', 'asdf')\n",
      ")\n",
      "     73 # Append data to CSV file\n",
      "     74 df.to_csv('../data/loan_applications.csv', mode='a', header=False, index=False)\n",
      "---> 76 return make_prediction()\n",
      "\n",
      "Cell In[56], line 79, in make_prediction()\n",
      "     78 def make_prediction():\n",
      "---> 79     prediction_data = prepare_data2('../data/loan_applications.csv')\n",
      "     80     model = joblib.load('../artifacts/model1.pkl')\n",
      "     82     scaler = StandardScaler()\n",
      "\n",
      "Cell In[49], line 12, in prepare_data2(data='../data/loan_applications.csv')\n",
      "      7 df_raw_new['Credit_History'] = df_raw_new['Credit_History'].astype(object)\n",
      "      8 missing_values = (\n",
      "      9     df_raw_new.isnull().sum()/len(df_raw_new)*100\n",
      "     10 ).round(0).astype(int)\n",
      "---> 12 df_raw_new['LoanAmount'].fillna(df_raw_new['LoanAmount'].mean(), inplace=True)\n",
      "        df_raw_new =   Gender Married Dependents Education Self_Employed ApplicantIncome  \\\n",
      "0   Male      No          1  Graduate            No           65654   \n",
      "1    adf    asdf       asdf       sdf          asdf             asf   \n",
      "\n",
      "  CoapplicantIncome LoanAmount Loan_Amount_Term Credit_History Property_Area  \n",
      "0           23432.0    23424.0            360.0            1.0         Rural  \n",
      "1               asf       asfd              asf           safd          asdf  \n",
      "     13 df_raw_new['Loan_Amount_Term'].fillna(df_raw_new['Loan_Amount_Term'].mode()[0], inplace=True) \n",
      "     14 df_raw_new['Credit_History'].fillna(df_raw_new['Credit_History'].mode()[0], inplace=True)\n",
      "\n",
      "File c:\\Users\\encry\\anaconda3\\envs\\MLG_382_Env\\Lib\\site-packages\\pandas\\core\\series.py:6549, in Series.mean(\n",
      "    self=0    23424.0\n",
      "1       asfd\n",
      "Name: LoanAmount, dtype: object,\n",
      "    axis=0,\n",
      "    skipna=True,\n",
      "    numeric_only=False,\n",
      "    **kwargs={}\n",
      ")\n",
      "   6541 @doc(make_doc(\"mean\", ndim=1))\n",
      "   6542 def mean(\n",
      "   6543     self,\n",
      "   (...)\n",
      "   6547     **kwargs,\n",
      "   6548 ):\n",
      "-> 6549     return NDFrame.mean(self, axis, skipna, numeric_only, **kwargs)\n",
      "        self = 0    23424.0\n",
      "1       asfd\n",
      "Name: LoanAmount, dtype: object\n",
      "        axis = 0\n",
      "        skipna = True\n",
      "        numeric_only = False\n",
      "        kwargs = {}\n",
      "\n",
      "File c:\\Users\\encry\\anaconda3\\envs\\MLG_382_Env\\Lib\\site-packages\\pandas\\core\\generic.py:12420, in NDFrame.mean(\n",
      "    self=0    23424.0\n",
      "1       asfd\n",
      "Name: LoanAmount, dtype: object,\n",
      "    axis=0,\n",
      "    skipna=True,\n",
      "    numeric_only=False,\n",
      "    **kwargs={}\n",
      ")\n",
      "  12413 def mean(\n",
      "  12414     self,\n",
      "  12415     axis: Axis | None = 0,\n",
      "   (...)\n",
      "  12418     **kwargs,\n",
      "  12419 ) -> Series | float:\n",
      "> 12420     return self._stat_function(\n",
      "        self = 0    23424.0\n",
      "1       asfd\n",
      "Name: LoanAmount, dtype: object\n",
      "        axis = 0\n",
      "        skipna = True\n",
      "        numeric_only = False\n",
      "        nanops = <module 'pandas.core.nanops' from 'c:\\\\Users\\\\encry\\\\anaconda3\\\\envs\\\\MLG_382_Env\\\\Lib\\\\site-packages\\\\pandas\\\\core\\\\nanops.py'>\n",
      "        kwargs = {}\n",
      "  12421         \"mean\", nanops.nanmean, axis, skipna, numeric_only, **kwargs\n",
      "  12422     )\n",
      "\n",
      "File c:\\Users\\encry\\anaconda3\\envs\\MLG_382_Env\\Lib\\site-packages\\pandas\\core\\generic.py:12377, in NDFrame._stat_function(\n",
      "    self=0    23424.0\n",
      "1       asfd\n",
      "Name: LoanAmount, dtype: object,\n",
      "    name='mean',\n",
      "    func=<function nanmean>,\n",
      "    axis=0,\n",
      "    skipna=True,\n",
      "    numeric_only=False,\n",
      "    **kwargs={}\n",
      ")\n",
      "  12373 nv.validate_func(name, (), kwargs)\n",
      "  12375 validate_bool_kwarg(skipna, \"skipna\", none_allowed=False)\n",
      "> 12377 return self._reduce(\n",
      "        self = 0    23424.0\n",
      "1       asfd\n",
      "Name: LoanAmount, dtype: object\n",
      "        name = 'mean'\n",
      "        skipna = True\n",
      "        func = <function nanmean at 0x000001C1536FE020>\n",
      "        axis = 0\n",
      "        numeric_only = False\n",
      "  12378     func, name=name, axis=axis, skipna=skipna, numeric_only=numeric_only\n",
      "  12379 )\n",
      "\n",
      "File c:\\Users\\encry\\anaconda3\\envs\\MLG_382_Env\\Lib\\site-packages\\pandas\\core\\series.py:6457, in Series._reduce(\n",
      "    self=0    23424.0\n",
      "1       asfd\n",
      "Name: LoanAmount, dtype: object,\n",
      "    op=<function nanmean>,\n",
      "    name='mean',\n",
      "    axis=0,\n",
      "    skipna=True,\n",
      "    numeric_only=False,\n",
      "    filter_type=None,\n",
      "    **kwds={}\n",
      ")\n",
      "   6452     # GH#47500 - change to TypeError to match other methods\n",
      "   6453     raise TypeError(\n",
      "   6454         f\"Series.{name} does not allow {kwd_name}={numeric_only} \"\n",
      "   6455         \"with non-numeric dtypes.\"\n",
      "   6456     )\n",
      "-> 6457 return op(delegate, skipna=skipna, **kwds)\n",
      "        delegate = array(['23424.0', 'asfd'], dtype=object)\n",
      "        op = <function nanmean at 0x000001C1536FE020>\n",
      "        skipna = True\n",
      "        kwds = {}\n",
      "\n",
      "File c:\\Users\\encry\\anaconda3\\envs\\MLG_382_Env\\Lib\\site-packages\\pandas\\core\\nanops.py:147, in bottleneck_switch.__call__.<locals>.f(\n",
      "    values=array(['23424.0', 'asfd'], dtype=object),\n",
      "    axis=None,\n",
      "    skipna=True,\n",
      "    **kwds={}\n",
      ")\n",
      "    145         result = alt(values, axis=axis, skipna=skipna, **kwds)\n",
      "    146 else:\n",
      "--> 147     result = alt(values, axis=axis, skipna=skipna, **kwds)\n",
      "        alt = <function nanmean at 0x000001C1536FDF80>\n",
      "        skipna = True\n",
      "        values = array(['23424.0', 'asfd'], dtype=object)\n",
      "        axis = None\n",
      "        kwds = {}\n",
      "    149 return result\n",
      "\n",
      "File c:\\Users\\encry\\anaconda3\\envs\\MLG_382_Env\\Lib\\site-packages\\pandas\\core\\nanops.py:404, in _datetimelike_compat.<locals>.new_func(\n",
      "    values=array(['23424.0', 'asfd'], dtype=object),\n",
      "    axis=None,\n",
      "    skipna=True,\n",
      "    mask=None,\n",
      "    **kwargs={}\n",
      ")\n",
      "    401 if datetimelike and mask is None:\n",
      "    402     mask = isna(values)\n",
      "--> 404 result = func(values, axis=axis, skipna=skipna, mask=mask, **kwargs)\n",
      "        values = array(['23424.0', 'asfd'], dtype=object)\n",
      "        func = <function nanmean at 0x000001C1536FDEE0>\n",
      "        mask = None\n",
      "        axis = None\n",
      "        skipna = True\n",
      "        kwargs = {}\n",
      "    406 if datetimelike:\n",
      "    407     result = _wrap_results(result, orig_values.dtype, fill_value=iNaT)\n",
      "\n",
      "File c:\\Users\\encry\\anaconda3\\envs\\MLG_382_Env\\Lib\\site-packages\\pandas\\core\\nanops.py:720, in nanmean(\n",
      "    values=array(['23424.0', 'asfd'], dtype=object),\n",
      "    axis=None,\n",
      "    skipna=True,\n",
      "    mask=array([False, False])\n",
      ")\n",
      "    718 count = _get_counts(values.shape, mask, axis, dtype=dtype_count)\n",
      "    719 the_sum = values.sum(axis, dtype=dtype_sum)\n",
      "--> 720 the_sum = _ensure_numeric(the_sum)\n",
      "        the_sum = '23424.0asfd'\n",
      "    722 if axis is not None and getattr(the_sum, \"ndim\", False):\n",
      "    723     count = cast(np.ndarray, count)\n",
      "\n",
      "File c:\\Users\\encry\\anaconda3\\envs\\MLG_382_Env\\Lib\\site-packages\\pandas\\core\\nanops.py:1701, in _ensure_numeric(x='23424.0asfd')\n",
      "   1698 elif not (is_float(x) or is_integer(x) or is_complex(x)):\n",
      "   1699     if isinstance(x, str):\n",
      "   1700         # GH#44008, GH#36703 avoid casting e.g. strings to numeric\n",
      "-> 1701         raise TypeError(f\"Could not convert string '{x}' to numeric\")\n",
      "   1702     try:\n",
      "   1703         x = float(x)\n",
      "\n",
      "TypeError: Could not convert string '23424.0asfd' to numeric\n",
      "\n",
      "---------------------------------------------------------------------------\n",
      "TypeError                                 Traceback (most recent call last)\n",
      "Cell In[24], line 76, in update_output(\n",
      "    n_clicks=1,\n",
      "    *inputs=('asdf', 'asdf', 'asdf', 'asdff', 'asdf', 'sadf', 'asdf', 'adf', 'as', 'asf', 'asdf', 'asdf')\n",
      ")\n",
      "     73 # Append data to CSV file\n",
      "     74 df.to_csv('../data/loan_applications.csv', mode='a', header=False, index=False)\n",
      "---> 76 return make_prediction()\n",
      "\n",
      "Cell In[56], line 79, in make_prediction()\n",
      "     78 def make_prediction():\n",
      "---> 79     prediction_data = prepare_data2('../data/loan_applications.csv')\n",
      "     80     model = joblib.load('../artifacts/model1.pkl')\n",
      "     82     scaler = StandardScaler()\n",
      "\n",
      "Cell In[49], line 12, in prepare_data2(data='../data/loan_applications.csv')\n",
      "      7 df_raw_new['Credit_History'] = df_raw_new['Credit_History'].astype(object)\n",
      "      8 missing_values = (\n",
      "      9     df_raw_new.isnull().sum()/len(df_raw_new)*100\n",
      "     10 ).round(0).astype(int)\n",
      "---> 12 df_raw_new['LoanAmount'].fillna(df_raw_new['LoanAmount'].mean(), inplace=True)\n",
      "        df_raw_new =   Gender Married Dependents Education Self_Employed ApplicantIncome  \\\n",
      "0   Male      No          1  Graduate            No           65654   \n",
      "1    adf    asdf       asdf       sdf          asdf             asf   \n",
      "2    adf    asdf       asdf       sdf          asdf             asf   \n",
      "3    adf    asdf       asdf       sdf          asdf             asf   \n",
      "4    adf    asdf       asdf       sdf          asdf             asf   \n",
      "5   asdf    asdf      asdff      asdf          sadf            asdf   \n",
      "\n",
      "  CoapplicantIncome LoanAmount Loan_Amount_Term Credit_History Property_Area  \n",
      "0           23432.0    23424.0            360.0            1.0         Rural  \n",
      "1               asf       asfd              asf           safd          asdf  \n",
      "2               asf       asfd              asf           safd          asdf  \n",
      "3               asf       asfd              asf           safd          asdf  \n",
      "4               asf       asfd              asf           safd          asdf  \n",
      "5               adf         as              asf           asdf          asdf  \n",
      "     13 df_raw_new['Loan_Amount_Term'].fillna(df_raw_new['Loan_Amount_Term'].mode()[0], inplace=True) \n",
      "     14 df_raw_new['Credit_History'].fillna(df_raw_new['Credit_History'].mode()[0], inplace=True)\n",
      "\n",
      "File c:\\Users\\encry\\anaconda3\\envs\\MLG_382_Env\\Lib\\site-packages\\pandas\\core\\series.py:6549, in Series.mean(\n",
      "    self=0    23424.0\n",
      "1       asfd\n",
      "2       asfd\n",
      "3       a...asfd\n",
      "5         as\n",
      "Name: LoanAmount, dtype: object,\n",
      "    axis=0,\n",
      "    skipna=True,\n",
      "    numeric_only=False,\n",
      "    **kwargs={}\n",
      ")\n",
      "   6541 @doc(make_doc(\"mean\", ndim=1))\n",
      "   6542 def mean(\n",
      "   6543     self,\n",
      "   (...)\n",
      "   6547     **kwargs,\n",
      "   6548 ):\n",
      "-> 6549     return NDFrame.mean(self, axis, skipna, numeric_only, **kwargs)\n",
      "        self = 0    23424.0\n",
      "1       asfd\n",
      "2       asfd\n",
      "3       asfd\n",
      "4       asfd\n",
      "5         as\n",
      "Name: LoanAmount, dtype: object\n",
      "        axis = 0\n",
      "        skipna = True\n",
      "        numeric_only = False\n",
      "        kwargs = {}\n",
      "\n",
      "File c:\\Users\\encry\\anaconda3\\envs\\MLG_382_Env\\Lib\\site-packages\\pandas\\core\\generic.py:12420, in NDFrame.mean(\n",
      "    self=0    23424.0\n",
      "1       asfd\n",
      "2       asfd\n",
      "3       a...asfd\n",
      "5         as\n",
      "Name: LoanAmount, dtype: object,\n",
      "    axis=0,\n",
      "    skipna=True,\n",
      "    numeric_only=False,\n",
      "    **kwargs={}\n",
      ")\n",
      "  12413 def mean(\n",
      "  12414     self,\n",
      "  12415     axis: Axis | None = 0,\n",
      "   (...)\n",
      "  12418     **kwargs,\n",
      "  12419 ) -> Series | float:\n",
      "> 12420     return self._stat_function(\n",
      "        self = 0    23424.0\n",
      "1       asfd\n",
      "2       asfd\n",
      "3       asfd\n",
      "4       asfd\n",
      "5         as\n",
      "Name: LoanAmount, dtype: object\n",
      "        axis = 0\n",
      "        skipna = True\n",
      "        numeric_only = False\n",
      "        nanops = <module 'pandas.core.nanops' from 'c:\\\\Users\\\\encry\\\\anaconda3\\\\envs\\\\MLG_382_Env\\\\Lib\\\\site-packages\\\\pandas\\\\core\\\\nanops.py'>\n",
      "        kwargs = {}\n",
      "  12421         \"mean\", nanops.nanmean, axis, skipna, numeric_only, **kwargs\n",
      "  12422     )\n",
      "\n",
      "File c:\\Users\\encry\\anaconda3\\envs\\MLG_382_Env\\Lib\\site-packages\\pandas\\core\\generic.py:12377, in NDFrame._stat_function(\n",
      "    self=0    23424.0\n",
      "1       asfd\n",
      "2       asfd\n",
      "3       a...asfd\n",
      "5         as\n",
      "Name: LoanAmount, dtype: object,\n",
      "    name='mean',\n",
      "    func=<function nanmean>,\n",
      "    axis=0,\n",
      "    skipna=True,\n",
      "    numeric_only=False,\n",
      "    **kwargs={}\n",
      ")\n",
      "  12373 nv.validate_func(name, (), kwargs)\n",
      "  12375 validate_bool_kwarg(skipna, \"skipna\", none_allowed=False)\n",
      "> 12377 return self._reduce(\n",
      "        self = 0    23424.0\n",
      "1       asfd\n",
      "2       asfd\n",
      "3       asfd\n",
      "4       asfd\n",
      "5         as\n",
      "Name: LoanAmount, dtype: object\n",
      "        name = 'mean'\n",
      "        skipna = True\n",
      "        func = <function nanmean at 0x000001C1536FE020>\n",
      "        axis = 0\n",
      "        numeric_only = False\n",
      "  12378     func, name=name, axis=axis, skipna=skipna, numeric_only=numeric_only\n",
      "  12379 )\n",
      "\n",
      "File c:\\Users\\encry\\anaconda3\\envs\\MLG_382_Env\\Lib\\site-packages\\pandas\\core\\series.py:6457, in Series._reduce(\n",
      "    self=0    23424.0\n",
      "1       asfd\n",
      "2       asfd\n",
      "3       a...asfd\n",
      "5         as\n",
      "Name: LoanAmount, dtype: object,\n",
      "    op=<function nanmean>,\n",
      "    name='mean',\n",
      "    axis=0,\n",
      "    skipna=True,\n",
      "    numeric_only=False,\n",
      "    filter_type=None,\n",
      "    **kwds={}\n",
      ")\n",
      "   6452     # GH#47500 - change to TypeError to match other methods\n",
      "   6453     raise TypeError(\n",
      "   6454         f\"Series.{name} does not allow {kwd_name}={numeric_only} \"\n",
      "   6455         \"with non-numeric dtypes.\"\n",
      "   6456     )\n",
      "-> 6457 return op(delegate, skipna=skipna, **kwds)\n",
      "        delegate = array(['23424.0', 'asfd', 'asfd', 'asfd', 'asfd', 'as'], dtype=object)\n",
      "        op = <function nanmean at 0x000001C1536FE020>\n",
      "        skipna = True\n",
      "        kwds = {}\n",
      "\n",
      "File c:\\Users\\encry\\anaconda3\\envs\\MLG_382_Env\\Lib\\site-packages\\pandas\\core\\nanops.py:147, in bottleneck_switch.__call__.<locals>.f(\n",
      "    values=array(['23424.0', 'asfd', 'asfd', 'asfd', 'asfd', 'as'], dtype=object),\n",
      "    axis=None,\n",
      "    skipna=True,\n",
      "    **kwds={}\n",
      ")\n",
      "    145         result = alt(values, axis=axis, skipna=skipna, **kwds)\n",
      "    146 else:\n",
      "--> 147     result = alt(values, axis=axis, skipna=skipna, **kwds)\n",
      "        alt = <function nanmean at 0x000001C1536FDF80>\n",
      "        skipna = True\n",
      "        values = array(['23424.0', 'asfd', 'asfd', 'asfd', 'asfd', 'as'], dtype=object)\n",
      "        axis = None\n",
      "        kwds = {}\n",
      "    149 return result\n",
      "\n",
      "File c:\\Users\\encry\\anaconda3\\envs\\MLG_382_Env\\Lib\\site-packages\\pandas\\core\\nanops.py:404, in _datetimelike_compat.<locals>.new_func(\n",
      "    values=array(['23424.0', 'asfd', 'asfd', 'asfd', 'asfd', 'as'], dtype=object),\n",
      "    axis=None,\n",
      "    skipna=True,\n",
      "    mask=None,\n",
      "    **kwargs={}\n",
      ")\n",
      "    401 if datetimelike and mask is None:\n",
      "    402     mask = isna(values)\n",
      "--> 404 result = func(values, axis=axis, skipna=skipna, mask=mask, **kwargs)\n",
      "        values = array(['23424.0', 'asfd', 'asfd', 'asfd', 'asfd', 'as'], dtype=object)\n",
      "        func = <function nanmean at 0x000001C1536FDEE0>\n",
      "        mask = None\n",
      "        axis = None\n",
      "        skipna = True\n",
      "        kwargs = {}\n",
      "    406 if datetimelike:\n",
      "    407     result = _wrap_results(result, orig_values.dtype, fill_value=iNaT)\n",
      "\n",
      "File c:\\Users\\encry\\anaconda3\\envs\\MLG_382_Env\\Lib\\site-packages\\pandas\\core\\nanops.py:720, in nanmean(\n",
      "    values=array(['23424.0', 'asfd', 'asfd', 'asfd', 'asfd', 'as'], dtype=object),\n",
      "    axis=None,\n",
      "    skipna=True,\n",
      "    mask=array([False, False, False, False, False, False])\n",
      ")\n",
      "    718 count = _get_counts(values.shape, mask, axis, dtype=dtype_count)\n",
      "    719 the_sum = values.sum(axis, dtype=dtype_sum)\n",
      "--> 720 the_sum = _ensure_numeric(the_sum)\n",
      "        the_sum = '23424.0asfdasfdasfdasfdas'\n",
      "    722 if axis is not None and getattr(the_sum, \"ndim\", False):\n",
      "    723     count = cast(np.ndarray, count)\n",
      "\n",
      "File c:\\Users\\encry\\anaconda3\\envs\\MLG_382_Env\\Lib\\site-packages\\pandas\\core\\nanops.py:1701, in _ensure_numeric(x='23424.0asfdasfdasfdasfdas')\n",
      "   1698 elif not (is_float(x) or is_integer(x) or is_complex(x)):\n",
      "   1699     if isinstance(x, str):\n",
      "   1700         # GH#44008, GH#36703 avoid casting e.g. strings to numeric\n",
      "-> 1701         raise TypeError(f\"Could not convert string '{x}' to numeric\")\n",
      "   1702     try:\n",
      "   1703         x = float(x)\n",
      "\n",
      "TypeError: Could not convert string '23424.0asfdasfdasfdasfdas' to numeric\n",
      "\n"
     ]
    }
   ],
   "source": [
    "# Initialize Dash app\n",
    "app = dash.Dash(__name__)\n",
    "server = app.server\n",
    "\n",
    "# Define layout\n",
    "app.layout = html.Div([\n",
    "    html.H1(\"Loan Application\"),\n",
    "    html.Div([\n",
    "        html.Label(\"Loan_ID\"),\n",
    "        dcc.Input(id='input1', type='text')\n",
    "    ]),\n",
    "    html.Div([\n",
    "        html.Label(\"Gender\"),\n",
    "        dcc.Input(id='input2', type='text')\n",
    "    ]),\n",
    "    html.Div([\n",
    "        html.Label(\"Married\"),\n",
    "        dcc.Input(id='input3', type='text')\n",
    "    ]),\n",
    "    html.Div([\n",
    "        html.Label(\"Dependents\"),\n",
    "        dcc.Input(id='input4', type='text')\n",
    "    ]),\n",
    "    html.Div([\n",
    "        html.Label(\"Education\"),\n",
    "        dcc.Input(id='input5', type='text')\n",
    "    ]),\n",
    "    html.Div([\n",
    "        html.Label(\"Self_Employed\"),\n",
    "        dcc.Input(id='input6', type='text')\n",
    "    ]),\n",
    "    html.Div([\n",
    "        html.Label(\"ApplicantIncome\"),\n",
    "        dcc.Input(id='input7', type='text')\n",
    "    ]),\n",
    "    html.Div([\n",
    "        html.Label(\"CoapplicantIncome\"),\n",
    "        dcc.Input(id='input8', type='text')\n",
    "    ]),\n",
    "    html.Div([\n",
    "        html.Label(\"LoanAmount\"),\n",
    "        dcc.Input(id='input9', type='text')\n",
    "    ]),\n",
    "    html.Div([\n",
    "        html.Label(\"Loan_Amount_Term\"),\n",
    "        dcc.Input(id='input10', type='text')\n",
    "    ]),\n",
    "    html.Div([\n",
    "        html.Label(\"Credit_History\"),\n",
    "        dcc.Input(id='input11', type='text')\n",
    "    ]),\n",
    "    html.Div([\n",
    "        html.Label(\"Property_Area\"),\n",
    "        dcc.Input(id='input12', type='text')\n",
    "    ]),\n",
    "    \n",
    "    html.Button('Submit', id='submit-val', n_clicks=0),\n",
    "    html.Div(id='output-div')\n",
    "])\n",
    "\n",
    "# Callback to handle button click and write to CSV\n",
    "@app.callback(\n",
    "    Output('output-div', 'children'),\n",
    "    [Input('submit-val', 'n_clicks')],\n",
    "    [Input('input{}'.format(i), 'value') for i in range(1, 13)]\n",
    ")\n",
    "def update_output(n_clicks, *inputs):\n",
    "    if n_clicks > 0:\n",
    "        # Create a DataFrame with the input data\n",
    "        data = {'Input {}'.format(i): [val] for i, val in enumerate(inputs, start=1)}\n",
    "        df = pd.DataFrame(data)\n",
    "        \n",
    "        # Append data to CSV file\n",
    "        df.to_csv('../data/loan_applications.csv', mode='a', header=False, index=False)\n",
    "        \n",
    "        return make_prediction()\n",
    "    \n",
    "def make_prediction():\n",
    "    prediction_data = prepare_data2('../data/loan_applications.csv')\n",
    "    model = joblib.load('../artifacts/model1.pkl')\n",
    "    \n",
    "    scaler = StandardScaler()\n",
    "    scaled_input = scaler.transform(prediction_data)\n",
    "    \n",
    "    prediction = model.predict(scaled_input)\n",
    "    \n",
    "    return prediction\n",
    "\n",
    "if __name__ == '__main__':\n",
    "    app.run_server(debug=True, port = 8020)"
   ]
  }
 ],
 "metadata": {
  "kernelspec": {
   "display_name": "Python 3",
   "language": "python",
   "name": "python3"
  },
  "language_info": {
   "codemirror_mode": {
    "name": "ipython",
    "version": 3
   },
   "file_extension": ".py",
   "mimetype": "text/x-python",
   "name": "python",
   "nbconvert_exporter": "python",
   "pygments_lexer": "ipython3",
   "version": "3.12.3"
  }
 },
 "nbformat": 4,
 "nbformat_minor": 2
}
